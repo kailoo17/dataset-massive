{
  "nbformat": 4,
  "nbformat_minor": 0,
  "metadata": {
    "colab": {
      "provenance": []
    },
    "kernelspec": {
      "name": "python3",
      "display_name": "Python 3"
    },
    "language_info": {
      "name": "python"
    }
  },
  "cells": [
    {
      "cell_type": "code",
      "execution_count": null,
      "metadata": {
        "id": "jeptf-h03MBw"
      },
      "outputs": [],
      "source": [
        "{'bahan' : 'ingredient', 'bisa' : 'can', 'rak' : 'rack', 'panjang' : 'long', 'untuk' : 'to', 'rambut' : 'hair', 'bayi' : 'baby', 'celana' : 'pants', 'isi' : 'contents', 'grosir' : 'wholesaler', 'tas' : 'bag', 'kaki' : 'feet', 'kaos' : 't-shirt', 'lampu' : 'light', 'tali' : 'rope', 'pria' : 'men', 'dan' : 'and', 'plastik' : 'plastic', 'baju' : 'clothes', 'putih' : 'white', 'alat' : 'tool', 'paket' : 'package', 'mobil' : 'car', 'gamis' : 'robe', 'tempat' : 'the place', 'anak' : 'child', 'warna' : 'color', 'dompet' : 'purse', 'wanita' : 'women', 'wajah' : 'face', 'termurah' : 'cheapest', 'mainan' : 'toy', 'sabun' : 'soap', 'dengan' : 'with', 'jilbab' : 'hijab', 'hitam' : 'black', 'tangan' : 'hand', 'karakter' : 'character', 'murah' : 'cheap', 'sarung' : 'scabbard', 'sepatu' : 'shoes', 'pendek' : 'short', 'botol' : 'bottle', 'kain' : 'fabric'}"
      ]
    }
  ]
}
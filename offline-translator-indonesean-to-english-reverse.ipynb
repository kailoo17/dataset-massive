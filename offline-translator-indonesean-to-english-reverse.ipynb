{
 "cells": [
  {
   "cell_type": "markdown",
   "id": "dynamic-involvement",
   "metadata": {
    "_cell_guid": "b1076dfc-b9ad-4769-8c92-a6c4dae69d19",
    "_uuid": "8f2839f25d086af736a60e9eeb907d3b93b6e0e5",
    "papermill": {
     "duration": 0.035207,
     "end_time": "2021-04-13T15:13:04.431351",
     "exception": false,
     "start_time": "2021-04-13T15:13:04.396144",
     "status": "completed"
    },
    "tags": []
   },
   "source": [
    "We create a domain specific dictionary of 2000+ Indonesean to English words. These are the Indonesan words present in the 'title' field of the training data provided by Shoppee. We explore various versions of Bert, Bart and google translate to make sense of this data"
   ]
  },
  {
   "cell_type": "code",
   "execution_count": 1,
   "id": "junior-antique",
   "metadata": {
    "execution": {
     "iopub.execute_input": "2021-04-13T15:13:04.509097Z",
     "iopub.status.busy": "2021-04-13T15:13:04.508296Z",
     "iopub.status.idle": "2021-04-13T15:13:04.513135Z",
     "shell.execute_reply": "2021-04-13T15:13:04.512326Z"
    },
    "papermill": {
     "duration": 0.045721,
     "end_time": "2021-04-13T15:13:04.513302",
     "exception": false,
     "start_time": "2021-04-13T15:13:04.467581",
     "status": "completed"
    },
    "tags": []
   },
   "outputs": [],
   "source": [
    "import numpy as np\n",
    "import pandas as pd"
   ]
  },
  {
   "cell_type": "code",
   "execution_count": 2,
   "id": "acquired-minneapolis",
   "metadata": {
    "execution": {
     "iopub.execute_input": "2021-04-13T15:13:04.587446Z",
     "iopub.status.busy": "2021-04-13T15:13:04.586766Z",
     "iopub.status.idle": "2021-04-13T15:13:04.856582Z",
     "shell.execute_reply": "2021-04-13T15:13:04.857261Z"
    },
    "papermill": {
     "duration": 0.309666,
     "end_time": "2021-04-13T15:13:04.857482",
     "exception": false,
     "start_time": "2021-04-13T15:13:04.547816",
     "status": "completed"
    },
    "tags": []
   },
   "outputs": [],
   "source": [
    "pd.set_option('display.max_colwidth', None)\n",
    "\n",
    "train = pd.read_csv('../input/shopee-product-matching/train.csv')\n",
    "train['titleUcase'] = train['title'].str.upper()"
   ]
  },
  {
   "cell_type": "markdown",
   "id": "every-warrior",
   "metadata": {
    "papermill": {
     "duration": 0.034228,
     "end_time": "2021-04-13T15:13:04.926067",
     "exception": false,
     "start_time": "2021-04-13T15:13:04.891839",
     "status": "completed"
    },
    "tags": []
   },
   "source": [
    "Let us try to get the number of unique words across all records. The 'set' is just about the right data structure"
   ]
  },
  {
   "cell_type": "code",
   "execution_count": 3,
   "id": "amazing-signal",
   "metadata": {
    "execution": {
     "iopub.execute_input": "2021-04-13T15:13:04.999410Z",
     "iopub.status.busy": "2021-04-13T15:13:04.998695Z",
     "iopub.status.idle": "2021-04-13T15:13:05.335366Z",
     "shell.execute_reply": "2021-04-13T15:13:05.335932Z"
    },
    "papermill": {
     "duration": 0.374861,
     "end_time": "2021-04-13T15:13:05.336132",
     "exception": false,
     "start_time": "2021-04-13T15:13:04.961271",
     "status": "completed"
    },
    "tags": []
   },
   "outputs": [],
   "source": [
    "import re\n",
    "\n",
    "unique_words = set()\n",
    "all_words = train['titleUcase'].str.findall('\\w+')\n",
    "\n",
    "for x in all_words:\n",
    "    words = []\n",
    "    for item in x:\n",
    "        if item.isalpha() and len(item)>2:\n",
    "            words.append(item)\n",
    "    unique_words.update(words)"
   ]
  },
  {
   "cell_type": "code",
   "execution_count": 4,
   "id": "together-basic",
   "metadata": {
    "execution": {
     "iopub.execute_input": "2021-04-13T15:13:05.409331Z",
     "iopub.status.busy": "2021-04-13T15:13:05.408691Z",
     "iopub.status.idle": "2021-04-13T15:13:05.415408Z",
     "shell.execute_reply": "2021-04-13T15:13:05.415932Z"
    },
    "papermill": {
     "duration": 0.045473,
     "end_time": "2021-04-13T15:13:05.416112",
     "exception": false,
     "start_time": "2021-04-13T15:13:05.370639",
     "status": "completed"
    },
    "tags": []
   },
   "outputs": [
    {
     "data": {
      "text/plain": [
       "18343"
      ]
     },
     "execution_count": 4,
     "metadata": {},
     "output_type": "execute_result"
    }
   ],
   "source": [
    "len(unique_words)"
   ]
  },
  {
   "cell_type": "code",
   "execution_count": 5,
   "id": "silent-heaven",
   "metadata": {
    "execution": {
     "iopub.execute_input": "2021-04-13T15:13:05.490031Z",
     "iopub.status.busy": "2021-04-13T15:13:05.489395Z",
     "iopub.status.idle": "2021-04-13T15:13:07.485289Z",
     "shell.execute_reply": "2021-04-13T15:13:07.484582Z"
    },
    "papermill": {
     "duration": 2.033272,
     "end_time": "2021-04-13T15:13:07.485452",
     "exception": false,
     "start_time": "2021-04-13T15:13:05.452180",
     "status": "completed"
    },
    "tags": []
   },
   "outputs": [],
   "source": [
    "from nltk.corpus import words\n",
    "setofwords = set(words.words())"
   ]
  },
  {
   "cell_type": "markdown",
   "id": "joined-purse",
   "metadata": {
    "papermill": {
     "duration": 0.035307,
     "end_time": "2021-04-13T15:13:07.555675",
     "exception": false,
     "start_time": "2021-04-13T15:13:07.520368",
     "status": "completed"
    },
    "tags": []
   },
   "source": [
    "Unfortunately this does not work for plural sometimes...though it seems to work for eveything else"
   ]
  },
  {
   "cell_type": "code",
   "execution_count": 6,
   "id": "hired-charge",
   "metadata": {
    "execution": {
     "iopub.execute_input": "2021-04-13T15:13:07.654976Z",
     "iopub.status.busy": "2021-04-13T15:13:07.654157Z",
     "iopub.status.idle": "2021-04-13T15:13:07.657308Z",
     "shell.execute_reply": "2021-04-13T15:13:07.657874Z"
    },
    "papermill": {
     "duration": 0.06768,
     "end_time": "2021-04-13T15:13:07.658050",
     "exception": false,
     "start_time": "2021-04-13T15:13:07.590370",
     "status": "completed"
    },
    "tags": []
   },
   "outputs": [
    {
     "name": "stdout",
     "output_type": "stream",
     "text": [
      "run True\n",
      "ran True\n",
      "running True\n",
      "ren False\n",
      "dog True\n",
      "dogs True\n",
      "horse True\n",
      "horses False\n",
      "sony False\n",
      "samsung False\n"
     ]
    }
   ],
   "source": [
    "print(\"run\",\"run\" in setofwords)\n",
    "print(\"ran\",\"ran\" in setofwords)\n",
    "print(\"running\",\"running\" in setofwords)\n",
    "print(\"ren\",\"ren\" in setofwords)\n",
    "print(\"dog\",\"dog\" in setofwords)\n",
    "print(\"dogs\",\"dogs\" in setofwords)\n",
    "print(\"horse\",\"horse\" in setofwords)\n",
    "print(\"horses\",\"horses\" in setofwords)\n",
    "print(\"sony\",\"horses\" in setofwords)\n",
    "print(\"samsung\",\"horses\" in setofwords)"
   ]
  },
  {
   "cell_type": "markdown",
   "id": "lonely-excess",
   "metadata": {
    "papermill": {
     "duration": 0.03642,
     "end_time": "2021-04-13T15:13:07.731982",
     "exception": false,
     "start_time": "2021-04-13T15:13:07.695562",
     "status": "completed"
    },
    "tags": []
   },
   "source": [
    "You would expect it to be consistent (if not thorough). So this puts a question mark on other words as well. Note that this would also not include joint words (which BERT nicely breaks into constituents). Anyway we want a ballpark, so we can go on"
   ]
  },
  {
   "cell_type": "code",
   "execution_count": 7,
   "id": "governing-pledge",
   "metadata": {
    "execution": {
     "iopub.execute_input": "2021-04-13T15:13:07.825093Z",
     "iopub.status.busy": "2021-04-13T15:13:07.824002Z",
     "iopub.status.idle": "2021-04-13T15:13:07.829510Z",
     "shell.execute_reply": "2021-04-13T15:13:07.830373Z"
    },
    "papermill": {
     "duration": 0.063256,
     "end_time": "2021-04-13T15:13:07.830646",
     "exception": false,
     "start_time": "2021-04-13T15:13:07.767390",
     "status": "completed"
    },
    "tags": []
   },
   "outputs": [
    {
     "name": "stdout",
     "output_type": "stream",
     "text": [
      "5140 \n",
      "\n",
      "['SAVVY', 'BELLY', 'RENOVATOR', 'LOTION', 'TAWAS', 'SYRUP', 'COCA', 'FOLDABLE', 'BUBBLE', 'TINCTURE', 'PRIMING', 'TAPER', 'CAFFEINE', 'DARKENING', 'POCKET', 'CHEF', 'KIWI', 'ORY', 'SPRAYER', 'TRANSFORMERS', 'BATHROOM', 'HOBBY', 'NAME', 'TIGER', 'USE', 'ELLIPSE', 'TANGA', 'ETHYL', 'THEFT', 'MACAN', 'MANIS', 'CONTACT', 'CROCS', 'TRACK', 'DURIAN', 'SODIUM', 'DIALOGUE', 'DULLNESS', 'WISTERIA', 'HOST', 'BOTTLE', 'PANDAN', 'INNOVATION', 'THRASHER', 'KNOW', 'BEAR', 'LITHIUM', 'SNORKEL', 'SCARLET', 'PUBLIC', 'GLOBAL', 'REPEATER', 'SKATE', 'FOLD', 'BOOKS', 'EAGLE', 'TIDE', 'JUMBO', 'INTERLOCK', 'REFUND', 'SPRINKLES', 'SHIELD', 'AWAKE', 'ANCHOR', 'TOYS', 'FROTHER', 'MAGNETIC', 'CURVE', 'BLAZE', 'REEVE', 'MAUVE', 'KLOP', 'SIMMER', 'SHIMMER', 'AESTHETIC', 'DICER', 'PROSES', 'ESCAPE', 'QUANTUM', 'RAYON', 'PANORAMA', 'WALNUT', 'PADDOCK', 'NOTIFICATION', 'YOUR', 'DODGERS', 'CREAMER', 'SPY', 'CHEMICAL', 'SINUSITIS', 'SEPT', 'TABLEWARE', 'OVERNIGHT', 'GIRAFFE', 'SIP', 'GARDEN', 'POOR', 'BUN', 'DENT', 'PALET']\n"
     ]
    }
   ],
   "source": [
    "unique_english = []\n",
    "\n",
    "for item in unique_words:\n",
    "    if item.lower() in setofwords:\n",
    "        unique_english.append(item)\n",
    "    else:\n",
    "        if (item[-1] == 'S') and (item[:-1].lower() in setofwords) and (len(item)>3):\n",
    "            unique_english.append(item)\n",
    "        \n",
    "print(len(unique_english),'\\n')\n",
    "print(unique_english[:100])"
   ]
  },
  {
   "cell_type": "markdown",
   "id": "professional-border",
   "metadata": {
    "papermill": {
     "duration": 0.035891,
     "end_time": "2021-04-13T15:13:07.904598",
     "exception": false,
     "start_time": "2021-04-13T15:13:07.868707",
     "status": "completed"
    },
    "tags": []
   },
   "source": [
    "I didnt know that Baud, Doff, Wen etc were english words but apparently they are as per the dictionary. The challenge is that these could 'also' be Indo words  with a different meaning. Anyway let us move on"
   ]
  },
  {
   "cell_type": "code",
   "execution_count": 8,
   "id": "outside-julian",
   "metadata": {
    "execution": {
     "iopub.execute_input": "2021-04-13T15:13:07.987156Z",
     "iopub.status.busy": "2021-04-13T15:13:07.986131Z",
     "iopub.status.idle": "2021-04-13T15:13:07.989723Z",
     "shell.execute_reply": "2021-04-13T15:13:07.990300Z"
    },
    "papermill": {
     "duration": 0.049248,
     "end_time": "2021-04-13T15:13:07.990485",
     "exception": false,
     "start_time": "2021-04-13T15:13:07.941237",
     "status": "completed"
    },
    "tags": []
   },
   "outputs": [
    {
     "name": "stdout",
     "output_type": "stream",
     "text": [
      "13203 \n",
      "\n",
      "['SUPRACOLOR', 'EXFERET', 'CELUP', 'MORENO', 'JAMSUI', 'HVS', 'JOGJA', 'SARAN', 'BERGARANSI', 'KETOMBE', 'YESBABY', 'NAPOLITAN', 'PREWALKER', 'ARMOURED', 'KURNIAWAN', 'CYNCYN', 'TERPAL', 'BELIBIS', 'MINICART', 'LYCHEE', 'ASAH', 'ERITSA', 'KAOS', 'PAKAIANWANITA', 'MAYONAIS', 'COLEK', 'SUNQUICK', 'MURAHPOP', 'CASA', 'SUMPAH', 'ICECREAM', 'LBS', 'ARTELLY', 'HPL', 'SMOKEY', 'RESLETING', 'MENSPAD', 'MMI', 'KENCORO', 'SUBSIDI', 'YONGKIDZ', 'JAHITAN', 'AKUARIUM', 'NOTOARTO', 'SYAWAL', 'PUSING', 'UNICOREN', 'NOUVO', 'SARANA', 'DORENG', 'FIO', 'RIVIERA', 'DLUSIA', 'BROWNIS', 'ESGOTADO', 'SHALWA', 'BERASA', 'LOACKER', 'KUMAN', 'JELLI', 'SOLED', 'MAGRA', 'OMEGAKIDS', 'FRESHY', 'LUWAK', 'PAKAI', 'SARINGAN', 'SITRONELLA', 'ENMAC', 'DOBEL', 'BAREFOOD', 'KACA', 'ZWITZAL', 'GISELLA', 'JASTIP', 'FIORE', 'BIRCAP', 'CMS', 'TOSHIBA', 'MAURA', 'GOSWIM', 'MADILOG', 'PELIPAT', 'KARBU', 'ORICAT', 'GLADIS', 'PANTENE', 'NAFAS', 'TBSD', 'ANGGARAN', 'JEANSWASH', 'AKTIVASI', 'SUSPENSI', 'CREAMATTE', 'ONDA', 'ADONIT', 'KULSOEM', 'SLEMPANG', 'WILDAN', 'RAPET']\n"
     ]
    }
   ],
   "source": [
    "unique_nonenglish = unique_words - set(unique_english)\n",
    "print(len(unique_nonenglish), '\\n')\n",
    "print(list(unique_nonenglish)[:100])"
   ]
  },
  {
   "cell_type": "markdown",
   "id": "representative-innocent",
   "metadata": {
    "papermill": {
     "duration": 0.03612,
     "end_time": "2021-04-13T15:13:08.064359",
     "exception": false,
     "start_time": "2021-04-13T15:13:08.028239",
     "status": "completed"
    },
    "tags": []
   },
   "source": [
    "But a GOOD chunk of it will include brand name, location, org names etc.\n",
    "\n",
    "Let us see if we can get a rough idea of number of non-English words which are not names, brands, orgs etc. We will use Google translate API"
   ]
  },
  {
   "cell_type": "code",
   "execution_count": 9,
   "id": "internal-stations",
   "metadata": {
    "execution": {
     "iopub.execute_input": "2021-04-13T15:13:08.143835Z",
     "iopub.status.busy": "2021-04-13T15:13:08.143096Z",
     "iopub.status.idle": "2021-04-13T15:13:17.212128Z",
     "shell.execute_reply": "2021-04-13T15:13:17.211569Z"
    },
    "papermill": {
     "duration": 9.109909,
     "end_time": "2021-04-13T15:13:17.212268",
     "exception": false,
     "start_time": "2021-04-13T15:13:08.102359",
     "status": "completed"
    },
    "tags": []
   },
   "outputs": [
    {
     "name": "stdout",
     "output_type": "stream",
     "text": [
      "Collecting google_trans_new\r\n",
      "  Downloading google_trans_new-1.1.9-py3-none-any.whl (9.2 kB)\r\n",
      "Installing collected packages: google-trans-new\r\n",
      "Successfully installed google-trans-new-1.1.9\r\n"
     ]
    }
   ],
   "source": [
    "!pip install google_trans_new"
   ]
  },
  {
   "cell_type": "code",
   "execution_count": 10,
   "id": "political-tissue",
   "metadata": {
    "execution": {
     "iopub.execute_input": "2021-04-13T15:13:17.296509Z",
     "iopub.status.busy": "2021-04-13T15:13:17.295862Z",
     "iopub.status.idle": "2021-04-13T15:13:17.520640Z",
     "shell.execute_reply": "2021-04-13T15:13:17.519626Z"
    },
    "papermill": {
     "duration": 0.269867,
     "end_time": "2021-04-13T15:13:17.520795",
     "exception": false,
     "start_time": "2021-04-13T15:13:17.250928",
     "status": "completed"
    },
    "tags": []
   },
   "outputs": [
    {
     "name": "stdout",
     "output_type": "stream",
     "text": [
      "woman \n"
     ]
    }
   ],
   "source": [
    "from google_trans_new import google_translator  \n",
    "translator = google_translator()  \n",
    "translate_text = translator.translate('wanita',lang_tgt='en')  \n",
    "print(translate_text)"
   ]
  },
  {
   "cell_type": "markdown",
   "id": "helpful-belief",
   "metadata": {
    "papermill": {
     "duration": 0.037657,
     "end_time": "2021-04-13T15:13:17.597722",
     "exception": false,
     "start_time": "2021-04-13T15:13:17.560065",
     "status": "completed"
    },
    "tags": []
   },
   "source": [
    "Google translate has severe constraints on number of concurrent requests. It blocks the IP if used in a loop. So we will have to discard it. \n",
    "\n",
    "Let us use the dictionary provided below. \n",
    "\n",
    "\n",
    "https://raw.githubusercontent.com/sastrawi/sastrawi/master/data/kata-dasar.original.txt\n",
    "\n",
    "This is under MIT license\n",
    "\n",
    "Copyright (c) 2015 Andy Librian\n",
    "\n",
    "Permission is hereby granted, free of charge, to any person obtaining a copy\n",
    "of this software and associated documentation files (the \"Software\"), to deal\n",
    "in the Software without restriction, including without limitation the rights\n",
    "to use, copy, modify, merge, publish, distribute, sublicense, and/or sell\n",
    "copies of the Software, and to permit persons to whom the Software is\n",
    "furnished to do so, subject to the following conditions:\n",
    "\n",
    "The above copyright notice and this permission notice shall be included in all\n",
    "copies or substantial portions of the Software.\n",
    "\n",
    "THE SOFTWARE IS PROVIDED \"AS IS\", WITHOUT WARRANTY OF ANY KIND, EXPRESS OR\n",
    "IMPLIED, INCLUDING BUT NOT LIMITED TO THE WARRANTIES OF MERCHANTABILITY,\n",
    "FITNESS FOR A PARTICULAR PURPOSE AND NONINFRINGEMENT. IN NO EVENT SHALL THE\n",
    "AUTHORS OR COPYRIGHT HOLDERS BE LIABLE FOR ANY CLAIM, DAMAGES OR OTHER\n",
    "LIABILITY, WHETHER IN AN ACTION OF CONTRACT, TORT OR OTHERWISE, ARISING FROM,\n",
    "OUT OF OR IN CONNECTION WITH THE SOFTWARE OR THE USE OR OTHER DEALINGS IN THE\n",
    "SOFTWARE."
   ]
  },
  {
   "cell_type": "code",
   "execution_count": 11,
   "id": "sealed-blend",
   "metadata": {
    "execution": {
     "iopub.execute_input": "2021-04-13T15:13:17.679032Z",
     "iopub.status.busy": "2021-04-13T15:13:17.678381Z",
     "iopub.status.idle": "2021-04-13T15:13:17.700700Z",
     "shell.execute_reply": "2021-04-13T15:13:17.700073Z"
    },
    "papermill": {
     "duration": 0.065138,
     "end_time": "2021-04-13T15:13:17.700850",
     "exception": false,
     "start_time": "2021-04-13T15:13:17.635712",
     "status": "completed"
    },
    "tags": []
   },
   "outputs": [],
   "source": [
    "with open ('../input/indoneseanwords/kata-dasar.original.txt', \"r\") as myfile:\n",
    "    indo_dict=set(myfile.read().splitlines())"
   ]
  },
  {
   "cell_type": "code",
   "execution_count": 12,
   "id": "ahead-billion",
   "metadata": {
    "execution": {
     "iopub.execute_input": "2021-04-13T15:13:17.797786Z",
     "iopub.status.busy": "2021-04-13T15:13:17.796805Z",
     "iopub.status.idle": "2021-04-13T15:13:17.799970Z",
     "shell.execute_reply": "2021-04-13T15:13:17.799461Z"
    },
    "papermill": {
     "duration": 0.05931,
     "end_time": "2021-04-13T15:13:17.800114",
     "exception": false,
     "start_time": "2021-04-13T15:13:17.740804",
     "status": "completed"
    },
    "tags": []
   },
   "outputs": [],
   "source": [
    "train_indo_words = []\n",
    "\n",
    "for item in unique_nonenglish:\n",
    "    if item.lower() in indo_dict:\n",
    "        train_indo_words.append(item)"
   ]
  },
  {
   "cell_type": "code",
   "execution_count": 13,
   "id": "classical-watershed",
   "metadata": {
    "execution": {
     "iopub.execute_input": "2021-04-13T15:13:17.880404Z",
     "iopub.status.busy": "2021-04-13T15:13:17.879796Z",
     "iopub.status.idle": "2021-04-13T15:13:17.888244Z",
     "shell.execute_reply": "2021-04-13T15:13:17.887591Z"
    },
    "papermill": {
     "duration": 0.049788,
     "end_time": "2021-04-13T15:13:17.888386",
     "exception": false,
     "start_time": "2021-04-13T15:13:17.838598",
     "status": "completed"
    },
    "tags": []
   },
   "outputs": [
    {
     "name": "stdout",
     "output_type": "stream",
     "text": [
      "2727 \n",
      "\n",
      "['CELUP', 'SARAN', 'KETOMBE', 'TERPAL', 'BELIBIS', 'ASAH', 'KAOS', 'COLEK', 'SUMPAH', 'SUBSIDI', 'AKUARIUM', 'SYAWAL', 'PUSING', 'SARANA', 'KUMAN', 'PAKAI', 'DOBEL', 'KACA', 'SUSPENSI', 'JILID', 'TANGKI', 'TULIS', 'CANGKOK', 'PROMOSI', 'KARDUS', 'BINTANG', 'LOKI', 'VOAL', 'LANSIA', 'KUALITAS', 'HIDUP', 'NARSIS', 'TERMOS', 'RISALAH', 'KAPORIT', 'ROTASI', 'OPPO', 'SOKET', 'RESEP', 'PANAS', 'KRONIS', 'SINERGI', 'CEMBUNG', 'MESJID', 'DEWASA', 'SABLON', 'PUTRA', 'ANTING', 'NYAI', 'HOKI', 'KENCING', 'SERU', 'URAT', 'BILAS', 'TOMAT', 'AKHIR', 'UMBUL', 'SUPLEMEN', 'BUNUH', 'TASEL', 'IBU', 'KEDAUNG', 'SEPEDA', 'MADANI', 'MOHON', 'SERANGGA', 'LAKU', 'GRADASI', 'PENSIL', 'PADAT', 'BEKU', 'KONTROL', 'PERTAMA', 'BROSUR', 'UMRAH', 'PRODUSEN', 'KETAN', 'SPONTAN', 'GEPENG', 'BEDAK', 'ANTIBODI', 'IBUN', 'MAYUNG', 'HAJAR', 'SAMUDRA', 'REKAT', 'IMITASI', 'PUTING', 'SIRIP', 'LATIH', 'MALAM', 'REKAYASA', 'RAMANDA', 'ORIGAMI', 'LENTERA', 'KAUS', 'ALAT', 'SIMPEL', 'SESAT', 'BUKU']\n"
     ]
    }
   ],
   "source": [
    "unique_nonenglish_nonindo = unique_nonenglish - set(train_indo_words)\n",
    "print(len(train_indo_words), '\\n')\n",
    "print(train_indo_words[:100])"
   ]
  },
  {
   "cell_type": "code",
   "execution_count": 14,
   "id": "transsexual-witch",
   "metadata": {
    "execution": {
     "iopub.execute_input": "2021-04-13T15:13:17.972393Z",
     "iopub.status.busy": "2021-04-13T15:13:17.971588Z",
     "iopub.status.idle": "2021-04-13T15:13:17.975463Z",
     "shell.execute_reply": "2021-04-13T15:13:17.974952Z"
    },
    "papermill": {
     "duration": 0.048152,
     "end_time": "2021-04-13T15:13:17.975615",
     "exception": false,
     "start_time": "2021-04-13T15:13:17.927463",
     "status": "completed"
    },
    "tags": []
   },
   "outputs": [
    {
     "name": "stdout",
     "output_type": "stream",
     "text": [
      "['SUPRACOLOR', 'EXFERET', 'CELUP', 'MORENO', 'JAMSUI', 'HVS', 'JOGJA', 'SARAN', 'BERGARANSI', 'KETOMBE', 'YESBABY', 'NAPOLITAN', 'PREWALKER', 'ARMOURED', 'KURNIAWAN', 'CYNCYN', 'TERPAL', 'BELIBIS', 'MINICART', 'LYCHEE', 'ASAH', 'ERITSA', 'KAOS', 'PAKAIANWANITA', 'MAYONAIS', 'COLEK', 'SUNQUICK', 'MURAHPOP', 'CASA', 'SUMPAH', 'ICECREAM', 'LBS', 'ARTELLY', 'HPL', 'SMOKEY', 'RESLETING', 'MENSPAD', 'MMI', 'KENCORO', 'SUBSIDI', 'YONGKIDZ', 'JAHITAN', 'AKUARIUM', 'NOTOARTO', 'SYAWAL', 'PUSING', 'UNICOREN', 'NOUVO', 'SARANA', 'DORENG', 'FIO', 'RIVIERA', 'DLUSIA', 'BROWNIS', 'ESGOTADO', 'SHALWA', 'BERASA', 'LOACKER', 'KUMAN', 'JELLI', 'SOLED', 'MAGRA', 'OMEGAKIDS', 'FRESHY', 'LUWAK', 'PAKAI', 'SARINGAN', 'SITRONELLA', 'ENMAC', 'DOBEL', 'BAREFOOD', 'KACA', 'ZWITZAL', 'GISELLA', 'JASTIP', 'FIORE', 'BIRCAP', 'CMS', 'TOSHIBA', 'MAURA', 'GOSWIM', 'MADILOG', 'PELIPAT', 'KARBU', 'ORICAT', 'GLADIS', 'PANTENE', 'NAFAS', 'TBSD', 'ANGGARAN', 'JEANSWASH', 'AKTIVASI', 'SUSPENSI', 'CREAMATTE', 'ONDA', 'ADONIT', 'KULSOEM', 'SLEMPANG', 'WILDAN', 'RAPET', 'KVB', 'JILID', 'BLACHEAD', 'EKSLUSIF', 'PALEMBANG', 'SWITER', 'GAYO', 'TANGKI', 'TULIS', 'CANGKOK', 'TAYA', 'DEAOFFICIAL', 'PROMOSI', 'FBS', 'REVOIN', 'KARDUS', 'HTC', 'SCHALE', 'QINGYE', 'ALKHALIS', 'WOLFISS', 'KKB', 'HIMATTE', 'LIPGLOS', 'DRESSMUSLIM', 'OJOL', 'CINCER', 'BINTANG', 'SEPATURUNNING', 'LOKI', 'VOAL', 'ISOTONIK', 'BOSTER', 'JUM', 'LANSIA', 'KUALITAS', 'MAMAMIA', 'LOTIONA', 'SCRAF', 'COMOTOMO', 'DILENGKAPI', 'ZANIRA', 'MYBABY', 'HIDUP', 'NYLGUT', 'GRANDPRIME', 'CERUTTY', 'HAMPIONS', 'DATITA', 'HANDWRAPS', 'LADYROSE', 'CIVETO', 'CARTIDGE', 'KILOWEIGHT', 'LARICHI', 'HABATUSSAUDA', 'NARSIS', 'TESTPACK', 'BENHUR', 'BERBENTUK', 'XBCRESMI', 'TERMOS', 'RISALAH', 'INNA', 'WRISTAPE', 'KAPORIT', 'LISTERIN', 'GALAXI', 'SKYPE', 'NACHI', 'MATTEL', 'LACTACYD', 'JILL', 'TATTO', 'ROTASI', 'BACKLIGHT', 'APLIKATOR', 'HANDAL', 'OPPO', 'SOKET', 'HANSFREE', 'RESEP', 'DEKA', 'PAUD', 'KHADIJAH', 'VYNEER', 'PANAS', 'NEHA', 'PDR', 'CELANACHINO', 'KRONIS', 'STEMCELL', 'JASKO', 'MLXL', 'SOFTGEL', 'SYARAF', 'SINERGI', 'LATIN', 'CEMBUNG', 'MESJID']\n"
     ]
    }
   ],
   "source": [
    "print(list(unique_nonenglish)[:200])"
   ]
  },
  {
   "cell_type": "markdown",
   "id": "literary-french",
   "metadata": {
    "papermill": {
     "duration": 0.039437,
     "end_time": "2021-04-13T15:13:18.055242",
     "exception": false,
     "start_time": "2021-04-13T15:13:18.015805",
     "status": "completed"
    },
    "tags": []
   },
   "source": [
    "Let us check out the BERT version for Indonesean lang. Huggingface provides a nice autotokenizer and AutomodelwithMLhead options that helps auto-choose models and tokernizers without us having to specify things in great details. Let us try it out..\n",
    "\n",
    "They have several translation models from the University of Helsinki in their transformer model zoo. We use opus-mt-id-en. Basically, for any given language code pair you can download a model with the name Helsinki-NLP/optus-mt-{lang}-{target_lang} where lang is the language code for the source language and target_lang is the language code for the target language we want to translate to. "
   ]
  },
  {
   "cell_type": "code",
   "execution_count": 15,
   "id": "activated-tobacco",
   "metadata": {
    "collapsed": true,
    "execution": {
     "iopub.execute_input": "2021-04-13T15:13:18.140649Z",
     "iopub.status.busy": "2021-04-13T15:13:18.139894Z",
     "iopub.status.idle": "2021-04-13T15:13:43.848447Z",
     "shell.execute_reply": "2021-04-13T15:13:43.847850Z"
    },
    "jupyter": {
     "outputs_hidden": true
    },
    "papermill": {
     "duration": 25.753257,
     "end_time": "2021-04-13T15:13:43.848605",
     "exception": false,
     "start_time": "2021-04-13T15:13:18.095348",
     "status": "completed"
    },
    "tags": []
   },
   "outputs": [
    {
     "name": "stderr",
     "output_type": "stream",
     "text": [
      "/opt/conda/lib/python3.7/site-packages/transformers/models/auto/modeling_auto.py:1010: FutureWarning: The class `AutoModelWithLMHead` is deprecated and will be removed in a future version. Please use `AutoModelForCausalLM` for causal language models, `AutoModelForMaskedLM` for masked language models and `AutoModelForSeq2SeqLM` for encoder-decoder models.\n",
      "  FutureWarning,\n"
     ]
    },
    {
     "data": {
      "application/vnd.jupyter.widget-view+json": {
       "model_id": "14d3a58fa2114cedbb591a2b3af9c423",
       "version_major": 2,
       "version_minor": 0
      },
      "text/plain": [
       "Downloading:   0%|          | 0.00/1.13k [00:00<?, ?B/s]"
      ]
     },
     "metadata": {},
     "output_type": "display_data"
    },
    {
     "data": {
      "application/vnd.jupyter.widget-view+json": {
       "model_id": "d036bb55d17e4b38a2367d0b031d8119",
       "version_major": 2,
       "version_minor": 0
      },
      "text/plain": [
       "Downloading:   0%|          | 0.00/291M [00:00<?, ?B/s]"
      ]
     },
     "metadata": {},
     "output_type": "display_data"
    },
    {
     "data": {
      "application/vnd.jupyter.widget-view+json": {
       "model_id": "65147804dab44444a12b7b09e4520ec8",
       "version_major": 2,
       "version_minor": 0
      },
      "text/plain": [
       "Downloading:   0%|          | 0.00/801k [00:00<?, ?B/s]"
      ]
     },
     "metadata": {},
     "output_type": "display_data"
    },
    {
     "data": {
      "application/vnd.jupyter.widget-view+json": {
       "model_id": "e4f9987006d444088f845a669a958d1b",
       "version_major": 2,
       "version_minor": 0
      },
      "text/plain": [
       "Downloading:   0%|          | 0.00/796k [00:00<?, ?B/s]"
      ]
     },
     "metadata": {},
     "output_type": "display_data"
    },
    {
     "data": {
      "application/vnd.jupyter.widget-view+json": {
       "model_id": "2111aded241745d1a081e59b4a79b7b0",
       "version_major": 2,
       "version_minor": 0
      },
      "text/plain": [
       "Downloading:   0%|          | 0.00/1.26M [00:00<?, ?B/s]"
      ]
     },
     "metadata": {},
     "output_type": "display_data"
    },
    {
     "data": {
      "application/vnd.jupyter.widget-view+json": {
       "model_id": "55889325d39249b981d7fb32d74b46ba",
       "version_major": 2,
       "version_minor": 0
      },
      "text/plain": [
       "Downloading:   0%|          | 0.00/42.0 [00:00<?, ?B/s]"
      ]
     },
     "metadata": {},
     "output_type": "display_data"
    }
   ],
   "source": [
    "from transformers import AutoTokenizer, AutoModelWithLMHead\n",
    "\n",
    "model_helinski = AutoModelWithLMHead.from_pretrained('Helsinki-NLP/opus-mt-id-en')\n",
    "tok_helinski = AutoTokenizer.from_pretrained('Helsinki-NLP/opus-mt-id-en')"
   ]
  },
  {
   "cell_type": "markdown",
   "id": "wound-video",
   "metadata": {
    "papermill": {
     "duration": 0.043888,
     "end_time": "2021-04-13T15:13:43.935699",
     "exception": false,
     "start_time": "2021-04-13T15:13:43.891811",
     "status": "completed"
    },
    "tags": []
   },
   "source": [
    "We will use a pipeline that absrtacts most of code and provides a nice API for most NLP tasks. In our case, we are interested in translations\n",
    "\n",
    "It may seem like there is no need for pipelines or auto-tokenizers etc but believe me when you start exploring the 1000's of models in the zoo these features really come handy"
   ]
  },
  {
   "cell_type": "code",
   "execution_count": 16,
   "id": "overhead-exploration",
   "metadata": {
    "execution": {
     "iopub.execute_input": "2021-04-13T15:13:44.026567Z",
     "iopub.status.busy": "2021-04-13T15:13:44.025900Z",
     "iopub.status.idle": "2021-04-13T15:13:50.388565Z",
     "shell.execute_reply": "2021-04-13T15:13:50.387958Z"
    },
    "papermill": {
     "duration": 6.410218,
     "end_time": "2021-04-13T15:13:50.388728",
     "exception": false,
     "start_time": "2021-04-13T15:13:43.978510",
     "status": "completed"
    },
    "tags": []
   },
   "outputs": [],
   "source": [
    "from transformers import pipeline\n",
    "\n",
    "translation = pipeline('translation_id_to_en', model=model_helinski, tokenizer=tok_helinski)"
   ]
  },
  {
   "cell_type": "markdown",
   "id": "lesser-greenhouse",
   "metadata": {
    "papermill": {
     "duration": 0.043899,
     "end_time": "2021-04-13T15:13:50.477370",
     "exception": false,
     "start_time": "2021-04-13T15:13:50.433471",
     "status": "completed"
    },
    "tags": []
   },
   "source": [
    "Ok. Let us see how good the translator is"
   ]
  },
  {
   "cell_type": "code",
   "execution_count": 17,
   "id": "pending-washer",
   "metadata": {
    "execution": {
     "iopub.execute_input": "2021-04-13T15:13:50.575346Z",
     "iopub.status.busy": "2021-04-13T15:13:50.574653Z",
     "iopub.status.idle": "2021-04-13T15:14:00.544516Z",
     "shell.execute_reply": "2021-04-13T15:14:00.545104Z"
    },
    "papermill": {
     "duration": 10.023709,
     "end_time": "2021-04-13T15:14:00.545310",
     "exception": false,
     "start_time": "2021-04-13T15:13:50.521601",
     "status": "completed"
    },
    "tags": []
   },
   "outputs": [
    {
     "name": "stdout",
     "output_type": "stream",
     "text": [
      "CELUP Please, come on, come on, come on, come on, come on, come on, come on, come on, come on, come on, come on, come on, come on, come on, come on, come on, come on, come on, come on, come on, come on, come on, come on, come on, come on, come on, come on, come on, come on, come on.\n",
      "SARAN SUGGESTION\n",
      "TERPAL DISAPPOINTED\n",
      "ASAH U.S.A.H.\n",
      "SUMPAH ANIMALS\n",
      "AKUARIUM I'M SEARCHING\n",
      "SYAWAL SYAWL\n",
      "SUSPENSI SUSPENSION\n",
      "TULIS WRITE\n",
      "PROMOSI PROMOTION\n",
      "KARDUS CARDUS\n"
     ]
    }
   ],
   "source": [
    "for item in train_indo_words[:25]:\n",
    "    translated_text = translation(item)[0]['translation_text']\n",
    "    print(item,translated_text) if item != translated_text else None"
   ]
  },
  {
   "cell_type": "markdown",
   "id": "intermediate-breed",
   "metadata": {
    "papermill": {
     "duration": 0.046138,
     "end_time": "2021-04-13T15:14:00.639441",
     "exception": false,
     "start_time": "2021-04-13T15:14:00.593303",
     "status": "completed"
    },
    "tags": []
   },
   "source": [
    "Unfortunately about half the translations are wrong. We cant use this. The SOTA is translation is BART by Facebook and in particular mBart-50 which came in 2020. Let us check it out.\n",
    "\n",
    "For Seq-Seq models, we cant use AutoModelWithLMHead for the model. We have to replace with AutoModelForSeq2SeqLM. Rest remains the same"
   ]
  },
  {
   "cell_type": "code",
   "execution_count": 18,
   "id": "native-solomon",
   "metadata": {
    "collapsed": true,
    "execution": {
     "iopub.execute_input": "2021-04-13T15:14:00.742558Z",
     "iopub.status.busy": "2021-04-13T15:14:00.741824Z",
     "iopub.status.idle": "2021-04-13T15:16:15.511360Z",
     "shell.execute_reply": "2021-04-13T15:16:15.510790Z"
    },
    "jupyter": {
     "outputs_hidden": true
    },
    "papermill": {
     "duration": 134.825903,
     "end_time": "2021-04-13T15:16:15.511537",
     "exception": false,
     "start_time": "2021-04-13T15:14:00.685634",
     "status": "completed"
    },
    "tags": []
   },
   "outputs": [
    {
     "data": {
      "application/vnd.jupyter.widget-view+json": {
       "model_id": "40756a88e53749c68d1aa2fa22e55b3f",
       "version_major": 2,
       "version_minor": 0
      },
      "text/plain": [
       "Downloading:   0%|          | 0.00/1.43k [00:00<?, ?B/s]"
      ]
     },
     "metadata": {},
     "output_type": "display_data"
    },
    {
     "data": {
      "application/vnd.jupyter.widget-view+json": {
       "model_id": "a87929314c1d4853859301f6a4a8209d",
       "version_major": 2,
       "version_minor": 0
      },
      "text/plain": [
       "Downloading:   0%|          | 0.00/2.44G [00:00<?, ?B/s]"
      ]
     },
     "metadata": {},
     "output_type": "display_data"
    },
    {
     "data": {
      "application/vnd.jupyter.widget-view+json": {
       "model_id": "c8743d99db3c4501bb2e8f3fff075668",
       "version_major": 2,
       "version_minor": 0
      },
      "text/plain": [
       "Downloading:   0%|          | 0.00/5.07M [00:00<?, ?B/s]"
      ]
     },
     "metadata": {},
     "output_type": "display_data"
    },
    {
     "data": {
      "application/vnd.jupyter.widget-view+json": {
       "model_id": "1260b911f4a749238c007a4051b97ec1",
       "version_major": 2,
       "version_minor": 0
      },
      "text/plain": [
       "Downloading:   0%|          | 0.00/649 [00:00<?, ?B/s]"
      ]
     },
     "metadata": {},
     "output_type": "display_data"
    },
    {
     "data": {
      "application/vnd.jupyter.widget-view+json": {
       "model_id": "d590fcbb3af6404680bf27ccb3ec5249",
       "version_major": 2,
       "version_minor": 0
      },
      "text/plain": [
       "Downloading:   0%|          | 0.00/529 [00:00<?, ?B/s]"
      ]
     },
     "metadata": {},
     "output_type": "display_data"
    }
   ],
   "source": [
    "from transformers import AutoModelForSeq2SeqLM\n",
    "\n",
    "model_mbart50 = AutoModelForSeq2SeqLM.from_pretrained('facebook/mbart-large-50-many-to-many-mmt')\n",
    "tok_mbart50 = AutoTokenizer.from_pretrained('facebook/mbart-large-50-many-to-many-mmt')\n",
    "translation = pipeline(\"translation_id_to_en\", model=model_mbart50, tokenizer=tok_mbart50)"
   ]
  },
  {
   "cell_type": "markdown",
   "id": "endangered-class",
   "metadata": {
    "papermill": {
     "duration": 0.048449,
     "end_time": "2021-04-13T15:16:15.610616",
     "exception": false,
     "start_time": "2021-04-13T15:16:15.562167",
     "status": "completed"
    },
    "tags": []
   },
   "source": [
    "In 3 lines we were able to set up a translation pipeline. Notice how the API understands that the tokenizer corresponding to mbart-large-50-many-to-many-mmt is MBart50Tokenizer. \n",
    "\n",
    "Unfortunately there were multiple issues which I explored to get this working:\n",
    "- Initially it gave error saying \"unable to find the MBart50Tokenizer\" path. Since this is a SOTA model I thought, Huggingface has yet to incorporate this in their formal release. On their support site, they request to download and use their source code directly until this is done \n",
    "- Linking directly with Hugging face transformer source code didnt work\n",
    "- Some debugging of their source code shows that \"sentencepiece\" library is mandatory. Installed that as well but didnt work\n",
    "- Transformer version was showing as older one. Though I upgraded transformers (!pip install transformers) it kept showing older version \n",
    "- Finally I got to the root of the problem. Kaggle seems to have a work env (on RHS, click on Env-preferences link). We have to override that to get the latest environments. This finally made the above statements work (note it is reccomended to use a stable v ersion rather than a latest version unless there is a compelling reason)"
   ]
  },
  {
   "cell_type": "code",
   "execution_count": 19,
   "id": "defensive-camel",
   "metadata": {
    "execution": {
     "iopub.execute_input": "2021-04-13T15:16:15.769348Z",
     "iopub.status.busy": "2021-04-13T15:16:15.713089Z",
     "iopub.status.idle": "2021-04-13T15:16:18.307493Z",
     "shell.execute_reply": "2021-04-13T15:16:18.306898Z"
    },
    "papermill": {
     "duration": 2.648103,
     "end_time": "2021-04-13T15:16:18.307658",
     "exception": false,
     "start_time": "2021-04-13T15:16:15.659555",
     "status": "completed"
    },
    "tags": []
   },
   "outputs": [
    {
     "name": "stdout",
     "output_type": "stream",
     "text": [
      "transformers==4.4.2\r\n"
     ]
    }
   ],
   "source": [
    "!pip freeze | grep transformers"
   ]
  },
  {
   "cell_type": "code",
   "execution_count": 20,
   "id": "affecting-crime",
   "metadata": {
    "execution": {
     "iopub.execute_input": "2021-04-13T15:16:18.414267Z",
     "iopub.status.busy": "2021-04-13T15:16:18.413582Z",
     "iopub.status.idle": "2021-04-13T15:17:28.764966Z",
     "shell.execute_reply": "2021-04-13T15:17:28.764066Z"
    },
    "papermill": {
     "duration": 70.407141,
     "end_time": "2021-04-13T15:17:28.765228",
     "exception": false,
     "start_time": "2021-04-13T15:16:18.358087",
     "status": "completed"
    },
    "tags": []
   },
   "outputs": [
    {
     "name": "stdout",
     "output_type": "stream",
     "text": [
      "SARAN सारण\n",
      "KETOMBE Country name (optional, but should be translated)\n",
      "TERPAL टेर्पाल\n",
      "BELIBIS बिलिबिस\n",
      "COLEK कोलेकCity name (optional, probably does not need a translation)\n",
      "SUMPAH KoopCity in Jeonnam Korea\n",
      "AKUARIUM AquariumConstellation name (optional)\n",
      "SYAWAL City in Gyeongnam Korea\n",
      "SARANA सारानाCity name (optional, probably does not need a translation)\n",
      "KUMAN KumanName\n",
      "PAKAI PakistanCity in Pakistan\n",
      "DOBEL डोबेल\n",
      "SUSPENSI StensilsStencils\n",
      "TANGKI TangiCity in Gyeongnam Korea\n",
      "TULIS टलिसConstellation name (optional)\n",
      "CANGKOK Iinketho zegama leqela leenkwenkwezi (iyodwa) GRUSConstellation name (optional)\n",
      "KARDUS कार्डसConstellation name (optional)\n"
     ]
    }
   ],
   "source": [
    "for item in train_indo_words[:25]:\n",
    "    translated_text = translation(item)[0]['translation_text']\n",
    "    print(item,translated_text) if item != translated_text else None"
   ]
  },
  {
   "cell_type": "markdown",
   "id": "solid-focus",
   "metadata": {
    "papermill": {
     "duration": 0.056983,
     "end_time": "2021-04-13T15:17:28.881952",
     "exception": false,
     "start_time": "2021-04-13T15:17:28.824969",
     "status": "completed"
    },
    "tags": []
   },
   "source": [
    "Well looks like the model is wanting to show off about all the languages on the universe it knows. This just does not work for us. Maybe we have to ditch the pipeline API and just try the regular route or creating the tokens and tensors ourselves"
   ]
  },
  {
   "cell_type": "code",
   "execution_count": 21,
   "id": "adjusted-playing",
   "metadata": {
    "execution": {
     "iopub.execute_input": "2021-04-13T15:17:28.998942Z",
     "iopub.status.busy": "2021-04-13T15:17:28.998267Z",
     "iopub.status.idle": "2021-04-13T15:17:30.253266Z",
     "shell.execute_reply": "2021-04-13T15:17:30.252763Z"
    },
    "papermill": {
     "duration": 1.316512,
     "end_time": "2021-04-13T15:17:30.253407",
     "exception": false,
     "start_time": "2021-04-13T15:17:28.936895",
     "status": "completed"
    },
    "tags": []
   },
   "outputs": [
    {
     "data": {
      "text/plain": [
       "['Women']"
      ]
     },
     "execution_count": 21,
     "metadata": {},
     "output_type": "execute_result"
    }
   ],
   "source": [
    "tok_mbart50.src_lang = \"ja_XX\"\n",
    "encoded = tok_mbart50('wanita', return_tensors=\"pt\")\n",
    "generated_tokens = model_mbart50.generate(**encoded, forced_bos_token_id=tok_mbart50.lang_code_to_id[\"en_XX\"])\n",
    "tok_mbart50.batch_decode(generated_tokens, skip_special_tokens=True)"
   ]
  },
  {
   "cell_type": "markdown",
   "id": "passing-scratch",
   "metadata": {
    "papermill": {
     "duration": 0.054358,
     "end_time": "2021-04-13T15:17:30.364385",
     "exception": false,
     "start_time": "2021-04-13T15:17:30.310027",
     "status": "completed"
    },
    "tags": []
   },
   "source": [
    "Phew!!!"
   ]
  },
  {
   "cell_type": "code",
   "execution_count": 22,
   "id": "american-private",
   "metadata": {
    "execution": {
     "iopub.execute_input": "2021-04-13T15:17:30.481564Z",
     "iopub.status.busy": "2021-04-13T15:17:30.480200Z",
     "iopub.status.idle": "2021-04-13T15:18:08.235849Z",
     "shell.execute_reply": "2021-04-13T15:18:08.236347Z"
    },
    "papermill": {
     "duration": 37.817563,
     "end_time": "2021-04-13T15:18:08.236546",
     "exception": false,
     "start_time": "2021-04-13T15:17:30.418983",
     "status": "completed"
    },
    "tags": []
   },
   "outputs": [
    {
     "name": "stdout",
     "output_type": "stream",
     "text": [
      "CELUP ['cellop']\n",
      "SARAN ['saran']\n",
      "KETOMBE ['ketombe']\n",
      "TERPAL ['terpal']\n",
      "BELIBIS ['belibis']\n",
      "ASAH ['asah']\n",
      "KAOS ['chaos']\n",
      "COLEK ['colek']\n",
      "SUMPAH ['sumpah']\n",
      "SUBSIDI ['subsidies']\n",
      "AKUARIUM ['Akuarium']\n",
      "SYAWAL ['syawal']\n",
      "PUSING ['pusing']\n",
      "SARANA ['mean']\n",
      "KUMAN ['kuman']\n",
      "PAKAI ['use it.']\n",
      "DOBEL ['dobel']\n",
      "KACA ['Glass']\n",
      "SUSPENSI ['suspensi']\n",
      "JILID ['jilid']\n",
      "TANGKI ['tangki']\n",
      "TULIS ['tulis']\n",
      "CANGKOK ['cangkok']\n",
      "PROMOSI ['Promotion']\n",
      "KARDUS ['kardus']\n"
     ]
    }
   ],
   "source": [
    "for item in train_indo_words[:25]:\n",
    "    encoded = tok_mbart50(item.lower(), return_tensors=\"pt\")\n",
    "    generated_tokens = model_mbart50.generate(**encoded, forced_bos_token_id=tok_mbart50.lang_code_to_id[\"en_XX\"])\n",
    "    translated_text = tok_mbart50.batch_decode(generated_tokens, skip_special_tokens=True)\n",
    "    print(item,translated_text)"
   ]
  },
  {
   "cell_type": "markdown",
   "id": "ignored-protection",
   "metadata": {
    "papermill": {
     "duration": 0.061987,
     "end_time": "2021-04-13T15:18:08.360751",
     "exception": false,
     "start_time": "2021-04-13T15:18:08.298764",
     "status": "completed"
    },
    "tags": []
   },
   "source": [
    "So finally we get the desired outputs. You see how the 'pipeline' API ditched us and we had to abondon it for an alternate way. Well, since this is pretty new tech, maybe these issues are not reported to Huggingface yet. There are couple of other issues I faced and spent lots of time debugging. For e.g., I was originally trying this in TF but this command does not work. There is an issue and though I spent a lot of time debugging and going thru' original codes as well, I couldnt solve it. I had to change the tensors to PyTorch to get it to work.\n",
    "\n",
    "The results are much much better than the Helinski translators but still not as great as the Google translator. However it must be noted that there are no wrong translations. We have managed to overcome the bypass API  load limitations at Google and create a neat translator of our own that can translate text from any language in the world to any other using mbart. There is hardly any online help for debugging issues that arose on the way and so there is a small sense of satisfaction :)\n",
    "\n",
    "BART has both an encoder (like BERT) and a decoder (like GPT), essentially getting the best of both worlds. The encoder uses a denoising objective similar to BERT while the decoder attempts to reproduce the original sequence (autoencoder), token by token, using the previous (uncorrupted) tokens and the output from the encoder.\n",
    "\n",
    "Lastly coming to the mystery of why the 'transformers' version was not getting upgraded even though we were doing pip installs. I found one kernel talk about this solution (though I didnt get time to explore in detail & confirm if it really works) - huggingface uses module \"pkg_resources\" to get the version. But pkg_resources is loaded right after the Kaggle's notebook starting. So it CANNOT get the correct version of transformers after we upgrade (somewhere in the middle of the kernel) and keeps pointing to the old version. The trick is to just releoad pkg_resources. Now hopefully we can change back the environment settings to the old value and not worry about ever-changing versions of libraries :) Note - Havent tested this but intend to test it in future if I get time.\n",
    "\n",
    "But human greed sometimes does not have limits and it often challenges us to do a little more. I was thinking of some way to leverage Google tranbslate's awesome service and then realized about the 5000 character document conversions. Basically we just take\n",
    "https://raw.githubusercontent.com/sastrawi/sastrawi/master/data/kata-dasar.original.txt and break it into 5000 character chunks and feed to Google translate. There are couple of caveats here. Firstly we need to put a fullstop between each word else Google will try to translate it into a sentence and may shuffle the words. For e.g. try translating \"wanita PERANGKAP sapi PERANGKAT APEL wanita\". Secondly let us not translate entire Indo dict but will translate only those 2K odd words that are part of Title field. We may have to do it in 5 iterations"
   ]
  },
  {
   "cell_type": "code",
   "execution_count": 23,
   "id": "massive-dress",
   "metadata": {
    "execution": {
     "iopub.execute_input": "2021-04-13T15:18:08.489787Z",
     "iopub.status.busy": "2021-04-13T15:18:08.488820Z",
     "iopub.status.idle": "2021-04-13T15:18:08.497780Z",
     "shell.execute_reply": "2021-04-13T15:18:08.498325Z"
    },
    "papermill": {
     "duration": 0.075245,
     "end_time": "2021-04-13T15:18:08.498551",
     "exception": false,
     "start_time": "2021-04-13T15:18:08.423306",
     "status": "completed"
    },
    "tags": []
   },
   "outputs": [],
   "source": [
    "for i in range(1,7):\n",
    "    with open('translate' + str(i) + '.txt', 'w') as file_t:\n",
    "        file_t.write('.\\n'.join(str(item) for item in train_indo_words[(i-1)*500:i*500]))"
   ]
  },
  {
   "cell_type": "markdown",
   "id": "crazy-salad",
   "metadata": {
    "papermill": {
     "duration": 0.064216,
     "end_time": "2021-04-13T15:18:08.625730",
     "exception": false,
     "start_time": "2021-04-13T15:18:08.561514",
     "status": "completed"
    },
    "tags": []
   },
   "source": [
    "IMP: There is a manual step here where I run Google translate on these 6 files and append the outputs into the 'translated.txt' file which has been uploaded."
   ]
  },
  {
   "cell_type": "code",
   "execution_count": 24,
   "id": "together-chile",
   "metadata": {
    "execution": {
     "iopub.execute_input": "2021-04-13T15:18:08.755835Z",
     "iopub.status.busy": "2021-04-13T15:18:08.754486Z",
     "iopub.status.idle": "2021-04-13T15:18:08.764010Z",
     "shell.execute_reply": "2021-04-13T15:18:08.764601Z"
    },
    "papermill": {
     "duration": 0.07646,
     "end_time": "2021-04-13T15:18:08.764782",
     "exception": false,
     "start_time": "2021-04-13T15:18:08.688322",
     "status": "completed"
    },
    "tags": []
   },
   "outputs": [],
   "source": [
    "with open ('../input/googletranslated/translated.txt', \"r\") as myfile:\n",
    "    translated=(myfile.read().splitlines())"
   ]
  },
  {
   "cell_type": "code",
   "execution_count": 25,
   "id": "focused-details",
   "metadata": {
    "execution": {
     "iopub.execute_input": "2021-04-13T15:18:08.896865Z",
     "iopub.status.busy": "2021-04-13T15:18:08.895775Z",
     "iopub.status.idle": "2021-04-13T15:18:08.903390Z",
     "shell.execute_reply": "2021-04-13T15:18:08.903935Z"
    },
    "papermill": {
     "duration": 0.074499,
     "end_time": "2021-04-13T15:18:08.904126",
     "exception": false,
     "start_time": "2021-04-13T15:18:08.829627",
     "status": "completed"
    },
    "tags": []
   },
   "outputs": [
    {
     "name": "stdout",
     "output_type": "stream",
     "text": [
      "['KOK', 'ELBOW', 'MAP', 'WINDOW', 'BRAND', 'FAILED', 'THYME', 'TEETH', 'PORCUPINE', 'JEMBER', 'CASE', 'DUCK', 'Patch', 'BEE', 'VILLAGE', 'REMPAH', 'MAGPIE', 'MISS', 'MACHINE', 'ETALAGE', 'THINK', 'SAHARA', 'TINGTING', 'TRIPE', 'MISTAR']\n",
      "\n",
      " 2727\n"
     ]
    }
   ],
   "source": [
    "translated = [s.strip('.') for s in translated]\n",
    "print(translated[:25])\n",
    "print('\\n', len(translated))"
   ]
  },
  {
   "cell_type": "markdown",
   "id": "defined-concentration",
   "metadata": {
    "papermill": {
     "duration": 0.063557,
     "end_time": "2021-04-13T15:18:09.031615",
     "exception": false,
     "start_time": "2021-04-13T15:18:08.968058",
     "status": "completed"
    },
    "tags": []
   },
   "source": [
    "Perfect, we just have to zip them up to create a dict. Note that I read train_indo_words from the 'translate.txt' file which is nothing but the appending of the 6 output files we created for the translate. Each time the kernel is run, train_indo_words is sorted in a different way because of the set() function. I realized this after translating the 6 files manually and have no intention of going back to sorting the set and re-doing gthe whole thing "
   ]
  },
  {
   "cell_type": "code",
   "execution_count": 26,
   "id": "european-terrace",
   "metadata": {
    "execution": {
     "iopub.execute_input": "2021-04-13T15:18:09.164565Z",
     "iopub.status.busy": "2021-04-13T15:18:09.163880Z",
     "iopub.status.idle": "2021-04-13T15:18:09.172035Z",
     "shell.execute_reply": "2021-04-13T15:18:09.171297Z"
    },
    "papermill": {
     "duration": 0.07715,
     "end_time": "2021-04-13T15:18:09.172193",
     "exception": false,
     "start_time": "2021-04-13T15:18:09.095043",
     "status": "completed"
    },
    "tags": []
   },
   "outputs": [],
   "source": [
    "with open ('../input/translate/translate.txt', \"r\") as myfile:\n",
    "    train_indo_words=(myfile.read().splitlines())\n",
    "train_indo_words = [s.strip('.') for s in train_indo_words]\n",
    "    \n",
    "indo_en_dict = dict(zip(train_indo_words, translated))"
   ]
  },
  {
   "cell_type": "markdown",
   "id": "amateur-dressing",
   "metadata": {
    "papermill": {
     "duration": 0.064013,
     "end_time": "2021-04-13T15:18:09.300062",
     "exception": false,
     "start_time": "2021-04-13T15:18:09.236049",
     "status": "completed"
    },
    "tags": []
   },
   "source": [
    "Let us remove the un-translated words. Hopefully there would not be too many of them"
   ]
  },
  {
   "cell_type": "code",
   "execution_count": 27,
   "id": "confidential-computer",
   "metadata": {
    "execution": {
     "iopub.execute_input": "2021-04-13T15:18:09.433177Z",
     "iopub.status.busy": "2021-04-13T15:18:09.432532Z",
     "iopub.status.idle": "2021-04-13T15:18:09.435827Z",
     "shell.execute_reply": "2021-04-13T15:18:09.435169Z"
    },
    "papermill": {
     "duration": 0.072515,
     "end_time": "2021-04-13T15:18:09.435976",
     "exception": false,
     "start_time": "2021-04-13T15:18:09.363461",
     "status": "completed"
    },
    "tags": []
   },
   "outputs": [],
   "source": [
    "for k, v in dict(indo_en_dict).items():\n",
    "    if k==v:\n",
    "        del indo_en_dict[k]"
   ]
  },
  {
   "cell_type": "code",
   "execution_count": 28,
   "id": "humanitarian-amsterdam",
   "metadata": {
    "execution": {
     "iopub.execute_input": "2021-04-13T15:18:09.573533Z",
     "iopub.status.busy": "2021-04-13T15:18:09.572664Z",
     "iopub.status.idle": "2021-04-13T15:18:09.577297Z",
     "shell.execute_reply": "2021-04-13T15:18:09.576781Z"
    },
    "papermill": {
     "duration": 0.077722,
     "end_time": "2021-04-13T15:18:09.577468",
     "exception": false,
     "start_time": "2021-04-13T15:18:09.499746",
     "status": "completed"
    },
    "tags": []
   },
   "outputs": [
    {
     "name": "stdout",
     "output_type": "stream",
     "text": [
      "2144 \n",
      "\n",
      "\n",
      "[('SIKUT', 'ELBOW'), ('PETAK', 'MAP'), ('JENDELA', 'WINDOW'), ('MEREK', 'BRAND'), ('GAGAS', 'FAILED'), ('TIMI', 'THYME'), ('GERIGI', 'TEETH'), ('LANDAK', 'PORCUPINE'), ('KASUS', 'CASE'), ('ITIK', 'DUCK'), ('TAMBAL', 'Patch'), ('LEBAH', 'BEE'), ('DESA', 'VILLAGE'), ('KACER', 'MAGPIE'), ('MBAK', 'MISS'), ('MESIN', 'MACHINE'), ('ETALASE', 'ETALAGE'), ('PIKIR', 'THINK'), ('BABAT', 'TRIPE'), ('BOLU', 'SPONGE'), ('TABUNG', 'TUBE'), ('EKONOMIS', 'ECONOMICAL'), ('LARAS', 'BARREL'), ('PERABOT', 'FURNITURE'), ('BINCANG', 'BEAM'), ('MASIH', 'STILL'), ('BAGAN', 'CHART'), ('DINAS', 'SERVICE'), ('WILAYAH', 'REGION'), ('RODA', 'WHEEL'), ('ASAL', 'ORIGIN'), ('MANIKUR', 'MANICURE'), ('MATI', 'DIE'), ('API', 'FIRE'), ('SPESIAL', 'SPECIAL'), ('AMPLOP', 'ENVELOPE'), ('TEROMPAH', 'SANDALS'), ('KURAS', 'DRAIN'), ('METODE', 'METHOD'), ('SEKOLAH', 'SCHOOL'), ('PESONA', 'CHARM'), ('KELINCI', 'RABBIT'), ('TUNGKU', 'WAIT'), ('SUSAH', 'HARD'), ('USAP', 'WIPE'), ('GARPU', 'FORK'), ('PANCI', 'PAN'), ('LELAKI', 'MAN'), ('GUNUNG', 'MOUNTAIN'), ('KELAP', 'COCONUT'), ('INFUS', 'INFUSES'), ('TENAGA', 'POWER'), ('PEDOK', 'MEDICINE'), ('CANGGIH', 'ADVANCED'), ('USIA', 'AGE'), ('LATIH', 'TRAIN'), ('KAMUS', 'DICTIONARY'), ('PRESISI', 'PRECISION'), ('SUPLEMEN', 'SUPPLEMENT'), ('CABUT', 'REMOVE'), ('JIWA', 'SOUL'), ('TUNGGAL', 'SINGLE'), ('DUDUK', 'SIT'), ('JERAWAT', 'ACNE'), ('LALAT', 'FLIES'), ('SEJARAH', 'HISTORY'), ('SEMANGGI', 'CLOVER'), ('KAMPUNG', 'VILLAGE'), ('PUTRA', 'SON'), ('GULALI', 'BULK'), ('KESELEO', 'SPRAIN'), ('UNTUK', 'FOR'), ('AKUNTANSI', 'ACCOUNTING'), ('AMAN', 'SECURE'), ('PERAS', 'Squeeze'), ('ARANG', 'CHARCOAL'), ('AKAN', 'WILL'), ('NENEK', 'GRANDMOTHER'), ('KELELAWAR', 'BAT'), ('VARIASI', 'VARIATION'), ('CUKUR', 'SHAVING'), ('KUAH', 'SAUCE'), ('KERUDUNG', 'VEIL'), ('MAKAN', 'EAT'), ('SAMPAI', 'TO'), ('BEKU', 'FROZEN'), ('TES', 'TEST'), ('MULUS', 'SMOOTH'), ('MUTU', 'QUALITY'), ('BALAP', 'RACING'), ('TIMUR', 'EAST'), ('BAYAM', 'SPINACH'), ('SEMUA', 'ALL'), ('KHUSUS', 'SPECIAL'), ('KALIMAT', 'SENTENCE'), ('JILID', 'VOLUME'), ('KUNCIR', 'TUNK'), ('MASAKAN', 'COOK'), ('KAMERA', 'CAMERA'), ('JUGA', 'TOO')]\n"
     ]
    }
   ],
   "source": [
    "print(len(indo_en_dict), '\\n\\n')\n",
    "print(list(indo_en_dict.items())[:100])\n",
    "\n",
    "with open('indonesean_english_dict.txt', 'w') as file_t:\n",
    "    file_t.write('\\n'.join(str(item) for item in list(indo_en_dict.items())))"
   ]
  },
  {
   "cell_type": "markdown",
   "id": "plastic-albania",
   "metadata": {
    "papermill": {
     "duration": 0.063446,
     "end_time": "2021-04-13T15:18:09.705060",
     "exception": false,
     "start_time": "2021-04-13T15:18:09.641614",
     "status": "completed"
    },
    "tags": []
   },
   "source": [
    "yay! we get a nice dictionary which is domain specific to Shoppe!! Now a few questions beg to be answered at this point. Do we really a need a dict? Ragnar showed good scores with a regular english Bert model. There is also a Indonesean Bert model that is doing the rounds. Will that not suffice? Obviously whosoever is using the English version of BERT will benifit from a translation before-hand. But how about the Indonesean model? Will that benefit? We have seen that there are quite a few English words in the 'Title' field. How will the Indonesean model interpret these words? It is completely Indo right? Let us check the the Indoensian Bert - https://huggingface.co/cahya/bert-base-indonesian-522M"
   ]
  },
  {
   "cell_type": "code",
   "execution_count": 29,
   "id": "appointed-rendering",
   "metadata": {
    "collapsed": true,
    "execution": {
     "iopub.execute_input": "2021-04-13T15:18:09.842883Z",
     "iopub.status.busy": "2021-04-13T15:18:09.842102Z",
     "iopub.status.idle": "2021-04-13T15:18:32.425167Z",
     "shell.execute_reply": "2021-04-13T15:18:32.425672Z"
    },
    "jupyter": {
     "outputs_hidden": true
    },
    "papermill": {
     "duration": 22.655333,
     "end_time": "2021-04-13T15:18:32.425865",
     "exception": false,
     "start_time": "2021-04-13T15:18:09.770532",
     "status": "completed"
    },
    "tags": []
   },
   "outputs": [
    {
     "data": {
      "application/vnd.jupyter.widget-view+json": {
       "model_id": "dde4013b84744f55a4e46e6149af047a",
       "version_major": 2,
       "version_minor": 0
      },
      "text/plain": [
       "Downloading:   0%|          | 0.00/230k [00:00<?, ?B/s]"
      ]
     },
     "metadata": {},
     "output_type": "display_data"
    },
    {
     "data": {
      "application/vnd.jupyter.widget-view+json": {
       "model_id": "249a8ecfc9444784aac69491d1b72058",
       "version_major": 2,
       "version_minor": 0
      },
      "text/plain": [
       "Downloading:   0%|          | 0.00/112 [00:00<?, ?B/s]"
      ]
     },
     "metadata": {},
     "output_type": "display_data"
    },
    {
     "data": {
      "application/vnd.jupyter.widget-view+json": {
       "model_id": "546169a6a7f144d69d6869856fa66611",
       "version_major": 2,
       "version_minor": 0
      },
      "text/plain": [
       "Downloading:   0%|          | 0.00/62.0 [00:00<?, ?B/s]"
      ]
     },
     "metadata": {},
     "output_type": "display_data"
    },
    {
     "data": {
      "application/vnd.jupyter.widget-view+json": {
       "model_id": "19256da21ee349dab327ab57a448a04a",
       "version_major": 2,
       "version_minor": 0
      },
      "text/plain": [
       "Downloading:   0%|          | 0.00/468 [00:00<?, ?B/s]"
      ]
     },
     "metadata": {},
     "output_type": "display_data"
    },
    {
     "data": {
      "application/vnd.jupyter.widget-view+json": {
       "model_id": "c7cafb88546c4104b6e87315ec291f26",
       "version_major": 2,
       "version_minor": 0
      },
      "text/plain": [
       "Downloading:   0%|          | 0.00/545M [00:00<?, ?B/s]"
      ]
     },
     "metadata": {},
     "output_type": "display_data"
    },
    {
     "name": "stderr",
     "output_type": "stream",
     "text": [
      "Some layers from the model checkpoint at cahya/bert-base-indonesian-522M were not used when initializing TFBertModel: ['mlm___cls']\n",
      "- This IS expected if you are initializing TFBertModel from the checkpoint of a model trained on another task or with another architecture (e.g. initializing a BertForSequenceClassification model from a BertForPreTraining model).\n",
      "- This IS NOT expected if you are initializing TFBertModel from the checkpoint of a model that you expect to be exactly identical (initializing a BertForSequenceClassification model from a BertForSequenceClassification model).\n",
      "All the layers of TFBertModel were initialized from the model checkpoint at cahya/bert-base-indonesian-522M.\n",
      "If your task is similar to the task the model of the checkpoint was trained on, you can already use TFBertModel for predictions without further training.\n"
     ]
    }
   ],
   "source": [
    "from transformers import BertTokenizer, TFBertModel\n",
    "\n",
    "model_name='cahya/bert-base-indonesian-522M'\n",
    "tokenizer = BertTokenizer.from_pretrained(model_name)\n",
    "bert_layer = TFBertModel.from_pretrained(model_name)"
   ]
  },
  {
   "cell_type": "markdown",
   "id": "young-blues",
   "metadata": {
    "papermill": {
     "duration": 0.068814,
     "end_time": "2021-04-13T15:18:32.563840",
     "exception": false,
     "start_time": "2021-04-13T15:18:32.495026",
     "status": "completed"
    },
    "tags": []
   },
   "source": [
    "Firstly no more 'pipeline's for me for a while... Secondly let us choose Tensorflow. There is hardly any documentation for TF on Hugginface models..So maybe we will learn a few new things while trying to figure out the APIs"
   ]
  },
  {
   "cell_type": "code",
   "execution_count": 30,
   "id": "comic-literacy",
   "metadata": {
    "execution": {
     "iopub.execute_input": "2021-04-13T15:18:32.707550Z",
     "iopub.status.busy": "2021-04-13T15:18:32.706875Z",
     "iopub.status.idle": "2021-04-13T15:18:32.712496Z",
     "shell.execute_reply": "2021-04-13T15:18:32.711900Z"
    },
    "papermill": {
     "duration": 0.079805,
     "end_time": "2021-04-13T15:18:32.712648",
     "exception": false,
     "start_time": "2021-04-13T15:18:32.632843",
     "status": "completed"
    },
    "tags": []
   },
   "outputs": [
    {
     "data": {
      "text/plain": [
       "BertConfig {\n",
       "  \"_name_or_path\": \"cahya/bert-base-indonesian-522M\",\n",
       "  \"architectures\": [\n",
       "    \"BertForMaskedLM\"\n",
       "  ],\n",
       "  \"attention_probs_dropout_prob\": 0.1,\n",
       "  \"gradient_checkpointing\": false,\n",
       "  \"hidden_act\": \"gelu\",\n",
       "  \"hidden_dropout_prob\": 0.1,\n",
       "  \"hidden_size\": 768,\n",
       "  \"initializer_range\": 0.02,\n",
       "  \"intermediate_size\": 3072,\n",
       "  \"layer_norm_eps\": 1e-12,\n",
       "  \"max_position_embeddings\": 512,\n",
       "  \"model_type\": \"bert\",\n",
       "  \"num_attention_heads\": 12,\n",
       "  \"num_hidden_layers\": 12,\n",
       "  \"pad_token_id\": 0,\n",
       "  \"position_embedding_type\": \"absolute\",\n",
       "  \"transformers_version\": \"4.4.2\",\n",
       "  \"type_vocab_size\": 2,\n",
       "  \"use_cache\": true,\n",
       "  \"vocab_size\": 32000\n",
       "}"
      ]
     },
     "execution_count": 30,
     "metadata": {},
     "output_type": "execute_result"
    }
   ],
   "source": [
    "bert_layer.config"
   ]
  },
  {
   "cell_type": "markdown",
   "id": "global-tucson",
   "metadata": {
    "papermill": {
     "duration": 0.070139,
     "end_time": "2021-04-13T15:18:32.851945",
     "exception": false,
     "start_time": "2021-04-13T15:18:32.781806",
     "status": "completed"
    },
    "tags": []
   },
   "source": [
    "That was easy..The vocab size is 32K just like the English equivalent. In particular, I wanted the token dictionary to find out if there are English words. There is no documentation on the net for the same but Huggingface APIs are nice and standard. "
   ]
  },
  {
   "cell_type": "code",
   "execution_count": 31,
   "id": "requested-sheep",
   "metadata": {
    "execution": {
     "iopub.execute_input": "2021-04-13T15:18:33.022509Z",
     "iopub.status.busy": "2021-04-13T15:18:33.012102Z",
     "iopub.status.idle": "2021-04-13T15:18:33.076241Z",
     "shell.execute_reply": "2021-04-13T15:18:33.075687Z"
    },
    "papermill": {
     "duration": 0.156625,
     "end_time": "2021-04-13T15:18:33.076383",
     "exception": false,
     "start_time": "2021-04-13T15:18:32.919758",
     "status": "completed"
    },
    "tags": []
   },
   "outputs": [
    {
     "data": {
      "text/plain": [
       "\"[';', 'θ', 'ש', 'ร', 'ส', '₱', '南', '空', '義', '聖', '##y', '##æ', '##к', '##ː', '##い', '##ら', '##হ', '##ล', '##ф', '##ほ', '##ვ', '##ꦧ', '##త', '##せ', '##ur', '##and', 'sem', 'kayu', 'har', 'en', '##ingan', '##uku', 're', 'sum', 'menggunakan', 'komp', 'kl', 'berl', 'terp', '##hi', 'kerus', '93', '##ambil', '##ender', '##urkan', 'penggun', 'maret', '2012', 'bun', 'tercatat', 'aj', '2017', '##takan', '##tin', 'lam', '##asikan', 'walaupun', 'diadakan', 'stand', 'admin', '##akup', '##ambahan', 'banj', 'sif', 'ars', 'ay', '##ungkinan', 'berusaha', 'profesi', 'pela', 'melanjutkan', 'cy', 'mask', 'turun', '##ontakan', 'inj', 'anj', 'tanjung', '##isipasi', 'rump', 'kursi', 'karyanya', '36', '##omi', 'dewi', '##esh', 'bomb', 'setengah', 'bersamaan', '##asitas', 'cit', 'akses', '##imb', 'sunda', 'hidupnya', '##alib', 'induk', '##eni', 'berpart', 'colle', '##kand', 'fos', '##elan', 'pasir', 'pp', 'setidaknya', 'amor', '##urang', '##eman', 'gelap', 'wid', '##ekor', 'dilaporkan', 'nyata', '##usat', '##ungkan', 'melaporkan', 'pip', 'ear', 'pembawa', 'manga', '1947', 'menghentikan', 'pilot', 'menambah', 'hir', '##edy', 'dh', 'padat', 'pendeta', '##ony', '##ebo', 'riv', '##oe', 'madras', 'ulasan', 'produsen', 'monumen', 'kardinal', '##anam', 'frekuensi', 'pros', 'wartawan', 'perbaikan', '##xia', 'golden', '##etika', '##ion', 'hon', 'pedang', '##hai', 'maz', '##agn', 'forum', '160', 'yon', '##misi', 'jena', '##diakan', 'jangan', 'nick', '##eme', 'girl', '##estor', 'indeks', 'zhang', 'ever', 'paras', 'bulgaria', 'tamil', 'krom', 'beranggotakan', '##olasi', 'hawaii', 'disiplin', 'lamanya', '##ativ', 'piano', '##engarkan', 'fair', '##raham', 'nip', '##yid', '##atap', '##graf', 'diceritakan', 'comte', 'impl', 'rand', 'kevin', 'dihitung', '##gro', '##uts', 'timnas', 'jajaran', 'alban', 'pendidikannya', 'rhododendron', 'nev', 'kompilasi', '##aian', 'serang', 'kuningan', '##antaian', 'cham', 'public', 'keliling', '##ento', 'identik', '##phone', '162', 'karim', '##roduseri', 'dikumpulkan', 'bohemia', 'kuantum', '##ujaan', '##ific', '##par', 'tegangan', 'kelaparan', 'sejalan', 'shu', 'limbah', '##cas', 'elit', '##elin', 'meledak', '##ites', 'panji', 'ungkapan', 'yordania', 'scre', 'penentuan', 'mengend', 'jaminan', 'komitmen', '##endam', 'potter', 'bt', 'penglihatan', 'mediterania', 'nint', 'luther', 'sedih', 'moore', 'films', 'event', 'prosesor', '##arch', 'pemburu', 'rick', 'ign', 'medium', 'xv', '##fri', 'menghalangi', 'udang', 'sean', 'kakinya', 'tatan', '##opang', 'mekanik', 'history', 'sertifikat', 'marvel', 'stream', 'meteor', 'jasanya', 'akreditasi', 'penggantinya', 'didat', 'diklaim', 'mutiara', '##ces', 'navigasi', 'indie', '##dal', 'kehamilan', 'theater', 'kekhawatiran', 'tebu', 'leop', 'munt', 'baek', 'umpan', 'its', '##ekarkan', 'memerangi', 'menamakan', 'unta', '##illah', 'lav', 'penip', 'nicholas', 'gizi', '##ongk', 'torymus', 'beralam', 'bolivia', 'nathan', 'sunni', 'pengumpulan', '##itatif', 'gabriel', '##anduan', '##resiasi', '##arui', 'brev', '##ingkir', 'bella', '##alau', 'perkemahan', '##ilet', '##eke', 'pelap', 'motivasi', 'disarankan', 'opsi', 'respons']\""
      ]
     },
     "execution_count": 31,
     "metadata": {},
     "output_type": "execute_result"
    }
   ],
   "source": [
    "import random\n",
    "\n",
    "rndtokens=[]\n",
    "for item in tokenizer.vocab:\n",
    "    rndtokens.append(item) if (len(rndtokens) < 320) & (random.randint(0,100)<2) else None\n",
    "    \n",
    "str(rndtokens)"
   ]
  },
  {
   "cell_type": "markdown",
   "id": "grateful-mozambique",
   "metadata": {
    "papermill": {
     "duration": 0.069414,
     "end_time": "2021-04-13T15:18:33.216049",
     "exception": false,
     "start_time": "2021-04-13T15:18:33.146635",
     "status": "completed"
    },
    "tags": []
   },
   "source": [
    "We can see a bunch of characters from diff languages including Chinese, HJindi, possibly Japanese Katakana. We can see a few English words here and there but not lots. Mainly it is Indonesian. Let us check the English words present in the retail domain space"
   ]
  },
  {
   "cell_type": "code",
   "execution_count": 32,
   "id": "alpine-bikini",
   "metadata": {
    "execution": {
     "iopub.execute_input": "2021-04-13T15:18:33.367959Z",
     "iopub.status.busy": "2021-04-13T15:18:33.362620Z",
     "iopub.status.idle": "2021-04-13T15:18:33.373394Z",
     "shell.execute_reply": "2021-04-13T15:18:33.372722Z"
    },
    "papermill": {
     "duration": 0.087441,
     "end_time": "2021-04-13T15:18:33.373568",
     "exception": false,
     "start_time": "2021-04-13T15:18:33.286127",
     "status": "completed"
    },
    "tags": []
   },
   "outputs": [
    {
     "data": {
      "text/plain": [
       "['hat', 'best', 'original', 'woman', 'product']"
      ]
     },
     "execution_count": 32,
     "metadata": {},
     "output_type": "execute_result"
    }
   ],
   "source": [
    "[item for (item) in tokenizer.vocab if item in ['organic','best','product','sale','woman', 'shirt','jeans','Original','original', 'gloves', 'hat']]"
   ]
  },
  {
   "cell_type": "markdown",
   "id": "first-suite",
   "metadata": {
    "papermill": {
     "duration": 0.070496,
     "end_time": "2021-04-13T15:18:33.514455",
     "exception": false,
     "start_time": "2021-04-13T15:18:33.443959",
     "status": "completed"
    },
    "tags": []
   },
   "source": [
    "Interestingly, There are some English words but many are missing."
   ]
  },
  {
   "cell_type": "code",
   "execution_count": 33,
   "id": "damaged-honduras",
   "metadata": {
    "execution": {
     "iopub.execute_input": "2021-04-13T15:18:33.668850Z",
     "iopub.status.busy": "2021-04-13T15:18:33.663346Z",
     "iopub.status.idle": "2021-04-13T15:18:33.688359Z",
     "shell.execute_reply": "2021-04-13T15:18:33.687638Z"
    },
    "papermill": {
     "duration": 0.102949,
     "end_time": "2021-04-13T15:18:33.688570",
     "exception": false,
     "start_time": "2021-04-13T15:18:33.585621",
     "status": "completed"
    },
    "tags": []
   },
   "outputs": [
    {
     "name": "stdout",
     "output_type": "stream",
     "text": [
      "3185 \n",
      "\n",
      "['yang', 'dari', 'meng', 'pert', 'meny', 'orang', 'lain', 'pend', 'mend', 'film', 'tang', 'para', 'kali', 'genus', 'aster', 'sang', 'samp', 'asteroid', 'baru', 'ting', 'send', 'king', 'serta', 'diter', 'bang', 'kingdom', 'masa', 'pern', 'inter', 'teng', 'perm', 'member', 'raja', 'band', 'berm', 'album', 'intern', 'paling', 'terp', 'mana', 'perk', 'larva', 'plan', 'belanda', 'planet', 'organ', 'acara', 'program', 'agama', 'nebula', 'lama', 'ayah', 'bola', 'sing', 'pang', 'agar', 'orbit', 'peri', 'bahan', 'prof', 'raya', 'surat', 'bend', 'zaman', 'rata', 'unit', 'prim', 'dewan', 'pand', 'media', 'kend', 'form', 'video', 'saya', 'hind', 'badan', 'modern', 'kitab', 'serial', 'model', 'situs', 'masjid', 'data', 'gamb', 'award', 'drama', 'sultan', 'sisi', 'meter', 'episode', 'tamp', 'berg', 'enam', 'guru', 'anti', 'primordial', 'hong', 'stand', 'sumatra', 'bank']\n"
     ]
    }
   ],
   "source": [
    "eng_in_indobert = []\n",
    "\n",
    "for item in tokenizer.vocab:\n",
    "    if len(item)>3 and item.lower() in setofwords:\n",
    "        eng_in_indobert.append(item)\n",
    "        \n",
    "print(len(eng_in_indobert),'\\n')\n",
    "print(eng_in_indobert[:100])"
   ]
  },
  {
   "cell_type": "markdown",
   "id": "civic-cloud",
   "metadata": {
    "papermill": {
     "duration": 0.069351,
     "end_time": "2021-04-13T15:18:33.829302",
     "exception": false,
     "start_time": "2021-04-13T15:18:33.759951",
     "status": "completed"
    },
    "tags": []
   },
   "source": [
    "So there is a quite a bit of English already built-in into Indo Bert. So maybe that is the reason it works well. Secondly keep in mind that token vocab file IS NOT MEANT to be something like a dictionary. BERT works by splitting quite a few words into tokens. So there could be many words that are not present in the token file and this is perfectly fine. But we just wanted to get an idea if Indo BERT has any english tokens at all and hence the peek.\n",
    "\n",
    "Now that we have established that Indo BERT understands English to a reasonable extent, is there any benefit in this dictionary. I believe so. It may work better by translating the English words to Indonesean using the dictionary above and then using thje Indo BERT.\n",
    "\n",
    "But why would someone want to use an Indo BERT or an English BERT when we have MBERT from google and an XLMBERT from Facebook which is more comprehensive. These are trained on 100+ languages and will perform far better. XLMBERT can be loaded using the same 2-3 lines of Hugginface APIs and if you print the length of the token file it comes to a whopping 250000 or about 10 times the token for the English or the Indo Bert. To me, that seems like a good choice to start experimenting with.\n",
    "\n",
    "But is this dictonary we created a waste? Absolutely not. We learnt many things and had fun (and some frustrations) while creating this. I didnt see any such good dictionary of 2000+ Indo to English words on the web, so this could be a useful resource for NLP in general outside this comp. We created a neat real-time translator using mBart-50 which has no limits to the translations which can be done. Now coming to this comp - if for some reason the XLM-Roberta is eating memory and one needs a lighter BERT, one can use the above translations. More importantly these can be used to augment the data in the sparse label groups.\n",
    "\n",
    "One can also experiment with https://pypi.org/project/trankit/. I discovered this gem a bit late and couldnt cover it, but it uses the XMLRoberta base, so it should be at least as good as mbart50, though I doubt whether it will reach Google translate standard."
   ]
  },
  {
   "cell_type": "code",
   "execution_count": 34,
   "id": "forward-score",
   "metadata": {
    "execution": {
     "iopub.execute_input": "2021-04-13T15:18:33.976034Z",
     "iopub.status.busy": "2021-04-13T15:18:33.975355Z",
     "iopub.status.idle": "2021-04-13T15:18:33.991668Z",
     "shell.execute_reply": "2021-04-13T15:18:33.990971Z"
    },
    "papermill": {
     "duration": 0.091598,
     "end_time": "2021-04-13T15:18:33.991816",
     "exception": false,
     "start_time": "2021-04-13T15:18:33.900218",
     "status": "completed"
    },
    "tags": []
   },
   "outputs": [
    {
     "data": {
      "text/plain": [
       "'../working/tokenization_mbart50_fast.py'"
      ]
     },
     "execution_count": 34,
     "metadata": {},
     "output_type": "execute_result"
    }
   ],
   "source": [
    "##Please ignore\n",
    "from shutil import copyfile\n",
    "copyfile(src = \"../input/tokenization-mbart50-fastpy/tokenization_mbart50_fast.py\", dst = \"../working/tokenization_mbart50_fast.py\")"
   ]
  }
 ],
 "metadata": {
  "kernelspec": {
   "display_name": "Python 3",
   "language": "python",
   "name": "python3"
  },
  "language_info": {
   "codemirror_mode": {
    "name": "ipython",
    "version": 3
   },
   "file_extension": ".py",
   "mimetype": "text/x-python",
   "name": "python",
   "nbconvert_exporter": "python",
   "pygments_lexer": "ipython3",
   "version": "3.7.9"
  },
  "papermill": {
   "default_parameters": {},
   "duration": 338.475854,
   "end_time": "2021-04-13T15:18:36.184998",
   "environment_variables": {},
   "exception": null,
   "input_path": "__notebook__.ipynb",
   "output_path": "__notebook__.ipynb",
   "parameters": {},
   "start_time": "2021-04-13T15:12:57.709144",
   "version": "2.3.2"
  },
  "widgets": {
   "application/vnd.jupyter.widget-state+json": {
    "state": {
     "0009bc533f504a6d9892afb6e446f3ea": {
      "model_module": "@jupyter-widgets/controls",
      "model_module_version": "1.5.0",
      "model_name": "ProgressStyleModel",
      "state": {
       "_model_module": "@jupyter-widgets/controls",
       "_model_module_version": "1.5.0",
       "_model_name": "ProgressStyleModel",
       "_view_count": null,
       "_view_module": "@jupyter-widgets/base",
       "_view_module_version": "1.2.0",
       "_view_name": "StyleView",
       "bar_color": null,
       "description_width": ""
      }
     },
     "03dbba5305d840cab2d4900f100ba6d6": {
      "model_module": "@jupyter-widgets/controls",
      "model_module_version": "1.5.0",
      "model_name": "HTMLModel",
      "state": {
       "_dom_classes": [],
       "_model_module": "@jupyter-widgets/controls",
       "_model_module_version": "1.5.0",
       "_model_name": "HTMLModel",
       "_view_count": null,
       "_view_module": "@jupyter-widgets/controls",
       "_view_module_version": "1.5.0",
       "_view_name": "HTMLView",
       "description": "",
       "description_tooltip": null,
       "layout": "IPY_MODEL_a2e972d35c964b2f80e1832829c5e63a",
       "placeholder": "​",
       "style": "IPY_MODEL_ce07c76fd1df4939a885e7c45e5621b7",
       "value": " 801k/801k [00:00&lt;00:00, 2.49MB/s]"
      }
     },
     "03f628d1fafa42079e7f808405bf43df": {
      "model_module": "@jupyter-widgets/base",
      "model_module_version": "1.2.0",
      "model_name": "LayoutModel",
      "state": {
       "_model_module": "@jupyter-widgets/base",
       "_model_module_version": "1.2.0",
       "_model_name": "LayoutModel",
       "_view_count": null,
       "_view_module": "@jupyter-widgets/base",
       "_view_module_version": "1.2.0",
       "_view_name": "LayoutView",
       "align_content": null,
       "align_items": null,
       "align_self": null,
       "border": null,
       "bottom": null,
       "display": null,
       "flex": null,
       "flex_flow": null,
       "grid_area": null,
       "grid_auto_columns": null,
       "grid_auto_flow": null,
       "grid_auto_rows": null,
       "grid_column": null,
       "grid_gap": null,
       "grid_row": null,
       "grid_template_areas": null,
       "grid_template_columns": null,
       "grid_template_rows": null,
       "height": null,
       "justify_content": null,
       "justify_items": null,
       "left": null,
       "margin": null,
       "max_height": null,
       "max_width": null,
       "min_height": null,
       "min_width": null,
       "object_fit": null,
       "object_position": null,
       "order": null,
       "overflow": null,
       "overflow_x": null,
       "overflow_y": null,
       "padding": null,
       "right": null,
       "top": null,
       "visibility": null,
       "width": null
      }
     },
     "04b5ad43f1a2463aa90c6ea339af0336": {
      "model_module": "@jupyter-widgets/controls",
      "model_module_version": "1.5.0",
      "model_name": "HTMLModel",
      "state": {
       "_dom_classes": [],
       "_model_module": "@jupyter-widgets/controls",
       "_model_module_version": "1.5.0",
       "_model_name": "HTMLModel",
       "_view_count": null,
       "_view_module": "@jupyter-widgets/controls",
       "_view_module_version": "1.5.0",
       "_view_name": "HTMLView",
       "description": "",
       "description_tooltip": null,
       "layout": "IPY_MODEL_9ebd6cd20a8f41e6bd3e90913988cbdb",
       "placeholder": "​",
       "style": "IPY_MODEL_563fd7cb1a4a4444a5a1c5b2a78b959f",
       "value": " 291M/291M [00:08&lt;00:00, 28.8MB/s]"
      }
     },
     "0f8a6ca6bc1d4865883f691dd21ea35b": {
      "model_module": "@jupyter-widgets/controls",
      "model_module_version": "1.5.0",
      "model_name": "FloatProgressModel",
      "state": {
       "_dom_classes": [],
       "_model_module": "@jupyter-widgets/controls",
       "_model_module_version": "1.5.0",
       "_model_name": "FloatProgressModel",
       "_view_count": null,
       "_view_module": "@jupyter-widgets/controls",
       "_view_module_version": "1.5.0",
       "_view_name": "ProgressView",
       "bar_style": "success",
       "description": "",
       "description_tooltip": null,
       "layout": "IPY_MODEL_f909b726b6824fa4a11e445e6dc8e683",
       "max": 291146349.0,
       "min": 0.0,
       "orientation": "horizontal",
       "style": "IPY_MODEL_e1415cc1a1d34b70adffb5a3cf4b0b52",
       "value": 291146349.0
      }
     },
     "1260b911f4a749238c007a4051b97ec1": {
      "model_module": "@jupyter-widgets/controls",
      "model_module_version": "1.5.0",
      "model_name": "HBoxModel",
      "state": {
       "_dom_classes": [],
       "_model_module": "@jupyter-widgets/controls",
       "_model_module_version": "1.5.0",
       "_model_name": "HBoxModel",
       "_view_count": null,
       "_view_module": "@jupyter-widgets/controls",
       "_view_module_version": "1.5.0",
       "_view_name": "HBoxView",
       "box_style": "",
       "children": [
        "IPY_MODEL_1e4de9ee0d224a8993973803197c6eb6",
        "IPY_MODEL_af27e943950b48ab9ea5fe58ecd9d8bf",
        "IPY_MODEL_aae36be5f88c4f039c1f09a8b7930c2f"
       ],
       "layout": "IPY_MODEL_e6019733c1a749c8aef783f116a0107e"
      }
     },
     "14d3a58fa2114cedbb591a2b3af9c423": {
      "model_module": "@jupyter-widgets/controls",
      "model_module_version": "1.5.0",
      "model_name": "HBoxModel",
      "state": {
       "_dom_classes": [],
       "_model_module": "@jupyter-widgets/controls",
       "_model_module_version": "1.5.0",
       "_model_name": "HBoxModel",
       "_view_count": null,
       "_view_module": "@jupyter-widgets/controls",
       "_view_module_version": "1.5.0",
       "_view_name": "HBoxView",
       "box_style": "",
       "children": [
        "IPY_MODEL_77ec9420691c4da5bba9e14e9f5a9500",
        "IPY_MODEL_d89425d174aa4781b6473fc0de4b40f3",
        "IPY_MODEL_4bd0538150f84656a8946f7dcb452616"
       ],
       "layout": "IPY_MODEL_e7dd73a6e3904bf792c49a3f9c4d36dd"
      }
     },
     "170eec02ac234ee5986127b9fbc3d3bb": {
      "model_module": "@jupyter-widgets/base",
      "model_module_version": "1.2.0",
      "model_name": "LayoutModel",
      "state": {
       "_model_module": "@jupyter-widgets/base",
       "_model_module_version": "1.2.0",
       "_model_name": "LayoutModel",
       "_view_count": null,
       "_view_module": "@jupyter-widgets/base",
       "_view_module_version": "1.2.0",
       "_view_name": "LayoutView",
       "align_content": null,
       "align_items": null,
       "align_self": null,
       "border": null,
       "bottom": null,
       "display": null,
       "flex": null,
       "flex_flow": null,
       "grid_area": null,
       "grid_auto_columns": null,
       "grid_auto_flow": null,
       "grid_auto_rows": null,
       "grid_column": null,
       "grid_gap": null,
       "grid_row": null,
       "grid_template_areas": null,
       "grid_template_columns": null,
       "grid_template_rows": null,
       "height": null,
       "justify_content": null,
       "justify_items": null,
       "left": null,
       "margin": null,
       "max_height": null,
       "max_width": null,
       "min_height": null,
       "min_width": null,
       "object_fit": null,
       "object_position": null,
       "order": null,
       "overflow": null,
       "overflow_x": null,
       "overflow_y": null,
       "padding": null,
       "right": null,
       "top": null,
       "visibility": null,
       "width": null
      }
     },
     "19256da21ee349dab327ab57a448a04a": {
      "model_module": "@jupyter-widgets/controls",
      "model_module_version": "1.5.0",
      "model_name": "HBoxModel",
      "state": {
       "_dom_classes": [],
       "_model_module": "@jupyter-widgets/controls",
       "_model_module_version": "1.5.0",
       "_model_name": "HBoxModel",
       "_view_count": null,
       "_view_module": "@jupyter-widgets/controls",
       "_view_module_version": "1.5.0",
       "_view_name": "HBoxView",
       "box_style": "",
       "children": [
        "IPY_MODEL_1c154f0fb6f14fbaa46fc228946b255b",
        "IPY_MODEL_79f1aafe76444928840d2906ebb158e5",
        "IPY_MODEL_37ef24a545a64c3ba014a3609dd1e574"
       ],
       "layout": "IPY_MODEL_fa26d779ca414326b883cb925d3ac22c"
      }
     },
     "1996e020120c4918a77557b386fd8b26": {
      "model_module": "@jupyter-widgets/controls",
      "model_module_version": "1.5.0",
      "model_name": "DescriptionStyleModel",
      "state": {
       "_model_module": "@jupyter-widgets/controls",
       "_model_module_version": "1.5.0",
       "_model_name": "DescriptionStyleModel",
       "_view_count": null,
       "_view_module": "@jupyter-widgets/base",
       "_view_module_version": "1.2.0",
       "_view_name": "StyleView",
       "description_width": ""
      }
     },
     "1a71a88042ad446ba3315bd2de6ad93a": {
      "model_module": "@jupyter-widgets/base",
      "model_module_version": "1.2.0",
      "model_name": "LayoutModel",
      "state": {
       "_model_module": "@jupyter-widgets/base",
       "_model_module_version": "1.2.0",
       "_model_name": "LayoutModel",
       "_view_count": null,
       "_view_module": "@jupyter-widgets/base",
       "_view_module_version": "1.2.0",
       "_view_name": "LayoutView",
       "align_content": null,
       "align_items": null,
       "align_self": null,
       "border": null,
       "bottom": null,
       "display": null,
       "flex": null,
       "flex_flow": null,
       "grid_area": null,
       "grid_auto_columns": null,
       "grid_auto_flow": null,
       "grid_auto_rows": null,
       "grid_column": null,
       "grid_gap": null,
       "grid_row": null,
       "grid_template_areas": null,
       "grid_template_columns": null,
       "grid_template_rows": null,
       "height": null,
       "justify_content": null,
       "justify_items": null,
       "left": null,
       "margin": null,
       "max_height": null,
       "max_width": null,
       "min_height": null,
       "min_width": null,
       "object_fit": null,
       "object_position": null,
       "order": null,
       "overflow": null,
       "overflow_x": null,
       "overflow_y": null,
       "padding": null,
       "right": null,
       "top": null,
       "visibility": null,
       "width": null
      }
     },
     "1c154f0fb6f14fbaa46fc228946b255b": {
      "model_module": "@jupyter-widgets/controls",
      "model_module_version": "1.5.0",
      "model_name": "HTMLModel",
      "state": {
       "_dom_classes": [],
       "_model_module": "@jupyter-widgets/controls",
       "_model_module_version": "1.5.0",
       "_model_name": "HTMLModel",
       "_view_count": null,
       "_view_module": "@jupyter-widgets/controls",
       "_view_module_version": "1.5.0",
       "_view_name": "HTMLView",
       "description": "",
       "description_tooltip": null,
       "layout": "IPY_MODEL_53d1c0285f1042d0913587fb25b3aa18",
       "placeholder": "​",
       "style": "IPY_MODEL_f84f86400929413882eb22a65b5351b9",
       "value": "Downloading: 100%"
      }
     },
     "1c587f6804cf489fbd521f0e08d760af": {
      "model_module": "@jupyter-widgets/controls",
      "model_module_version": "1.5.0",
      "model_name": "DescriptionStyleModel",
      "state": {
       "_model_module": "@jupyter-widgets/controls",
       "_model_module_version": "1.5.0",
       "_model_name": "DescriptionStyleModel",
       "_view_count": null,
       "_view_module": "@jupyter-widgets/base",
       "_view_module_version": "1.2.0",
       "_view_name": "StyleView",
       "description_width": ""
      }
     },
     "1d2bf527f2744c09bb06a1e92deff9db": {
      "model_module": "@jupyter-widgets/controls",
      "model_module_version": "1.5.0",
      "model_name": "HTMLModel",
      "state": {
       "_dom_classes": [],
       "_model_module": "@jupyter-widgets/controls",
       "_model_module_version": "1.5.0",
       "_model_name": "HTMLModel",
       "_view_count": null,
       "_view_module": "@jupyter-widgets/controls",
       "_view_module_version": "1.5.0",
       "_view_name": "HTMLView",
       "description": "",
       "description_tooltip": null,
       "layout": "IPY_MODEL_46cef361e3d9424dbcd89d85c8b795d4",
       "placeholder": "​",
       "style": "IPY_MODEL_8179ec0abdc84b5786be4bb71b29a4c7",
       "value": "Downloading: 100%"
      }
     },
     "1da14239fc4a43cf9e140a4f8ab0f67d": {
      "model_module": "@jupyter-widgets/base",
      "model_module_version": "1.2.0",
      "model_name": "LayoutModel",
      "state": {
       "_model_module": "@jupyter-widgets/base",
       "_model_module_version": "1.2.0",
       "_model_name": "LayoutModel",
       "_view_count": null,
       "_view_module": "@jupyter-widgets/base",
       "_view_module_version": "1.2.0",
       "_view_name": "LayoutView",
       "align_content": null,
       "align_items": null,
       "align_self": null,
       "border": null,
       "bottom": null,
       "display": null,
       "flex": null,
       "flex_flow": null,
       "grid_area": null,
       "grid_auto_columns": null,
       "grid_auto_flow": null,
       "grid_auto_rows": null,
       "grid_column": null,
       "grid_gap": null,
       "grid_row": null,
       "grid_template_areas": null,
       "grid_template_columns": null,
       "grid_template_rows": null,
       "height": null,
       "justify_content": null,
       "justify_items": null,
       "left": null,
       "margin": null,
       "max_height": null,
       "max_width": null,
       "min_height": null,
       "min_width": null,
       "object_fit": null,
       "object_position": null,
       "order": null,
       "overflow": null,
       "overflow_x": null,
       "overflow_y": null,
       "padding": null,
       "right": null,
       "top": null,
       "visibility": null,
       "width": null
      }
     },
     "1e4de9ee0d224a8993973803197c6eb6": {
      "model_module": "@jupyter-widgets/controls",
      "model_module_version": "1.5.0",
      "model_name": "HTMLModel",
      "state": {
       "_dom_classes": [],
       "_model_module": "@jupyter-widgets/controls",
       "_model_module_version": "1.5.0",
       "_model_name": "HTMLModel",
       "_view_count": null,
       "_view_module": "@jupyter-widgets/controls",
       "_view_module_version": "1.5.0",
       "_view_name": "HTMLView",
       "description": "",
       "description_tooltip": null,
       "layout": "IPY_MODEL_203331e7f6094449ae45e28cadcebc18",
       "placeholder": "​",
       "style": "IPY_MODEL_c872b98592cc4d3f958e55e58c4d6fd0",
       "value": "Downloading: 100%"
      }
     },
     "1eac57691cb9414baba6a0d1b36a7104": {
      "model_module": "@jupyter-widgets/controls",
      "model_module_version": "1.5.0",
      "model_name": "DescriptionStyleModel",
      "state": {
       "_model_module": "@jupyter-widgets/controls",
       "_model_module_version": "1.5.0",
       "_model_name": "DescriptionStyleModel",
       "_view_count": null,
       "_view_module": "@jupyter-widgets/base",
       "_view_module_version": "1.2.0",
       "_view_name": "StyleView",
       "description_width": ""
      }
     },
     "203331e7f6094449ae45e28cadcebc18": {
      "model_module": "@jupyter-widgets/base",
      "model_module_version": "1.2.0",
      "model_name": "LayoutModel",
      "state": {
       "_model_module": "@jupyter-widgets/base",
       "_model_module_version": "1.2.0",
       "_model_name": "LayoutModel",
       "_view_count": null,
       "_view_module": "@jupyter-widgets/base",
       "_view_module_version": "1.2.0",
       "_view_name": "LayoutView",
       "align_content": null,
       "align_items": null,
       "align_self": null,
       "border": null,
       "bottom": null,
       "display": null,
       "flex": null,
       "flex_flow": null,
       "grid_area": null,
       "grid_auto_columns": null,
       "grid_auto_flow": null,
       "grid_auto_rows": null,
       "grid_column": null,
       "grid_gap": null,
       "grid_row": null,
       "grid_template_areas": null,
       "grid_template_columns": null,
       "grid_template_rows": null,
       "height": null,
       "justify_content": null,
       "justify_items": null,
       "left": null,
       "margin": null,
       "max_height": null,
       "max_width": null,
       "min_height": null,
       "min_width": null,
       "object_fit": null,
       "object_position": null,
       "order": null,
       "overflow": null,
       "overflow_x": null,
       "overflow_y": null,
       "padding": null,
       "right": null,
       "top": null,
       "visibility": null,
       "width": null
      }
     },
     "2111aded241745d1a081e59b4a79b7b0": {
      "model_module": "@jupyter-widgets/controls",
      "model_module_version": "1.5.0",
      "model_name": "HBoxModel",
      "state": {
       "_dom_classes": [],
       "_model_module": "@jupyter-widgets/controls",
       "_model_module_version": "1.5.0",
       "_model_name": "HBoxModel",
       "_view_count": null,
       "_view_module": "@jupyter-widgets/controls",
       "_view_module_version": "1.5.0",
       "_view_name": "HBoxView",
       "box_style": "",
       "children": [
        "IPY_MODEL_d6c0aa508d61460fb3c7837f9e91275d",
        "IPY_MODEL_d63700fecc664143bc149fbbc6d55e05",
        "IPY_MODEL_3015587ac7f44cd4a2c139e1badbed93"
       ],
       "layout": "IPY_MODEL_93202dc51da5414eb649453ded0b4e45"
      }
     },
     "2468217bb2064e9d8919d5ab0c245fbd": {
      "model_module": "@jupyter-widgets/controls",
      "model_module_version": "1.5.0",
      "model_name": "HTMLModel",
      "state": {
       "_dom_classes": [],
       "_model_module": "@jupyter-widgets/controls",
       "_model_module_version": "1.5.0",
       "_model_name": "HTMLModel",
       "_view_count": null,
       "_view_module": "@jupyter-widgets/controls",
       "_view_module_version": "1.5.0",
       "_view_name": "HTMLView",
       "description": "",
       "description_tooltip": null,
       "layout": "IPY_MODEL_60ef52bc9bb04e96bf332852b9a518c7",
       "placeholder": "​",
       "style": "IPY_MODEL_52233012eae9433b8cc70ae19d762625",
       "value": " 796k/796k [00:00&lt;00:00, 2.50MB/s]"
      }
     },
     "249a8ecfc9444784aac69491d1b72058": {
      "model_module": "@jupyter-widgets/controls",
      "model_module_version": "1.5.0",
      "model_name": "HBoxModel",
      "state": {
       "_dom_classes": [],
       "_model_module": "@jupyter-widgets/controls",
       "_model_module_version": "1.5.0",
       "_model_name": "HBoxModel",
       "_view_count": null,
       "_view_module": "@jupyter-widgets/controls",
       "_view_module_version": "1.5.0",
       "_view_name": "HBoxView",
       "box_style": "",
       "children": [
        "IPY_MODEL_1d2bf527f2744c09bb06a1e92deff9db",
        "IPY_MODEL_937a9b6a1fc6407fb791c12cafd5691f",
        "IPY_MODEL_73dd4cd59a52402a928ead88378c24f7"
       ],
       "layout": "IPY_MODEL_97f828b9c9734816892b66c0f1034a71"
      }
     },
     "24f2b24e7a5a4dc9aca60715ac57ca07": {
      "model_module": "@jupyter-widgets/controls",
      "model_module_version": "1.5.0",
      "model_name": "DescriptionStyleModel",
      "state": {
       "_model_module": "@jupyter-widgets/controls",
       "_model_module_version": "1.5.0",
       "_model_name": "DescriptionStyleModel",
       "_view_count": null,
       "_view_module": "@jupyter-widgets/base",
       "_view_module_version": "1.2.0",
       "_view_name": "StyleView",
       "description_width": ""
      }
     },
     "25ac37bda31c4c39aa77434092f2a801": {
      "model_module": "@jupyter-widgets/controls",
      "model_module_version": "1.5.0",
      "model_name": "DescriptionStyleModel",
      "state": {
       "_model_module": "@jupyter-widgets/controls",
       "_model_module_version": "1.5.0",
       "_model_name": "DescriptionStyleModel",
       "_view_count": null,
       "_view_module": "@jupyter-widgets/base",
       "_view_module_version": "1.2.0",
       "_view_name": "StyleView",
       "description_width": ""
      }
     },
     "26a57d2669f345dd9f994a2ae40cf5c1": {
      "model_module": "@jupyter-widgets/controls",
      "model_module_version": "1.5.0",
      "model_name": "FloatProgressModel",
      "state": {
       "_dom_classes": [],
       "_model_module": "@jupyter-widgets/controls",
       "_model_module_version": "1.5.0",
       "_model_name": "FloatProgressModel",
       "_view_count": null,
       "_view_module": "@jupyter-widgets/controls",
       "_view_module_version": "1.5.0",
       "_view_name": "ProgressView",
       "bar_style": "success",
       "description": "",
       "description_tooltip": null,
       "layout": "IPY_MODEL_1a71a88042ad446ba3315bd2de6ad93a",
       "max": 42.0,
       "min": 0.0,
       "orientation": "horizontal",
       "style": "IPY_MODEL_2d29fe4c42904731acdea2959a19eb32",
       "value": 42.0
      }
     },
     "2ad42306cb634a599e43668e3d62a466": {
      "model_module": "@jupyter-widgets/controls",
      "model_module_version": "1.5.0",
      "model_name": "HTMLModel",
      "state": {
       "_dom_classes": [],
       "_model_module": "@jupyter-widgets/controls",
       "_model_module_version": "1.5.0",
       "_model_name": "HTMLModel",
       "_view_count": null,
       "_view_module": "@jupyter-widgets/controls",
       "_view_module_version": "1.5.0",
       "_view_name": "HTMLView",
       "description": "",
       "description_tooltip": null,
       "layout": "IPY_MODEL_a690b69f531e4c728fce9ecd5c449d2f",
       "placeholder": "​",
       "style": "IPY_MODEL_e4a840270a614c3e98a325a1089c8d49",
       "value": "Downloading: 100%"
      }
     },
     "2b6baa08f3714a2586c34975ec770c24": {
      "model_module": "@jupyter-widgets/base",
      "model_module_version": "1.2.0",
      "model_name": "LayoutModel",
      "state": {
       "_model_module": "@jupyter-widgets/base",
       "_model_module_version": "1.2.0",
       "_model_name": "LayoutModel",
       "_view_count": null,
       "_view_module": "@jupyter-widgets/base",
       "_view_module_version": "1.2.0",
       "_view_name": "LayoutView",
       "align_content": null,
       "align_items": null,
       "align_self": null,
       "border": null,
       "bottom": null,
       "display": null,
       "flex": null,
       "flex_flow": null,
       "grid_area": null,
       "grid_auto_columns": null,
       "grid_auto_flow": null,
       "grid_auto_rows": null,
       "grid_column": null,
       "grid_gap": null,
       "grid_row": null,
       "grid_template_areas": null,
       "grid_template_columns": null,
       "grid_template_rows": null,
       "height": null,
       "justify_content": null,
       "justify_items": null,
       "left": null,
       "margin": null,
       "max_height": null,
       "max_width": null,
       "min_height": null,
       "min_width": null,
       "object_fit": null,
       "object_position": null,
       "order": null,
       "overflow": null,
       "overflow_x": null,
       "overflow_y": null,
       "padding": null,
       "right": null,
       "top": null,
       "visibility": null,
       "width": null
      }
     },
     "2d29fe4c42904731acdea2959a19eb32": {
      "model_module": "@jupyter-widgets/controls",
      "model_module_version": "1.5.0",
      "model_name": "ProgressStyleModel",
      "state": {
       "_model_module": "@jupyter-widgets/controls",
       "_model_module_version": "1.5.0",
       "_model_name": "ProgressStyleModel",
       "_view_count": null,
       "_view_module": "@jupyter-widgets/base",
       "_view_module_version": "1.2.0",
       "_view_name": "StyleView",
       "bar_color": null,
       "description_width": ""
      }
     },
     "2f2744e4512b4ef9b4be938517ba557a": {
      "model_module": "@jupyter-widgets/base",
      "model_module_version": "1.2.0",
      "model_name": "LayoutModel",
      "state": {
       "_model_module": "@jupyter-widgets/base",
       "_model_module_version": "1.2.0",
       "_model_name": "LayoutModel",
       "_view_count": null,
       "_view_module": "@jupyter-widgets/base",
       "_view_module_version": "1.2.0",
       "_view_name": "LayoutView",
       "align_content": null,
       "align_items": null,
       "align_self": null,
       "border": null,
       "bottom": null,
       "display": null,
       "flex": null,
       "flex_flow": null,
       "grid_area": null,
       "grid_auto_columns": null,
       "grid_auto_flow": null,
       "grid_auto_rows": null,
       "grid_column": null,
       "grid_gap": null,
       "grid_row": null,
       "grid_template_areas": null,
       "grid_template_columns": null,
       "grid_template_rows": null,
       "height": null,
       "justify_content": null,
       "justify_items": null,
       "left": null,
       "margin": null,
       "max_height": null,
       "max_width": null,
       "min_height": null,
       "min_width": null,
       "object_fit": null,
       "object_position": null,
       "order": null,
       "overflow": null,
       "overflow_x": null,
       "overflow_y": null,
       "padding": null,
       "right": null,
       "top": null,
       "visibility": null,
       "width": null
      }
     },
     "2ffb6739957d4a108cac1a7bec3ab221": {
      "model_module": "@jupyter-widgets/controls",
      "model_module_version": "1.5.0",
      "model_name": "DescriptionStyleModel",
      "state": {
       "_model_module": "@jupyter-widgets/controls",
       "_model_module_version": "1.5.0",
       "_model_name": "DescriptionStyleModel",
       "_view_count": null,
       "_view_module": "@jupyter-widgets/base",
       "_view_module_version": "1.2.0",
       "_view_name": "StyleView",
       "description_width": ""
      }
     },
     "3015587ac7f44cd4a2c139e1badbed93": {
      "model_module": "@jupyter-widgets/controls",
      "model_module_version": "1.5.0",
      "model_name": "HTMLModel",
      "state": {
       "_dom_classes": [],
       "_model_module": "@jupyter-widgets/controls",
       "_model_module_version": "1.5.0",
       "_model_name": "HTMLModel",
       "_view_count": null,
       "_view_module": "@jupyter-widgets/controls",
       "_view_module_version": "1.5.0",
       "_view_name": "HTMLView",
       "description": "",
       "description_tooltip": null,
       "layout": "IPY_MODEL_bf00b4f2298f42a480775fc2730b84a9",
       "placeholder": "​",
       "style": "IPY_MODEL_e658ab4324a34221b0d633415f121d45",
       "value": " 1.26M/1.26M [00:00&lt;00:00, 2.24MB/s]"
      }
     },
     "3265b9d943d4418f9038e9145225fff8": {
      "model_module": "@jupyter-widgets/base",
      "model_module_version": "1.2.0",
      "model_name": "LayoutModel",
      "state": {
       "_model_module": "@jupyter-widgets/base",
       "_model_module_version": "1.2.0",
       "_model_name": "LayoutModel",
       "_view_count": null,
       "_view_module": "@jupyter-widgets/base",
       "_view_module_version": "1.2.0",
       "_view_name": "LayoutView",
       "align_content": null,
       "align_items": null,
       "align_self": null,
       "border": null,
       "bottom": null,
       "display": null,
       "flex": null,
       "flex_flow": null,
       "grid_area": null,
       "grid_auto_columns": null,
       "grid_auto_flow": null,
       "grid_auto_rows": null,
       "grid_column": null,
       "grid_gap": null,
       "grid_row": null,
       "grid_template_areas": null,
       "grid_template_columns": null,
       "grid_template_rows": null,
       "height": null,
       "justify_content": null,
       "justify_items": null,
       "left": null,
       "margin": null,
       "max_height": null,
       "max_width": null,
       "min_height": null,
       "min_width": null,
       "object_fit": null,
       "object_position": null,
       "order": null,
       "overflow": null,
       "overflow_x": null,
       "overflow_y": null,
       "padding": null,
       "right": null,
       "top": null,
       "visibility": null,
       "width": null
      }
     },
     "34492b643bec4dd59ed20c40b736cabe": {
      "model_module": "@jupyter-widgets/controls",
      "model_module_version": "1.5.0",
      "model_name": "DescriptionStyleModel",
      "state": {
       "_model_module": "@jupyter-widgets/controls",
       "_model_module_version": "1.5.0",
       "_model_name": "DescriptionStyleModel",
       "_view_count": null,
       "_view_module": "@jupyter-widgets/base",
       "_view_module_version": "1.2.0",
       "_view_name": "StyleView",
       "description_width": ""
      }
     },
     "37ef24a545a64c3ba014a3609dd1e574": {
      "model_module": "@jupyter-widgets/controls",
      "model_module_version": "1.5.0",
      "model_name": "HTMLModel",
      "state": {
       "_dom_classes": [],
       "_model_module": "@jupyter-widgets/controls",
       "_model_module_version": "1.5.0",
       "_model_name": "HTMLModel",
       "_view_count": null,
       "_view_module": "@jupyter-widgets/controls",
       "_view_module_version": "1.5.0",
       "_view_name": "HTMLView",
       "description": "",
       "description_tooltip": null,
       "layout": "IPY_MODEL_64c94ca014174c548960f4a1d223a3e4",
       "placeholder": "​",
       "style": "IPY_MODEL_9ac5036f8b514b11bb51e7b094d457d4",
       "value": " 468/468 [00:00&lt;00:00, 15.1kB/s]"
      }
     },
     "3fa41d4d1a204478986049f524b10cd8": {
      "model_module": "@jupyter-widgets/controls",
      "model_module_version": "1.5.0",
      "model_name": "HTMLModel",
      "state": {
       "_dom_classes": [],
       "_model_module": "@jupyter-widgets/controls",
       "_model_module_version": "1.5.0",
       "_model_name": "HTMLModel",
       "_view_count": null,
       "_view_module": "@jupyter-widgets/controls",
       "_view_module_version": "1.5.0",
       "_view_name": "HTMLView",
       "description": "",
       "description_tooltip": null,
       "layout": "IPY_MODEL_763a35dba06b40f087feff5faea80571",
       "placeholder": "​",
       "style": "IPY_MODEL_6cbd8205a1fa4690af91515b8537637a",
       "value": " 62.0/62.0 [00:00&lt;00:00, 2.02kB/s]"
      }
     },
     "40756a88e53749c68d1aa2fa22e55b3f": {
      "model_module": "@jupyter-widgets/controls",
      "model_module_version": "1.5.0",
      "model_name": "HBoxModel",
      "state": {
       "_dom_classes": [],
       "_model_module": "@jupyter-widgets/controls",
       "_model_module_version": "1.5.0",
       "_model_name": "HBoxModel",
       "_view_count": null,
       "_view_module": "@jupyter-widgets/controls",
       "_view_module_version": "1.5.0",
       "_view_name": "HBoxView",
       "box_style": "",
       "children": [
        "IPY_MODEL_ed19076955a543f5842a55c48e157145",
        "IPY_MODEL_8553263c1454442894e006802954a889",
        "IPY_MODEL_964e58c0732741ac9cfda0f077d90f7d"
       ],
       "layout": "IPY_MODEL_6b656be991114ef38c92378d028401a7"
      }
     },
     "407999dd5a734ce0acad7d7d9d20dd67": {
      "model_module": "@jupyter-widgets/controls",
      "model_module_version": "1.5.0",
      "model_name": "HTMLModel",
      "state": {
       "_dom_classes": [],
       "_model_module": "@jupyter-widgets/controls",
       "_model_module_version": "1.5.0",
       "_model_name": "HTMLModel",
       "_view_count": null,
       "_view_module": "@jupyter-widgets/controls",
       "_view_module_version": "1.5.0",
       "_view_name": "HTMLView",
       "description": "",
       "description_tooltip": null,
       "layout": "IPY_MODEL_2f2744e4512b4ef9b4be938517ba557a",
       "placeholder": "​",
       "style": "IPY_MODEL_84a4fc99fe5d4ba186e7929837570a63",
       "value": "Downloading: 100%"
      }
     },
     "4409e7cf3d4f4e4fb5a9b668fed339d4": {
      "model_module": "@jupyter-widgets/controls",
      "model_module_version": "1.5.0",
      "model_name": "DescriptionStyleModel",
      "state": {
       "_model_module": "@jupyter-widgets/controls",
       "_model_module_version": "1.5.0",
       "_model_name": "DescriptionStyleModel",
       "_view_count": null,
       "_view_module": "@jupyter-widgets/base",
       "_view_module_version": "1.2.0",
       "_view_name": "StyleView",
       "description_width": ""
      }
     },
     "442fbb2186e74543a14bf852db055585": {
      "model_module": "@jupyter-widgets/base",
      "model_module_version": "1.2.0",
      "model_name": "LayoutModel",
      "state": {
       "_model_module": "@jupyter-widgets/base",
       "_model_module_version": "1.2.0",
       "_model_name": "LayoutModel",
       "_view_count": null,
       "_view_module": "@jupyter-widgets/base",
       "_view_module_version": "1.2.0",
       "_view_name": "LayoutView",
       "align_content": null,
       "align_items": null,
       "align_self": null,
       "border": null,
       "bottom": null,
       "display": null,
       "flex": null,
       "flex_flow": null,
       "grid_area": null,
       "grid_auto_columns": null,
       "grid_auto_flow": null,
       "grid_auto_rows": null,
       "grid_column": null,
       "grid_gap": null,
       "grid_row": null,
       "grid_template_areas": null,
       "grid_template_columns": null,
       "grid_template_rows": null,
       "height": null,
       "justify_content": null,
       "justify_items": null,
       "left": null,
       "margin": null,
       "max_height": null,
       "max_width": null,
       "min_height": null,
       "min_width": null,
       "object_fit": null,
       "object_position": null,
       "order": null,
       "overflow": null,
       "overflow_x": null,
       "overflow_y": null,
       "padding": null,
       "right": null,
       "top": null,
       "visibility": null,
       "width": null
      }
     },
     "456f138eaa7545f9af676c40e4962ac4": {
      "model_module": "@jupyter-widgets/base",
      "model_module_version": "1.2.0",
      "model_name": "LayoutModel",
      "state": {
       "_model_module": "@jupyter-widgets/base",
       "_model_module_version": "1.2.0",
       "_model_name": "LayoutModel",
       "_view_count": null,
       "_view_module": "@jupyter-widgets/base",
       "_view_module_version": "1.2.0",
       "_view_name": "LayoutView",
       "align_content": null,
       "align_items": null,
       "align_self": null,
       "border": null,
       "bottom": null,
       "display": null,
       "flex": null,
       "flex_flow": null,
       "grid_area": null,
       "grid_auto_columns": null,
       "grid_auto_flow": null,
       "grid_auto_rows": null,
       "grid_column": null,
       "grid_gap": null,
       "grid_row": null,
       "grid_template_areas": null,
       "grid_template_columns": null,
       "grid_template_rows": null,
       "height": null,
       "justify_content": null,
       "justify_items": null,
       "left": null,
       "margin": null,
       "max_height": null,
       "max_width": null,
       "min_height": null,
       "min_width": null,
       "object_fit": null,
       "object_position": null,
       "order": null,
       "overflow": null,
       "overflow_x": null,
       "overflow_y": null,
       "padding": null,
       "right": null,
       "top": null,
       "visibility": null,
       "width": null
      }
     },
     "4665b01e01fc47f9a6c3362d0733a65a": {
      "model_module": "@jupyter-widgets/controls",
      "model_module_version": "1.5.0",
      "model_name": "HTMLModel",
      "state": {
       "_dom_classes": [],
       "_model_module": "@jupyter-widgets/controls",
       "_model_module_version": "1.5.0",
       "_model_name": "HTMLModel",
       "_view_count": null,
       "_view_module": "@jupyter-widgets/controls",
       "_view_module_version": "1.5.0",
       "_view_name": "HTMLView",
       "description": "",
       "description_tooltip": null,
       "layout": "IPY_MODEL_d24e0671757046c495acc16787dfefb6",
       "placeholder": "​",
       "style": "IPY_MODEL_617abf0e764148ab82fd4f2f4fa0a61f",
       "value": "Downloading: 100%"
      }
     },
     "46cef361e3d9424dbcd89d85c8b795d4": {
      "model_module": "@jupyter-widgets/base",
      "model_module_version": "1.2.0",
      "model_name": "LayoutModel",
      "state": {
       "_model_module": "@jupyter-widgets/base",
       "_model_module_version": "1.2.0",
       "_model_name": "LayoutModel",
       "_view_count": null,
       "_view_module": "@jupyter-widgets/base",
       "_view_module_version": "1.2.0",
       "_view_name": "LayoutView",
       "align_content": null,
       "align_items": null,
       "align_self": null,
       "border": null,
       "bottom": null,
       "display": null,
       "flex": null,
       "flex_flow": null,
       "grid_area": null,
       "grid_auto_columns": null,
       "grid_auto_flow": null,
       "grid_auto_rows": null,
       "grid_column": null,
       "grid_gap": null,
       "grid_row": null,
       "grid_template_areas": null,
       "grid_template_columns": null,
       "grid_template_rows": null,
       "height": null,
       "justify_content": null,
       "justify_items": null,
       "left": null,
       "margin": null,
       "max_height": null,
       "max_width": null,
       "min_height": null,
       "min_width": null,
       "object_fit": null,
       "object_position": null,
       "order": null,
       "overflow": null,
       "overflow_x": null,
       "overflow_y": null,
       "padding": null,
       "right": null,
       "top": null,
       "visibility": null,
       "width": null
      }
     },
     "4bd0538150f84656a8946f7dcb452616": {
      "model_module": "@jupyter-widgets/controls",
      "model_module_version": "1.5.0",
      "model_name": "HTMLModel",
      "state": {
       "_dom_classes": [],
       "_model_module": "@jupyter-widgets/controls",
       "_model_module_version": "1.5.0",
       "_model_name": "HTMLModel",
       "_view_count": null,
       "_view_module": "@jupyter-widgets/controls",
       "_view_module_version": "1.5.0",
       "_view_name": "HTMLView",
       "description": "",
       "description_tooltip": null,
       "layout": "IPY_MODEL_8c7f7a88a2e145a48cfd0153712afad0",
       "placeholder": "​",
       "style": "IPY_MODEL_570b9f0e06ff469e8057ecd309f5b5ec",
       "value": " 1.13k/1.13k [00:00&lt;00:00, 34.2kB/s]"
      }
     },
     "4cd6b133bdc34af8995faf533acc97f8": {
      "model_module": "@jupyter-widgets/base",
      "model_module_version": "1.2.0",
      "model_name": "LayoutModel",
      "state": {
       "_model_module": "@jupyter-widgets/base",
       "_model_module_version": "1.2.0",
       "_model_name": "LayoutModel",
       "_view_count": null,
       "_view_module": "@jupyter-widgets/base",
       "_view_module_version": "1.2.0",
       "_view_name": "LayoutView",
       "align_content": null,
       "align_items": null,
       "align_self": null,
       "border": null,
       "bottom": null,
       "display": null,
       "flex": null,
       "flex_flow": null,
       "grid_area": null,
       "grid_auto_columns": null,
       "grid_auto_flow": null,
       "grid_auto_rows": null,
       "grid_column": null,
       "grid_gap": null,
       "grid_row": null,
       "grid_template_areas": null,
       "grid_template_columns": null,
       "grid_template_rows": null,
       "height": null,
       "justify_content": null,
       "justify_items": null,
       "left": null,
       "margin": null,
       "max_height": null,
       "max_width": null,
       "min_height": null,
       "min_width": null,
       "object_fit": null,
       "object_position": null,
       "order": null,
       "overflow": null,
       "overflow_x": null,
       "overflow_y": null,
       "padding": null,
       "right": null,
       "top": null,
       "visibility": null,
       "width": null
      }
     },
     "52233012eae9433b8cc70ae19d762625": {
      "model_module": "@jupyter-widgets/controls",
      "model_module_version": "1.5.0",
      "model_name": "DescriptionStyleModel",
      "state": {
       "_model_module": "@jupyter-widgets/controls",
       "_model_module_version": "1.5.0",
       "_model_name": "DescriptionStyleModel",
       "_view_count": null,
       "_view_module": "@jupyter-widgets/base",
       "_view_module_version": "1.2.0",
       "_view_name": "StyleView",
       "description_width": ""
      }
     },
     "52e84dadb91547b18a96c4801fd57c9b": {
      "model_module": "@jupyter-widgets/base",
      "model_module_version": "1.2.0",
      "model_name": "LayoutModel",
      "state": {
       "_model_module": "@jupyter-widgets/base",
       "_model_module_version": "1.2.0",
       "_model_name": "LayoutModel",
       "_view_count": null,
       "_view_module": "@jupyter-widgets/base",
       "_view_module_version": "1.2.0",
       "_view_name": "LayoutView",
       "align_content": null,
       "align_items": null,
       "align_self": null,
       "border": null,
       "bottom": null,
       "display": null,
       "flex": null,
       "flex_flow": null,
       "grid_area": null,
       "grid_auto_columns": null,
       "grid_auto_flow": null,
       "grid_auto_rows": null,
       "grid_column": null,
       "grid_gap": null,
       "grid_row": null,
       "grid_template_areas": null,
       "grid_template_columns": null,
       "grid_template_rows": null,
       "height": null,
       "justify_content": null,
       "justify_items": null,
       "left": null,
       "margin": null,
       "max_height": null,
       "max_width": null,
       "min_height": null,
       "min_width": null,
       "object_fit": null,
       "object_position": null,
       "order": null,
       "overflow": null,
       "overflow_x": null,
       "overflow_y": null,
       "padding": null,
       "right": null,
       "top": null,
       "visibility": null,
       "width": null
      }
     },
     "53d1c0285f1042d0913587fb25b3aa18": {
      "model_module": "@jupyter-widgets/base",
      "model_module_version": "1.2.0",
      "model_name": "LayoutModel",
      "state": {
       "_model_module": "@jupyter-widgets/base",
       "_model_module_version": "1.2.0",
       "_model_name": "LayoutModel",
       "_view_count": null,
       "_view_module": "@jupyter-widgets/base",
       "_view_module_version": "1.2.0",
       "_view_name": "LayoutView",
       "align_content": null,
       "align_items": null,
       "align_self": null,
       "border": null,
       "bottom": null,
       "display": null,
       "flex": null,
       "flex_flow": null,
       "grid_area": null,
       "grid_auto_columns": null,
       "grid_auto_flow": null,
       "grid_auto_rows": null,
       "grid_column": null,
       "grid_gap": null,
       "grid_row": null,
       "grid_template_areas": null,
       "grid_template_columns": null,
       "grid_template_rows": null,
       "height": null,
       "justify_content": null,
       "justify_items": null,
       "left": null,
       "margin": null,
       "max_height": null,
       "max_width": null,
       "min_height": null,
       "min_width": null,
       "object_fit": null,
       "object_position": null,
       "order": null,
       "overflow": null,
       "overflow_x": null,
       "overflow_y": null,
       "padding": null,
       "right": null,
       "top": null,
       "visibility": null,
       "width": null
      }
     },
     "546169a6a7f144d69d6869856fa66611": {
      "model_module": "@jupyter-widgets/controls",
      "model_module_version": "1.5.0",
      "model_name": "HBoxModel",
      "state": {
       "_dom_classes": [],
       "_model_module": "@jupyter-widgets/controls",
       "_model_module_version": "1.5.0",
       "_model_name": "HBoxModel",
       "_view_count": null,
       "_view_module": "@jupyter-widgets/controls",
       "_view_module_version": "1.5.0",
       "_view_name": "HBoxView",
       "box_style": "",
       "children": [
        "IPY_MODEL_7e78d36f7a344b23a1288219613c2ec0",
        "IPY_MODEL_875aea9db559452d80d23692821efd99",
        "IPY_MODEL_3fa41d4d1a204478986049f524b10cd8"
       ],
       "layout": "IPY_MODEL_58ce35c847394f3989a779c8855d0e92"
      }
     },
     "5470f292e6f04b609695f3e5c4b7c621": {
      "model_module": "@jupyter-widgets/controls",
      "model_module_version": "1.5.0",
      "model_name": "DescriptionStyleModel",
      "state": {
       "_model_module": "@jupyter-widgets/controls",
       "_model_module_version": "1.5.0",
       "_model_name": "DescriptionStyleModel",
       "_view_count": null,
       "_view_module": "@jupyter-widgets/base",
       "_view_module_version": "1.2.0",
       "_view_name": "StyleView",
       "description_width": ""
      }
     },
     "55889325d39249b981d7fb32d74b46ba": {
      "model_module": "@jupyter-widgets/controls",
      "model_module_version": "1.5.0",
      "model_name": "HBoxModel",
      "state": {
       "_dom_classes": [],
       "_model_module": "@jupyter-widgets/controls",
       "_model_module_version": "1.5.0",
       "_model_name": "HBoxModel",
       "_view_count": null,
       "_view_module": "@jupyter-widgets/controls",
       "_view_module_version": "1.5.0",
       "_view_name": "HBoxView",
       "box_style": "",
       "children": [
        "IPY_MODEL_2ad42306cb634a599e43668e3d62a466",
        "IPY_MODEL_26a57d2669f345dd9f994a2ae40cf5c1",
        "IPY_MODEL_e217759148d2449c9eae4e7089104987"
       ],
       "layout": "IPY_MODEL_03f628d1fafa42079e7f808405bf43df"
      }
     },
     "563fd7cb1a4a4444a5a1c5b2a78b959f": {
      "model_module": "@jupyter-widgets/controls",
      "model_module_version": "1.5.0",
      "model_name": "DescriptionStyleModel",
      "state": {
       "_model_module": "@jupyter-widgets/controls",
       "_model_module_version": "1.5.0",
       "_model_name": "DescriptionStyleModel",
       "_view_count": null,
       "_view_module": "@jupyter-widgets/base",
       "_view_module_version": "1.2.0",
       "_view_name": "StyleView",
       "description_width": ""
      }
     },
     "570b9f0e06ff469e8057ecd309f5b5ec": {
      "model_module": "@jupyter-widgets/controls",
      "model_module_version": "1.5.0",
      "model_name": "DescriptionStyleModel",
      "state": {
       "_model_module": "@jupyter-widgets/controls",
       "_model_module_version": "1.5.0",
       "_model_name": "DescriptionStyleModel",
       "_view_count": null,
       "_view_module": "@jupyter-widgets/base",
       "_view_module_version": "1.2.0",
       "_view_name": "StyleView",
       "description_width": ""
      }
     },
     "583cbefe34014de28ebb88b0c2879b13": {
      "model_module": "@jupyter-widgets/controls",
      "model_module_version": "1.5.0",
      "model_name": "DescriptionStyleModel",
      "state": {
       "_model_module": "@jupyter-widgets/controls",
       "_model_module_version": "1.5.0",
       "_model_name": "DescriptionStyleModel",
       "_view_count": null,
       "_view_module": "@jupyter-widgets/base",
       "_view_module_version": "1.2.0",
       "_view_name": "StyleView",
       "description_width": ""
      }
     },
     "58ce35c847394f3989a779c8855d0e92": {
      "model_module": "@jupyter-widgets/base",
      "model_module_version": "1.2.0",
      "model_name": "LayoutModel",
      "state": {
       "_model_module": "@jupyter-widgets/base",
       "_model_module_version": "1.2.0",
       "_model_name": "LayoutModel",
       "_view_count": null,
       "_view_module": "@jupyter-widgets/base",
       "_view_module_version": "1.2.0",
       "_view_name": "LayoutView",
       "align_content": null,
       "align_items": null,
       "align_self": null,
       "border": null,
       "bottom": null,
       "display": null,
       "flex": null,
       "flex_flow": null,
       "grid_area": null,
       "grid_auto_columns": null,
       "grid_auto_flow": null,
       "grid_auto_rows": null,
       "grid_column": null,
       "grid_gap": null,
       "grid_row": null,
       "grid_template_areas": null,
       "grid_template_columns": null,
       "grid_template_rows": null,
       "height": null,
       "justify_content": null,
       "justify_items": null,
       "left": null,
       "margin": null,
       "max_height": null,
       "max_width": null,
       "min_height": null,
       "min_width": null,
       "object_fit": null,
       "object_position": null,
       "order": null,
       "overflow": null,
       "overflow_x": null,
       "overflow_y": null,
       "padding": null,
       "right": null,
       "top": null,
       "visibility": null,
       "width": null
      }
     },
     "60ef52bc9bb04e96bf332852b9a518c7": {
      "model_module": "@jupyter-widgets/base",
      "model_module_version": "1.2.0",
      "model_name": "LayoutModel",
      "state": {
       "_model_module": "@jupyter-widgets/base",
       "_model_module_version": "1.2.0",
       "_model_name": "LayoutModel",
       "_view_count": null,
       "_view_module": "@jupyter-widgets/base",
       "_view_module_version": "1.2.0",
       "_view_name": "LayoutView",
       "align_content": null,
       "align_items": null,
       "align_self": null,
       "border": null,
       "bottom": null,
       "display": null,
       "flex": null,
       "flex_flow": null,
       "grid_area": null,
       "grid_auto_columns": null,
       "grid_auto_flow": null,
       "grid_auto_rows": null,
       "grid_column": null,
       "grid_gap": null,
       "grid_row": null,
       "grid_template_areas": null,
       "grid_template_columns": null,
       "grid_template_rows": null,
       "height": null,
       "justify_content": null,
       "justify_items": null,
       "left": null,
       "margin": null,
       "max_height": null,
       "max_width": null,
       "min_height": null,
       "min_width": null,
       "object_fit": null,
       "object_position": null,
       "order": null,
       "overflow": null,
       "overflow_x": null,
       "overflow_y": null,
       "padding": null,
       "right": null,
       "top": null,
       "visibility": null,
       "width": null
      }
     },
     "617abf0e764148ab82fd4f2f4fa0a61f": {
      "model_module": "@jupyter-widgets/controls",
      "model_module_version": "1.5.0",
      "model_name": "DescriptionStyleModel",
      "state": {
       "_model_module": "@jupyter-widgets/controls",
       "_model_module_version": "1.5.0",
       "_model_name": "DescriptionStyleModel",
       "_view_count": null,
       "_view_module": "@jupyter-widgets/base",
       "_view_module_version": "1.2.0",
       "_view_name": "StyleView",
       "description_width": ""
      }
     },
     "62da83f6d1cb47c4b0b88c1fd0eb0624": {
      "model_module": "@jupyter-widgets/base",
      "model_module_version": "1.2.0",
      "model_name": "LayoutModel",
      "state": {
       "_model_module": "@jupyter-widgets/base",
       "_model_module_version": "1.2.0",
       "_model_name": "LayoutModel",
       "_view_count": null,
       "_view_module": "@jupyter-widgets/base",
       "_view_module_version": "1.2.0",
       "_view_name": "LayoutView",
       "align_content": null,
       "align_items": null,
       "align_self": null,
       "border": null,
       "bottom": null,
       "display": null,
       "flex": null,
       "flex_flow": null,
       "grid_area": null,
       "grid_auto_columns": null,
       "grid_auto_flow": null,
       "grid_auto_rows": null,
       "grid_column": null,
       "grid_gap": null,
       "grid_row": null,
       "grid_template_areas": null,
       "grid_template_columns": null,
       "grid_template_rows": null,
       "height": null,
       "justify_content": null,
       "justify_items": null,
       "left": null,
       "margin": null,
       "max_height": null,
       "max_width": null,
       "min_height": null,
       "min_width": null,
       "object_fit": null,
       "object_position": null,
       "order": null,
       "overflow": null,
       "overflow_x": null,
       "overflow_y": null,
       "padding": null,
       "right": null,
       "top": null,
       "visibility": null,
       "width": null
      }
     },
     "64c94ca014174c548960f4a1d223a3e4": {
      "model_module": "@jupyter-widgets/base",
      "model_module_version": "1.2.0",
      "model_name": "LayoutModel",
      "state": {
       "_model_module": "@jupyter-widgets/base",
       "_model_module_version": "1.2.0",
       "_model_name": "LayoutModel",
       "_view_count": null,
       "_view_module": "@jupyter-widgets/base",
       "_view_module_version": "1.2.0",
       "_view_name": "LayoutView",
       "align_content": null,
       "align_items": null,
       "align_self": null,
       "border": null,
       "bottom": null,
       "display": null,
       "flex": null,
       "flex_flow": null,
       "grid_area": null,
       "grid_auto_columns": null,
       "grid_auto_flow": null,
       "grid_auto_rows": null,
       "grid_column": null,
       "grid_gap": null,
       "grid_row": null,
       "grid_template_areas": null,
       "grid_template_columns": null,
       "grid_template_rows": null,
       "height": null,
       "justify_content": null,
       "justify_items": null,
       "left": null,
       "margin": null,
       "max_height": null,
       "max_width": null,
       "min_height": null,
       "min_width": null,
       "object_fit": null,
       "object_position": null,
       "order": null,
       "overflow": null,
       "overflow_x": null,
       "overflow_y": null,
       "padding": null,
       "right": null,
       "top": null,
       "visibility": null,
       "width": null
      }
     },
     "65147804dab44444a12b7b09e4520ec8": {
      "model_module": "@jupyter-widgets/controls",
      "model_module_version": "1.5.0",
      "model_name": "HBoxModel",
      "state": {
       "_dom_classes": [],
       "_model_module": "@jupyter-widgets/controls",
       "_model_module_version": "1.5.0",
       "_model_name": "HBoxModel",
       "_view_count": null,
       "_view_module": "@jupyter-widgets/controls",
       "_view_module_version": "1.5.0",
       "_view_name": "HBoxView",
       "box_style": "",
       "children": [
        "IPY_MODEL_407999dd5a734ce0acad7d7d9d20dd67",
        "IPY_MODEL_92a5ee35c6fe4e22bdd81bab4155a90f",
        "IPY_MODEL_03dbba5305d840cab2d4900f100ba6d6"
       ],
       "layout": "IPY_MODEL_f70ab0c97fa64015bc67ce45d6479716"
      }
     },
     "664e866049724fff94309f3c5bf0b3bd": {
      "model_module": "@jupyter-widgets/base",
      "model_module_version": "1.2.0",
      "model_name": "LayoutModel",
      "state": {
       "_model_module": "@jupyter-widgets/base",
       "_model_module_version": "1.2.0",
       "_model_name": "LayoutModel",
       "_view_count": null,
       "_view_module": "@jupyter-widgets/base",
       "_view_module_version": "1.2.0",
       "_view_name": "LayoutView",
       "align_content": null,
       "align_items": null,
       "align_self": null,
       "border": null,
       "bottom": null,
       "display": null,
       "flex": null,
       "flex_flow": null,
       "grid_area": null,
       "grid_auto_columns": null,
       "grid_auto_flow": null,
       "grid_auto_rows": null,
       "grid_column": null,
       "grid_gap": null,
       "grid_row": null,
       "grid_template_areas": null,
       "grid_template_columns": null,
       "grid_template_rows": null,
       "height": null,
       "justify_content": null,
       "justify_items": null,
       "left": null,
       "margin": null,
       "max_height": null,
       "max_width": null,
       "min_height": null,
       "min_width": null,
       "object_fit": null,
       "object_position": null,
       "order": null,
       "overflow": null,
       "overflow_x": null,
       "overflow_y": null,
       "padding": null,
       "right": null,
       "top": null,
       "visibility": null,
       "width": null
      }
     },
     "67c3263f66ff46d1aea42361b79a07ba": {
      "model_module": "@jupyter-widgets/controls",
      "model_module_version": "1.5.0",
      "model_name": "ProgressStyleModel",
      "state": {
       "_model_module": "@jupyter-widgets/controls",
       "_model_module_version": "1.5.0",
       "_model_name": "ProgressStyleModel",
       "_view_count": null,
       "_view_module": "@jupyter-widgets/base",
       "_view_module_version": "1.2.0",
       "_view_name": "StyleView",
       "bar_color": null,
       "description_width": ""
      }
     },
     "68437b08f62d48a987e93210af85b50a": {
      "model_module": "@jupyter-widgets/controls",
      "model_module_version": "1.5.0",
      "model_name": "ProgressStyleModel",
      "state": {
       "_model_module": "@jupyter-widgets/controls",
       "_model_module_version": "1.5.0",
       "_model_name": "ProgressStyleModel",
       "_view_count": null,
       "_view_module": "@jupyter-widgets/base",
       "_view_module_version": "1.2.0",
       "_view_name": "StyleView",
       "bar_color": null,
       "description_width": ""
      }
     },
     "6965f46d3854416dbfa29759f7a71d63": {
      "model_module": "@jupyter-widgets/controls",
      "model_module_version": "1.5.0",
      "model_name": "DescriptionStyleModel",
      "state": {
       "_model_module": "@jupyter-widgets/controls",
       "_model_module_version": "1.5.0",
       "_model_name": "DescriptionStyleModel",
       "_view_count": null,
       "_view_module": "@jupyter-widgets/base",
       "_view_module_version": "1.2.0",
       "_view_name": "StyleView",
       "description_width": ""
      }
     },
     "6a1ad0076993428aad6d2ef4d07ae056": {
      "model_module": "@jupyter-widgets/base",
      "model_module_version": "1.2.0",
      "model_name": "LayoutModel",
      "state": {
       "_model_module": "@jupyter-widgets/base",
       "_model_module_version": "1.2.0",
       "_model_name": "LayoutModel",
       "_view_count": null,
       "_view_module": "@jupyter-widgets/base",
       "_view_module_version": "1.2.0",
       "_view_name": "LayoutView",
       "align_content": null,
       "align_items": null,
       "align_self": null,
       "border": null,
       "bottom": null,
       "display": null,
       "flex": null,
       "flex_flow": null,
       "grid_area": null,
       "grid_auto_columns": null,
       "grid_auto_flow": null,
       "grid_auto_rows": null,
       "grid_column": null,
       "grid_gap": null,
       "grid_row": null,
       "grid_template_areas": null,
       "grid_template_columns": null,
       "grid_template_rows": null,
       "height": null,
       "justify_content": null,
       "justify_items": null,
       "left": null,
       "margin": null,
       "max_height": null,
       "max_width": null,
       "min_height": null,
       "min_width": null,
       "object_fit": null,
       "object_position": null,
       "order": null,
       "overflow": null,
       "overflow_x": null,
       "overflow_y": null,
       "padding": null,
       "right": null,
       "top": null,
       "visibility": null,
       "width": null
      }
     },
     "6b656be991114ef38c92378d028401a7": {
      "model_module": "@jupyter-widgets/base",
      "model_module_version": "1.2.0",
      "model_name": "LayoutModel",
      "state": {
       "_model_module": "@jupyter-widgets/base",
       "_model_module_version": "1.2.0",
       "_model_name": "LayoutModel",
       "_view_count": null,
       "_view_module": "@jupyter-widgets/base",
       "_view_module_version": "1.2.0",
       "_view_name": "LayoutView",
       "align_content": null,
       "align_items": null,
       "align_self": null,
       "border": null,
       "bottom": null,
       "display": null,
       "flex": null,
       "flex_flow": null,
       "grid_area": null,
       "grid_auto_columns": null,
       "grid_auto_flow": null,
       "grid_auto_rows": null,
       "grid_column": null,
       "grid_gap": null,
       "grid_row": null,
       "grid_template_areas": null,
       "grid_template_columns": null,
       "grid_template_rows": null,
       "height": null,
       "justify_content": null,
       "justify_items": null,
       "left": null,
       "margin": null,
       "max_height": null,
       "max_width": null,
       "min_height": null,
       "min_width": null,
       "object_fit": null,
       "object_position": null,
       "order": null,
       "overflow": null,
       "overflow_x": null,
       "overflow_y": null,
       "padding": null,
       "right": null,
       "top": null,
       "visibility": null,
       "width": null
      }
     },
     "6cbd8205a1fa4690af91515b8537637a": {
      "model_module": "@jupyter-widgets/controls",
      "model_module_version": "1.5.0",
      "model_name": "DescriptionStyleModel",
      "state": {
       "_model_module": "@jupyter-widgets/controls",
       "_model_module_version": "1.5.0",
       "_model_name": "DescriptionStyleModel",
       "_view_count": null,
       "_view_module": "@jupyter-widgets/base",
       "_view_module_version": "1.2.0",
       "_view_name": "StyleView",
       "description_width": ""
      }
     },
     "6e44fc446a404ac8835c917698cd7750": {
      "model_module": "@jupyter-widgets/base",
      "model_module_version": "1.2.0",
      "model_name": "LayoutModel",
      "state": {
       "_model_module": "@jupyter-widgets/base",
       "_model_module_version": "1.2.0",
       "_model_name": "LayoutModel",
       "_view_count": null,
       "_view_module": "@jupyter-widgets/base",
       "_view_module_version": "1.2.0",
       "_view_name": "LayoutView",
       "align_content": null,
       "align_items": null,
       "align_self": null,
       "border": null,
       "bottom": null,
       "display": null,
       "flex": null,
       "flex_flow": null,
       "grid_area": null,
       "grid_auto_columns": null,
       "grid_auto_flow": null,
       "grid_auto_rows": null,
       "grid_column": null,
       "grid_gap": null,
       "grid_row": null,
       "grid_template_areas": null,
       "grid_template_columns": null,
       "grid_template_rows": null,
       "height": null,
       "justify_content": null,
       "justify_items": null,
       "left": null,
       "margin": null,
       "max_height": null,
       "max_width": null,
       "min_height": null,
       "min_width": null,
       "object_fit": null,
       "object_position": null,
       "order": null,
       "overflow": null,
       "overflow_x": null,
       "overflow_y": null,
       "padding": null,
       "right": null,
       "top": null,
       "visibility": null,
       "width": null
      }
     },
     "73dd4cd59a52402a928ead88378c24f7": {
      "model_module": "@jupyter-widgets/controls",
      "model_module_version": "1.5.0",
      "model_name": "HTMLModel",
      "state": {
       "_dom_classes": [],
       "_model_module": "@jupyter-widgets/controls",
       "_model_module_version": "1.5.0",
       "_model_name": "HTMLModel",
       "_view_count": null,
       "_view_module": "@jupyter-widgets/controls",
       "_view_module_version": "1.5.0",
       "_view_name": "HTMLView",
       "description": "",
       "description_tooltip": null,
       "layout": "IPY_MODEL_a9c706da546e4d8792181990e9f7a50f",
       "placeholder": "​",
       "style": "IPY_MODEL_1c587f6804cf489fbd521f0e08d760af",
       "value": " 112/112 [00:00&lt;00:00, 3.64kB/s]"
      }
     },
     "746aa749c9964c0580221e943a1ce6a0": {
      "model_module": "@jupyter-widgets/controls",
      "model_module_version": "1.5.0",
      "model_name": "ProgressStyleModel",
      "state": {
       "_model_module": "@jupyter-widgets/controls",
       "_model_module_version": "1.5.0",
       "_model_name": "ProgressStyleModel",
       "_view_count": null,
       "_view_module": "@jupyter-widgets/base",
       "_view_module_version": "1.2.0",
       "_view_name": "StyleView",
       "bar_color": null,
       "description_width": ""
      }
     },
     "74a4ff55811d4d6b9ad1bc27b64d1e11": {
      "model_module": "@jupyter-widgets/controls",
      "model_module_version": "1.5.0",
      "model_name": "DescriptionStyleModel",
      "state": {
       "_model_module": "@jupyter-widgets/controls",
       "_model_module_version": "1.5.0",
       "_model_name": "DescriptionStyleModel",
       "_view_count": null,
       "_view_module": "@jupyter-widgets/base",
       "_view_module_version": "1.2.0",
       "_view_name": "StyleView",
       "description_width": ""
      }
     },
     "763a35dba06b40f087feff5faea80571": {
      "model_module": "@jupyter-widgets/base",
      "model_module_version": "1.2.0",
      "model_name": "LayoutModel",
      "state": {
       "_model_module": "@jupyter-widgets/base",
       "_model_module_version": "1.2.0",
       "_model_name": "LayoutModel",
       "_view_count": null,
       "_view_module": "@jupyter-widgets/base",
       "_view_module_version": "1.2.0",
       "_view_name": "LayoutView",
       "align_content": null,
       "align_items": null,
       "align_self": null,
       "border": null,
       "bottom": null,
       "display": null,
       "flex": null,
       "flex_flow": null,
       "grid_area": null,
       "grid_auto_columns": null,
       "grid_auto_flow": null,
       "grid_auto_rows": null,
       "grid_column": null,
       "grid_gap": null,
       "grid_row": null,
       "grid_template_areas": null,
       "grid_template_columns": null,
       "grid_template_rows": null,
       "height": null,
       "justify_content": null,
       "justify_items": null,
       "left": null,
       "margin": null,
       "max_height": null,
       "max_width": null,
       "min_height": null,
       "min_width": null,
       "object_fit": null,
       "object_position": null,
       "order": null,
       "overflow": null,
       "overflow_x": null,
       "overflow_y": null,
       "padding": null,
       "right": null,
       "top": null,
       "visibility": null,
       "width": null
      }
     },
     "76409073c6ad47f8b21bc8aeca978ee3": {
      "model_module": "@jupyter-widgets/base",
      "model_module_version": "1.2.0",
      "model_name": "LayoutModel",
      "state": {
       "_model_module": "@jupyter-widgets/base",
       "_model_module_version": "1.2.0",
       "_model_name": "LayoutModel",
       "_view_count": null,
       "_view_module": "@jupyter-widgets/base",
       "_view_module_version": "1.2.0",
       "_view_name": "LayoutView",
       "align_content": null,
       "align_items": null,
       "align_self": null,
       "border": null,
       "bottom": null,
       "display": null,
       "flex": null,
       "flex_flow": null,
       "grid_area": null,
       "grid_auto_columns": null,
       "grid_auto_flow": null,
       "grid_auto_rows": null,
       "grid_column": null,
       "grid_gap": null,
       "grid_row": null,
       "grid_template_areas": null,
       "grid_template_columns": null,
       "grid_template_rows": null,
       "height": null,
       "justify_content": null,
       "justify_items": null,
       "left": null,
       "margin": null,
       "max_height": null,
       "max_width": null,
       "min_height": null,
       "min_width": null,
       "object_fit": null,
       "object_position": null,
       "order": null,
       "overflow": null,
       "overflow_x": null,
       "overflow_y": null,
       "padding": null,
       "right": null,
       "top": null,
       "visibility": null,
       "width": null
      }
     },
     "77ec9420691c4da5bba9e14e9f5a9500": {
      "model_module": "@jupyter-widgets/controls",
      "model_module_version": "1.5.0",
      "model_name": "HTMLModel",
      "state": {
       "_dom_classes": [],
       "_model_module": "@jupyter-widgets/controls",
       "_model_module_version": "1.5.0",
       "_model_name": "HTMLModel",
       "_view_count": null,
       "_view_module": "@jupyter-widgets/controls",
       "_view_module_version": "1.5.0",
       "_view_name": "HTMLView",
       "description": "",
       "description_tooltip": null,
       "layout": "IPY_MODEL_f7e66427649f4166a42561962ca3d486",
       "placeholder": "​",
       "style": "IPY_MODEL_25ac37bda31c4c39aa77434092f2a801",
       "value": "Downloading: 100%"
      }
     },
     "79f1aafe76444928840d2906ebb158e5": {
      "model_module": "@jupyter-widgets/controls",
      "model_module_version": "1.5.0",
      "model_name": "FloatProgressModel",
      "state": {
       "_dom_classes": [],
       "_model_module": "@jupyter-widgets/controls",
       "_model_module_version": "1.5.0",
       "_model_name": "FloatProgressModel",
       "_view_count": null,
       "_view_module": "@jupyter-widgets/controls",
       "_view_module_version": "1.5.0",
       "_view_name": "ProgressView",
       "bar_style": "success",
       "description": "",
       "description_tooltip": null,
       "layout": "IPY_MODEL_c2fc099c3d2a4504b4b528b44d285f5f",
       "max": 468.0,
       "min": 0.0,
       "orientation": "horizontal",
       "style": "IPY_MODEL_aa914b9a7a904934b26d8118a0ee1c8a",
       "value": 468.0
      }
     },
     "7e78d36f7a344b23a1288219613c2ec0": {
      "model_module": "@jupyter-widgets/controls",
      "model_module_version": "1.5.0",
      "model_name": "HTMLModel",
      "state": {
       "_dom_classes": [],
       "_model_module": "@jupyter-widgets/controls",
       "_model_module_version": "1.5.0",
       "_model_name": "HTMLModel",
       "_view_count": null,
       "_view_module": "@jupyter-widgets/controls",
       "_view_module_version": "1.5.0",
       "_view_name": "HTMLView",
       "description": "",
       "description_tooltip": null,
       "layout": "IPY_MODEL_948e7953e6d440b0a47b4b970c834804",
       "placeholder": "​",
       "style": "IPY_MODEL_b3870aaa27034a2b82470b3646761727",
       "value": "Downloading: 100%"
      }
     },
     "7eff5472ca474b54a8baf6fc16b3b5d9": {
      "model_module": "@jupyter-widgets/controls",
      "model_module_version": "1.5.0",
      "model_name": "FloatProgressModel",
      "state": {
       "_dom_classes": [],
       "_model_module": "@jupyter-widgets/controls",
       "_model_module_version": "1.5.0",
       "_model_name": "FloatProgressModel",
       "_view_count": null,
       "_view_module": "@jupyter-widgets/controls",
       "_view_module_version": "1.5.0",
       "_view_name": "ProgressView",
       "bar_style": "success",
       "description": "",
       "description_tooltip": null,
       "layout": "IPY_MODEL_928fa1e1311442e8ab929d9a3deacd0d",
       "max": 2444714899.0,
       "min": 0.0,
       "orientation": "horizontal",
       "style": "IPY_MODEL_746aa749c9964c0580221e943a1ce6a0",
       "value": 2444714899.0
      }
     },
     "80605972d18a4eba842f0fde0e7a9274": {
      "model_module": "@jupyter-widgets/controls",
      "model_module_version": "1.5.0",
      "model_name": "DescriptionStyleModel",
      "state": {
       "_model_module": "@jupyter-widgets/controls",
       "_model_module_version": "1.5.0",
       "_model_name": "DescriptionStyleModel",
       "_view_count": null,
       "_view_module": "@jupyter-widgets/base",
       "_view_module_version": "1.2.0",
       "_view_name": "StyleView",
       "description_width": ""
      }
     },
     "80de1ae8d5c94423a2c52d760182b0c8": {
      "model_module": "@jupyter-widgets/controls",
      "model_module_version": "1.5.0",
      "model_name": "FloatProgressModel",
      "state": {
       "_dom_classes": [],
       "_model_module": "@jupyter-widgets/controls",
       "_model_module_version": "1.5.0",
       "_model_name": "FloatProgressModel",
       "_view_count": null,
       "_view_module": "@jupyter-widgets/controls",
       "_view_module_version": "1.5.0",
       "_view_name": "ProgressView",
       "bar_style": "success",
       "description": "",
       "description_tooltip": null,
       "layout": "IPY_MODEL_b0e691d2dcd34188a86d40b37ce1a677",
       "max": 545136632.0,
       "min": 0.0,
       "orientation": "horizontal",
       "style": "IPY_MODEL_d63428b0ee7d42d8b89561f2ae811d39",
       "value": 545136632.0
      }
     },
     "8179ec0abdc84b5786be4bb71b29a4c7": {
      "model_module": "@jupyter-widgets/controls",
      "model_module_version": "1.5.0",
      "model_name": "DescriptionStyleModel",
      "state": {
       "_model_module": "@jupyter-widgets/controls",
       "_model_module_version": "1.5.0",
       "_model_name": "DescriptionStyleModel",
       "_view_count": null,
       "_view_module": "@jupyter-widgets/base",
       "_view_module_version": "1.2.0",
       "_view_name": "StyleView",
       "description_width": ""
      }
     },
     "81f321a6f9884ce782cb4395a21dfc5e": {
      "model_module": "@jupyter-widgets/controls",
      "model_module_version": "1.5.0",
      "model_name": "HTMLModel",
      "state": {
       "_dom_classes": [],
       "_model_module": "@jupyter-widgets/controls",
       "_model_module_version": "1.5.0",
       "_model_name": "HTMLModel",
       "_view_count": null,
       "_view_module": "@jupyter-widgets/controls",
       "_view_module_version": "1.5.0",
       "_view_name": "HTMLView",
       "description": "",
       "description_tooltip": null,
       "layout": "IPY_MODEL_99ec4b5455e64f8bb755bb5829277a7a",
       "placeholder": "​",
       "style": "IPY_MODEL_4409e7cf3d4f4e4fb5a9b668fed339d4",
       "value": "Downloading: 100%"
      }
     },
     "81ff5383239a4e82b267ed3882c693bb": {
      "model_module": "@jupyter-widgets/controls",
      "model_module_version": "1.5.0",
      "model_name": "FloatProgressModel",
      "state": {
       "_dom_classes": [],
       "_model_module": "@jupyter-widgets/controls",
       "_model_module_version": "1.5.0",
       "_model_name": "FloatProgressModel",
       "_view_count": null,
       "_view_module": "@jupyter-widgets/controls",
       "_view_module_version": "1.5.0",
       "_view_name": "ProgressView",
       "bar_style": "success",
       "description": "",
       "description_tooltip": null,
       "layout": "IPY_MODEL_af138727585f43a1a0eac0c9037c7791",
       "max": 229513.0,
       "min": 0.0,
       "orientation": "horizontal",
       "style": "IPY_MODEL_d8eced68963343e5a2393eeec2c569b0",
       "value": 229513.0
      }
     },
     "829f2d61935b43039d7e30d62344a2d9": {
      "model_module": "@jupyter-widgets/base",
      "model_module_version": "1.2.0",
      "model_name": "LayoutModel",
      "state": {
       "_model_module": "@jupyter-widgets/base",
       "_model_module_version": "1.2.0",
       "_model_name": "LayoutModel",
       "_view_count": null,
       "_view_module": "@jupyter-widgets/base",
       "_view_module_version": "1.2.0",
       "_view_name": "LayoutView",
       "align_content": null,
       "align_items": null,
       "align_self": null,
       "border": null,
       "bottom": null,
       "display": null,
       "flex": null,
       "flex_flow": null,
       "grid_area": null,
       "grid_auto_columns": null,
       "grid_auto_flow": null,
       "grid_auto_rows": null,
       "grid_column": null,
       "grid_gap": null,
       "grid_row": null,
       "grid_template_areas": null,
       "grid_template_columns": null,
       "grid_template_rows": null,
       "height": null,
       "justify_content": null,
       "justify_items": null,
       "left": null,
       "margin": null,
       "max_height": null,
       "max_width": null,
       "min_height": null,
       "min_width": null,
       "object_fit": null,
       "object_position": null,
       "order": null,
       "overflow": null,
       "overflow_x": null,
       "overflow_y": null,
       "padding": null,
       "right": null,
       "top": null,
       "visibility": null,
       "width": null
      }
     },
     "83c857328cd74c348f3edf9cfe7cf66c": {
      "model_module": "@jupyter-widgets/controls",
      "model_module_version": "1.5.0",
      "model_name": "ProgressStyleModel",
      "state": {
       "_model_module": "@jupyter-widgets/controls",
       "_model_module_version": "1.5.0",
       "_model_name": "ProgressStyleModel",
       "_view_count": null,
       "_view_module": "@jupyter-widgets/base",
       "_view_module_version": "1.2.0",
       "_view_name": "StyleView",
       "bar_color": null,
       "description_width": ""
      }
     },
     "84a4fc99fe5d4ba186e7929837570a63": {
      "model_module": "@jupyter-widgets/controls",
      "model_module_version": "1.5.0",
      "model_name": "DescriptionStyleModel",
      "state": {
       "_model_module": "@jupyter-widgets/controls",
       "_model_module_version": "1.5.0",
       "_model_name": "DescriptionStyleModel",
       "_view_count": null,
       "_view_module": "@jupyter-widgets/base",
       "_view_module_version": "1.2.0",
       "_view_name": "StyleView",
       "description_width": ""
      }
     },
     "84c7faab494d48a48cae7cfd9a617d3e": {
      "model_module": "@jupyter-widgets/base",
      "model_module_version": "1.2.0",
      "model_name": "LayoutModel",
      "state": {
       "_model_module": "@jupyter-widgets/base",
       "_model_module_version": "1.2.0",
       "_model_name": "LayoutModel",
       "_view_count": null,
       "_view_module": "@jupyter-widgets/base",
       "_view_module_version": "1.2.0",
       "_view_name": "LayoutView",
       "align_content": null,
       "align_items": null,
       "align_self": null,
       "border": null,
       "bottom": null,
       "display": null,
       "flex": null,
       "flex_flow": null,
       "grid_area": null,
       "grid_auto_columns": null,
       "grid_auto_flow": null,
       "grid_auto_rows": null,
       "grid_column": null,
       "grid_gap": null,
       "grid_row": null,
       "grid_template_areas": null,
       "grid_template_columns": null,
       "grid_template_rows": null,
       "height": null,
       "justify_content": null,
       "justify_items": null,
       "left": null,
       "margin": null,
       "max_height": null,
       "max_width": null,
       "min_height": null,
       "min_width": null,
       "object_fit": null,
       "object_position": null,
       "order": null,
       "overflow": null,
       "overflow_x": null,
       "overflow_y": null,
       "padding": null,
       "right": null,
       "top": null,
       "visibility": null,
       "width": null
      }
     },
     "8553263c1454442894e006802954a889": {
      "model_module": "@jupyter-widgets/controls",
      "model_module_version": "1.5.0",
      "model_name": "FloatProgressModel",
      "state": {
       "_dom_classes": [],
       "_model_module": "@jupyter-widgets/controls",
       "_model_module_version": "1.5.0",
       "_model_name": "FloatProgressModel",
       "_view_count": null,
       "_view_module": "@jupyter-widgets/controls",
       "_view_module_version": "1.5.0",
       "_view_name": "ProgressView",
       "bar_style": "success",
       "description": "",
       "description_tooltip": null,
       "layout": "IPY_MODEL_86de923445da4ed3aef8b74f707ca9a6",
       "max": 1429.0,
       "min": 0.0,
       "orientation": "horizontal",
       "style": "IPY_MODEL_e560d43c17394171b1fd1a3309e670a2",
       "value": 1429.0
      }
     },
     "86d484106ec54d319da21d0f8cab5e00": {
      "model_module": "@jupyter-widgets/base",
      "model_module_version": "1.2.0",
      "model_name": "LayoutModel",
      "state": {
       "_model_module": "@jupyter-widgets/base",
       "_model_module_version": "1.2.0",
       "_model_name": "LayoutModel",
       "_view_count": null,
       "_view_module": "@jupyter-widgets/base",
       "_view_module_version": "1.2.0",
       "_view_name": "LayoutView",
       "align_content": null,
       "align_items": null,
       "align_self": null,
       "border": null,
       "bottom": null,
       "display": null,
       "flex": null,
       "flex_flow": null,
       "grid_area": null,
       "grid_auto_columns": null,
       "grid_auto_flow": null,
       "grid_auto_rows": null,
       "grid_column": null,
       "grid_gap": null,
       "grid_row": null,
       "grid_template_areas": null,
       "grid_template_columns": null,
       "grid_template_rows": null,
       "height": null,
       "justify_content": null,
       "justify_items": null,
       "left": null,
       "margin": null,
       "max_height": null,
       "max_width": null,
       "min_height": null,
       "min_width": null,
       "object_fit": null,
       "object_position": null,
       "order": null,
       "overflow": null,
       "overflow_x": null,
       "overflow_y": null,
       "padding": null,
       "right": null,
       "top": null,
       "visibility": null,
       "width": null
      }
     },
     "86de923445da4ed3aef8b74f707ca9a6": {
      "model_module": "@jupyter-widgets/base",
      "model_module_version": "1.2.0",
      "model_name": "LayoutModel",
      "state": {
       "_model_module": "@jupyter-widgets/base",
       "_model_module_version": "1.2.0",
       "_model_name": "LayoutModel",
       "_view_count": null,
       "_view_module": "@jupyter-widgets/base",
       "_view_module_version": "1.2.0",
       "_view_name": "LayoutView",
       "align_content": null,
       "align_items": null,
       "align_self": null,
       "border": null,
       "bottom": null,
       "display": null,
       "flex": null,
       "flex_flow": null,
       "grid_area": null,
       "grid_auto_columns": null,
       "grid_auto_flow": null,
       "grid_auto_rows": null,
       "grid_column": null,
       "grid_gap": null,
       "grid_row": null,
       "grid_template_areas": null,
       "grid_template_columns": null,
       "grid_template_rows": null,
       "height": null,
       "justify_content": null,
       "justify_items": null,
       "left": null,
       "margin": null,
       "max_height": null,
       "max_width": null,
       "min_height": null,
       "min_width": null,
       "object_fit": null,
       "object_position": null,
       "order": null,
       "overflow": null,
       "overflow_x": null,
       "overflow_y": null,
       "padding": null,
       "right": null,
       "top": null,
       "visibility": null,
       "width": null
      }
     },
     "875aea9db559452d80d23692821efd99": {
      "model_module": "@jupyter-widgets/controls",
      "model_module_version": "1.5.0",
      "model_name": "FloatProgressModel",
      "state": {
       "_dom_classes": [],
       "_model_module": "@jupyter-widgets/controls",
       "_model_module_version": "1.5.0",
       "_model_name": "FloatProgressModel",
       "_view_count": null,
       "_view_module": "@jupyter-widgets/controls",
       "_view_module_version": "1.5.0",
       "_view_name": "ProgressView",
       "bar_style": "success",
       "description": "",
       "description_tooltip": null,
       "layout": "IPY_MODEL_52e84dadb91547b18a96c4801fd57c9b",
       "max": 62.0,
       "min": 0.0,
       "orientation": "horizontal",
       "style": "IPY_MODEL_acd3b2862d774dc0ac66519cd51267fe",
       "value": 62.0
      }
     },
     "8c7f7a88a2e145a48cfd0153712afad0": {
      "model_module": "@jupyter-widgets/base",
      "model_module_version": "1.2.0",
      "model_name": "LayoutModel",
      "state": {
       "_model_module": "@jupyter-widgets/base",
       "_model_module_version": "1.2.0",
       "_model_name": "LayoutModel",
       "_view_count": null,
       "_view_module": "@jupyter-widgets/base",
       "_view_module_version": "1.2.0",
       "_view_name": "LayoutView",
       "align_content": null,
       "align_items": null,
       "align_self": null,
       "border": null,
       "bottom": null,
       "display": null,
       "flex": null,
       "flex_flow": null,
       "grid_area": null,
       "grid_auto_columns": null,
       "grid_auto_flow": null,
       "grid_auto_rows": null,
       "grid_column": null,
       "grid_gap": null,
       "grid_row": null,
       "grid_template_areas": null,
       "grid_template_columns": null,
       "grid_template_rows": null,
       "height": null,
       "justify_content": null,
       "justify_items": null,
       "left": null,
       "margin": null,
       "max_height": null,
       "max_width": null,
       "min_height": null,
       "min_width": null,
       "object_fit": null,
       "object_position": null,
       "order": null,
       "overflow": null,
       "overflow_x": null,
       "overflow_y": null,
       "padding": null,
       "right": null,
       "top": null,
       "visibility": null,
       "width": null
      }
     },
     "8e75441331584d9f859c795f6533d87a": {
      "model_module": "@jupyter-widgets/controls",
      "model_module_version": "1.5.0",
      "model_name": "HTMLModel",
      "state": {
       "_dom_classes": [],
       "_model_module": "@jupyter-widgets/controls",
       "_model_module_version": "1.5.0",
       "_model_name": "HTMLModel",
       "_view_count": null,
       "_view_module": "@jupyter-widgets/controls",
       "_view_module_version": "1.5.0",
       "_view_name": "HTMLView",
       "description": "",
       "description_tooltip": null,
       "layout": "IPY_MODEL_998d434de40f4cf796933e25fc6a0cd6",
       "placeholder": "​",
       "style": "IPY_MODEL_d637661683104c84b931d7790e962bfe",
       "value": " 545M/545M [00:14&lt;00:00, 37.0MB/s]"
      }
     },
     "928fa1e1311442e8ab929d9a3deacd0d": {
      "model_module": "@jupyter-widgets/base",
      "model_module_version": "1.2.0",
      "model_name": "LayoutModel",
      "state": {
       "_model_module": "@jupyter-widgets/base",
       "_model_module_version": "1.2.0",
       "_model_name": "LayoutModel",
       "_view_count": null,
       "_view_module": "@jupyter-widgets/base",
       "_view_module_version": "1.2.0",
       "_view_name": "LayoutView",
       "align_content": null,
       "align_items": null,
       "align_self": null,
       "border": null,
       "bottom": null,
       "display": null,
       "flex": null,
       "flex_flow": null,
       "grid_area": null,
       "grid_auto_columns": null,
       "grid_auto_flow": null,
       "grid_auto_rows": null,
       "grid_column": null,
       "grid_gap": null,
       "grid_row": null,
       "grid_template_areas": null,
       "grid_template_columns": null,
       "grid_template_rows": null,
       "height": null,
       "justify_content": null,
       "justify_items": null,
       "left": null,
       "margin": null,
       "max_height": null,
       "max_width": null,
       "min_height": null,
       "min_width": null,
       "object_fit": null,
       "object_position": null,
       "order": null,
       "overflow": null,
       "overflow_x": null,
       "overflow_y": null,
       "padding": null,
       "right": null,
       "top": null,
       "visibility": null,
       "width": null
      }
     },
     "92a5ee35c6fe4e22bdd81bab4155a90f": {
      "model_module": "@jupyter-widgets/controls",
      "model_module_version": "1.5.0",
      "model_name": "FloatProgressModel",
      "state": {
       "_dom_classes": [],
       "_model_module": "@jupyter-widgets/controls",
       "_model_module_version": "1.5.0",
       "_model_name": "FloatProgressModel",
       "_view_count": null,
       "_view_module": "@jupyter-widgets/controls",
       "_view_module_version": "1.5.0",
       "_view_name": "ProgressView",
       "bar_style": "success",
       "description": "",
       "description_tooltip": null,
       "layout": "IPY_MODEL_1da14239fc4a43cf9e140a4f8ab0f67d",
       "max": 800687.0,
       "min": 0.0,
       "orientation": "horizontal",
       "style": "IPY_MODEL_e2dfdd20e61544ed8f06fcbc815b1991",
       "value": 800687.0
      }
     },
     "93202dc51da5414eb649453ded0b4e45": {
      "model_module": "@jupyter-widgets/base",
      "model_module_version": "1.2.0",
      "model_name": "LayoutModel",
      "state": {
       "_model_module": "@jupyter-widgets/base",
       "_model_module_version": "1.2.0",
       "_model_name": "LayoutModel",
       "_view_count": null,
       "_view_module": "@jupyter-widgets/base",
       "_view_module_version": "1.2.0",
       "_view_name": "LayoutView",
       "align_content": null,
       "align_items": null,
       "align_self": null,
       "border": null,
       "bottom": null,
       "display": null,
       "flex": null,
       "flex_flow": null,
       "grid_area": null,
       "grid_auto_columns": null,
       "grid_auto_flow": null,
       "grid_auto_rows": null,
       "grid_column": null,
       "grid_gap": null,
       "grid_row": null,
       "grid_template_areas": null,
       "grid_template_columns": null,
       "grid_template_rows": null,
       "height": null,
       "justify_content": null,
       "justify_items": null,
       "left": null,
       "margin": null,
       "max_height": null,
       "max_width": null,
       "min_height": null,
       "min_width": null,
       "object_fit": null,
       "object_position": null,
       "order": null,
       "overflow": null,
       "overflow_x": null,
       "overflow_y": null,
       "padding": null,
       "right": null,
       "top": null,
       "visibility": null,
       "width": null
      }
     },
     "937a9b6a1fc6407fb791c12cafd5691f": {
      "model_module": "@jupyter-widgets/controls",
      "model_module_version": "1.5.0",
      "model_name": "FloatProgressModel",
      "state": {
       "_dom_classes": [],
       "_model_module": "@jupyter-widgets/controls",
       "_model_module_version": "1.5.0",
       "_model_name": "FloatProgressModel",
       "_view_count": null,
       "_view_module": "@jupyter-widgets/controls",
       "_view_module_version": "1.5.0",
       "_view_name": "ProgressView",
       "bar_style": "success",
       "description": "",
       "description_tooltip": null,
       "layout": "IPY_MODEL_62da83f6d1cb47c4b0b88c1fd0eb0624",
       "max": 112.0,
       "min": 0.0,
       "orientation": "horizontal",
       "style": "IPY_MODEL_c9812d5cc9264ca386f19fc9347e50c1",
       "value": 112.0
      }
     },
     "948e7953e6d440b0a47b4b970c834804": {
      "model_module": "@jupyter-widgets/base",
      "model_module_version": "1.2.0",
      "model_name": "LayoutModel",
      "state": {
       "_model_module": "@jupyter-widgets/base",
       "_model_module_version": "1.2.0",
       "_model_name": "LayoutModel",
       "_view_count": null,
       "_view_module": "@jupyter-widgets/base",
       "_view_module_version": "1.2.0",
       "_view_name": "LayoutView",
       "align_content": null,
       "align_items": null,
       "align_self": null,
       "border": null,
       "bottom": null,
       "display": null,
       "flex": null,
       "flex_flow": null,
       "grid_area": null,
       "grid_auto_columns": null,
       "grid_auto_flow": null,
       "grid_auto_rows": null,
       "grid_column": null,
       "grid_gap": null,
       "grid_row": null,
       "grid_template_areas": null,
       "grid_template_columns": null,
       "grid_template_rows": null,
       "height": null,
       "justify_content": null,
       "justify_items": null,
       "left": null,
       "margin": null,
       "max_height": null,
       "max_width": null,
       "min_height": null,
       "min_width": null,
       "object_fit": null,
       "object_position": null,
       "order": null,
       "overflow": null,
       "overflow_x": null,
       "overflow_y": null,
       "padding": null,
       "right": null,
       "top": null,
       "visibility": null,
       "width": null
      }
     },
     "960182ef87704e7ba5ea5b514c2d2590": {
      "model_module": "@jupyter-widgets/controls",
      "model_module_version": "1.5.0",
      "model_name": "DescriptionStyleModel",
      "state": {
       "_model_module": "@jupyter-widgets/controls",
       "_model_module_version": "1.5.0",
       "_model_name": "DescriptionStyleModel",
       "_view_count": null,
       "_view_module": "@jupyter-widgets/base",
       "_view_module_version": "1.2.0",
       "_view_name": "StyleView",
       "description_width": ""
      }
     },
     "964e58c0732741ac9cfda0f077d90f7d": {
      "model_module": "@jupyter-widgets/controls",
      "model_module_version": "1.5.0",
      "model_name": "HTMLModel",
      "state": {
       "_dom_classes": [],
       "_model_module": "@jupyter-widgets/controls",
       "_model_module_version": "1.5.0",
       "_model_name": "HTMLModel",
       "_view_count": null,
       "_view_module": "@jupyter-widgets/controls",
       "_view_module_version": "1.5.0",
       "_view_name": "HTMLView",
       "description": "",
       "description_tooltip": null,
       "layout": "IPY_MODEL_ec1356e4c9684b1798f5bb9bb783e220",
       "placeholder": "​",
       "style": "IPY_MODEL_960182ef87704e7ba5ea5b514c2d2590",
       "value": " 1.43k/1.43k [00:00&lt;00:00, 44.7kB/s]"
      }
     },
     "97f828b9c9734816892b66c0f1034a71": {
      "model_module": "@jupyter-widgets/base",
      "model_module_version": "1.2.0",
      "model_name": "LayoutModel",
      "state": {
       "_model_module": "@jupyter-widgets/base",
       "_model_module_version": "1.2.0",
       "_model_name": "LayoutModel",
       "_view_count": null,
       "_view_module": "@jupyter-widgets/base",
       "_view_module_version": "1.2.0",
       "_view_name": "LayoutView",
       "align_content": null,
       "align_items": null,
       "align_self": null,
       "border": null,
       "bottom": null,
       "display": null,
       "flex": null,
       "flex_flow": null,
       "grid_area": null,
       "grid_auto_columns": null,
       "grid_auto_flow": null,
       "grid_auto_rows": null,
       "grid_column": null,
       "grid_gap": null,
       "grid_row": null,
       "grid_template_areas": null,
       "grid_template_columns": null,
       "grid_template_rows": null,
       "height": null,
       "justify_content": null,
       "justify_items": null,
       "left": null,
       "margin": null,
       "max_height": null,
       "max_width": null,
       "min_height": null,
       "min_width": null,
       "object_fit": null,
       "object_position": null,
       "order": null,
       "overflow": null,
       "overflow_x": null,
       "overflow_y": null,
       "padding": null,
       "right": null,
       "top": null,
       "visibility": null,
       "width": null
      }
     },
     "998d434de40f4cf796933e25fc6a0cd6": {
      "model_module": "@jupyter-widgets/base",
      "model_module_version": "1.2.0",
      "model_name": "LayoutModel",
      "state": {
       "_model_module": "@jupyter-widgets/base",
       "_model_module_version": "1.2.0",
       "_model_name": "LayoutModel",
       "_view_count": null,
       "_view_module": "@jupyter-widgets/base",
       "_view_module_version": "1.2.0",
       "_view_name": "LayoutView",
       "align_content": null,
       "align_items": null,
       "align_self": null,
       "border": null,
       "bottom": null,
       "display": null,
       "flex": null,
       "flex_flow": null,
       "grid_area": null,
       "grid_auto_columns": null,
       "grid_auto_flow": null,
       "grid_auto_rows": null,
       "grid_column": null,
       "grid_gap": null,
       "grid_row": null,
       "grid_template_areas": null,
       "grid_template_columns": null,
       "grid_template_rows": null,
       "height": null,
       "justify_content": null,
       "justify_items": null,
       "left": null,
       "margin": null,
       "max_height": null,
       "max_width": null,
       "min_height": null,
       "min_width": null,
       "object_fit": null,
       "object_position": null,
       "order": null,
       "overflow": null,
       "overflow_x": null,
       "overflow_y": null,
       "padding": null,
       "right": null,
       "top": null,
       "visibility": null,
       "width": null
      }
     },
     "99ec4b5455e64f8bb755bb5829277a7a": {
      "model_module": "@jupyter-widgets/base",
      "model_module_version": "1.2.0",
      "model_name": "LayoutModel",
      "state": {
       "_model_module": "@jupyter-widgets/base",
       "_model_module_version": "1.2.0",
       "_model_name": "LayoutModel",
       "_view_count": null,
       "_view_module": "@jupyter-widgets/base",
       "_view_module_version": "1.2.0",
       "_view_name": "LayoutView",
       "align_content": null,
       "align_items": null,
       "align_self": null,
       "border": null,
       "bottom": null,
       "display": null,
       "flex": null,
       "flex_flow": null,
       "grid_area": null,
       "grid_auto_columns": null,
       "grid_auto_flow": null,
       "grid_auto_rows": null,
       "grid_column": null,
       "grid_gap": null,
       "grid_row": null,
       "grid_template_areas": null,
       "grid_template_columns": null,
       "grid_template_rows": null,
       "height": null,
       "justify_content": null,
       "justify_items": null,
       "left": null,
       "margin": null,
       "max_height": null,
       "max_width": null,
       "min_height": null,
       "min_width": null,
       "object_fit": null,
       "object_position": null,
       "order": null,
       "overflow": null,
       "overflow_x": null,
       "overflow_y": null,
       "padding": null,
       "right": null,
       "top": null,
       "visibility": null,
       "width": null
      }
     },
     "9ac5036f8b514b11bb51e7b094d457d4": {
      "model_module": "@jupyter-widgets/controls",
      "model_module_version": "1.5.0",
      "model_name": "DescriptionStyleModel",
      "state": {
       "_model_module": "@jupyter-widgets/controls",
       "_model_module_version": "1.5.0",
       "_model_name": "DescriptionStyleModel",
       "_view_count": null,
       "_view_module": "@jupyter-widgets/base",
       "_view_module_version": "1.2.0",
       "_view_name": "StyleView",
       "description_width": ""
      }
     },
     "9ebd6cd20a8f41e6bd3e90913988cbdb": {
      "model_module": "@jupyter-widgets/base",
      "model_module_version": "1.2.0",
      "model_name": "LayoutModel",
      "state": {
       "_model_module": "@jupyter-widgets/base",
       "_model_module_version": "1.2.0",
       "_model_name": "LayoutModel",
       "_view_count": null,
       "_view_module": "@jupyter-widgets/base",
       "_view_module_version": "1.2.0",
       "_view_name": "LayoutView",
       "align_content": null,
       "align_items": null,
       "align_self": null,
       "border": null,
       "bottom": null,
       "display": null,
       "flex": null,
       "flex_flow": null,
       "grid_area": null,
       "grid_auto_columns": null,
       "grid_auto_flow": null,
       "grid_auto_rows": null,
       "grid_column": null,
       "grid_gap": null,
       "grid_row": null,
       "grid_template_areas": null,
       "grid_template_columns": null,
       "grid_template_rows": null,
       "height": null,
       "justify_content": null,
       "justify_items": null,
       "left": null,
       "margin": null,
       "max_height": null,
       "max_width": null,
       "min_height": null,
       "min_width": null,
       "object_fit": null,
       "object_position": null,
       "order": null,
       "overflow": null,
       "overflow_x": null,
       "overflow_y": null,
       "padding": null,
       "right": null,
       "top": null,
       "visibility": null,
       "width": null
      }
     },
     "9ef2bdf9ad2e41c3b040a0a00fb6da11": {
      "model_module": "@jupyter-widgets/controls",
      "model_module_version": "1.5.0",
      "model_name": "HTMLModel",
      "state": {
       "_dom_classes": [],
       "_model_module": "@jupyter-widgets/controls",
       "_model_module_version": "1.5.0",
       "_model_name": "HTMLModel",
       "_view_count": null,
       "_view_module": "@jupyter-widgets/controls",
       "_view_module_version": "1.5.0",
       "_view_name": "HTMLView",
       "description": "",
       "description_tooltip": null,
       "layout": "IPY_MODEL_170eec02ac234ee5986127b9fbc3d3bb",
       "placeholder": "​",
       "style": "IPY_MODEL_1996e020120c4918a77557b386fd8b26",
       "value": "Downloading: 100%"
      }
     },
     "a18718c4f3f74758967575890572a5be": {
      "model_module": "@jupyter-widgets/base",
      "model_module_version": "1.2.0",
      "model_name": "LayoutModel",
      "state": {
       "_model_module": "@jupyter-widgets/base",
       "_model_module_version": "1.2.0",
       "_model_name": "LayoutModel",
       "_view_count": null,
       "_view_module": "@jupyter-widgets/base",
       "_view_module_version": "1.2.0",
       "_view_name": "LayoutView",
       "align_content": null,
       "align_items": null,
       "align_self": null,
       "border": null,
       "bottom": null,
       "display": null,
       "flex": null,
       "flex_flow": null,
       "grid_area": null,
       "grid_auto_columns": null,
       "grid_auto_flow": null,
       "grid_auto_rows": null,
       "grid_column": null,
       "grid_gap": null,
       "grid_row": null,
       "grid_template_areas": null,
       "grid_template_columns": null,
       "grid_template_rows": null,
       "height": null,
       "justify_content": null,
       "justify_items": null,
       "left": null,
       "margin": null,
       "max_height": null,
       "max_width": null,
       "min_height": null,
       "min_width": null,
       "object_fit": null,
       "object_position": null,
       "order": null,
       "overflow": null,
       "overflow_x": null,
       "overflow_y": null,
       "padding": null,
       "right": null,
       "top": null,
       "visibility": null,
       "width": null
      }
     },
     "a2e972d35c964b2f80e1832829c5e63a": {
      "model_module": "@jupyter-widgets/base",
      "model_module_version": "1.2.0",
      "model_name": "LayoutModel",
      "state": {
       "_model_module": "@jupyter-widgets/base",
       "_model_module_version": "1.2.0",
       "_model_name": "LayoutModel",
       "_view_count": null,
       "_view_module": "@jupyter-widgets/base",
       "_view_module_version": "1.2.0",
       "_view_name": "LayoutView",
       "align_content": null,
       "align_items": null,
       "align_self": null,
       "border": null,
       "bottom": null,
       "display": null,
       "flex": null,
       "flex_flow": null,
       "grid_area": null,
       "grid_auto_columns": null,
       "grid_auto_flow": null,
       "grid_auto_rows": null,
       "grid_column": null,
       "grid_gap": null,
       "grid_row": null,
       "grid_template_areas": null,
       "grid_template_columns": null,
       "grid_template_rows": null,
       "height": null,
       "justify_content": null,
       "justify_items": null,
       "left": null,
       "margin": null,
       "max_height": null,
       "max_width": null,
       "min_height": null,
       "min_width": null,
       "object_fit": null,
       "object_position": null,
       "order": null,
       "overflow": null,
       "overflow_x": null,
       "overflow_y": null,
       "padding": null,
       "right": null,
       "top": null,
       "visibility": null,
       "width": null
      }
     },
     "a690b69f531e4c728fce9ecd5c449d2f": {
      "model_module": "@jupyter-widgets/base",
      "model_module_version": "1.2.0",
      "model_name": "LayoutModel",
      "state": {
       "_model_module": "@jupyter-widgets/base",
       "_model_module_version": "1.2.0",
       "_model_name": "LayoutModel",
       "_view_count": null,
       "_view_module": "@jupyter-widgets/base",
       "_view_module_version": "1.2.0",
       "_view_name": "LayoutView",
       "align_content": null,
       "align_items": null,
       "align_self": null,
       "border": null,
       "bottom": null,
       "display": null,
       "flex": null,
       "flex_flow": null,
       "grid_area": null,
       "grid_auto_columns": null,
       "grid_auto_flow": null,
       "grid_auto_rows": null,
       "grid_column": null,
       "grid_gap": null,
       "grid_row": null,
       "grid_template_areas": null,
       "grid_template_columns": null,
       "grid_template_rows": null,
       "height": null,
       "justify_content": null,
       "justify_items": null,
       "left": null,
       "margin": null,
       "max_height": null,
       "max_width": null,
       "min_height": null,
       "min_width": null,
       "object_fit": null,
       "object_position": null,
       "order": null,
       "overflow": null,
       "overflow_x": null,
       "overflow_y": null,
       "padding": null,
       "right": null,
       "top": null,
       "visibility": null,
       "width": null
      }
     },
     "a83c24be12324bd19fecbcf481aef5f9": {
      "model_module": "@jupyter-widgets/controls",
      "model_module_version": "1.5.0",
      "model_name": "FloatProgressModel",
      "state": {
       "_dom_classes": [],
       "_model_module": "@jupyter-widgets/controls",
       "_model_module_version": "1.5.0",
       "_model_name": "FloatProgressModel",
       "_view_count": null,
       "_view_module": "@jupyter-widgets/controls",
       "_view_module_version": "1.5.0",
       "_view_name": "ProgressView",
       "bar_style": "success",
       "description": "",
       "description_tooltip": null,
       "layout": "IPY_MODEL_76409073c6ad47f8b21bc8aeca978ee3",
       "max": 529.0,
       "min": 0.0,
       "orientation": "horizontal",
       "style": "IPY_MODEL_67c3263f66ff46d1aea42361b79a07ba",
       "value": 529.0
      }
     },
     "a87929314c1d4853859301f6a4a8209d": {
      "model_module": "@jupyter-widgets/controls",
      "model_module_version": "1.5.0",
      "model_name": "HBoxModel",
      "state": {
       "_dom_classes": [],
       "_model_module": "@jupyter-widgets/controls",
       "_model_module_version": "1.5.0",
       "_model_name": "HBoxModel",
       "_view_count": null,
       "_view_module": "@jupyter-widgets/controls",
       "_view_module_version": "1.5.0",
       "_view_name": "HBoxView",
       "box_style": "",
       "children": [
        "IPY_MODEL_4665b01e01fc47f9a6c3362d0733a65a",
        "IPY_MODEL_7eff5472ca474b54a8baf6fc16b3b5d9",
        "IPY_MODEL_c79294a81e684b1ca57848080335976e"
       ],
       "layout": "IPY_MODEL_dde63f6f47be4fad8b7fe7f04a71a04a"
      }
     },
     "a9c706da546e4d8792181990e9f7a50f": {
      "model_module": "@jupyter-widgets/base",
      "model_module_version": "1.2.0",
      "model_name": "LayoutModel",
      "state": {
       "_model_module": "@jupyter-widgets/base",
       "_model_module_version": "1.2.0",
       "_model_name": "LayoutModel",
       "_view_count": null,
       "_view_module": "@jupyter-widgets/base",
       "_view_module_version": "1.2.0",
       "_view_name": "LayoutView",
       "align_content": null,
       "align_items": null,
       "align_self": null,
       "border": null,
       "bottom": null,
       "display": null,
       "flex": null,
       "flex_flow": null,
       "grid_area": null,
       "grid_auto_columns": null,
       "grid_auto_flow": null,
       "grid_auto_rows": null,
       "grid_column": null,
       "grid_gap": null,
       "grid_row": null,
       "grid_template_areas": null,
       "grid_template_columns": null,
       "grid_template_rows": null,
       "height": null,
       "justify_content": null,
       "justify_items": null,
       "left": null,
       "margin": null,
       "max_height": null,
       "max_width": null,
       "min_height": null,
       "min_width": null,
       "object_fit": null,
       "object_position": null,
       "order": null,
       "overflow": null,
       "overflow_x": null,
       "overflow_y": null,
       "padding": null,
       "right": null,
       "top": null,
       "visibility": null,
       "width": null
      }
     },
     "aa3866c2b9ea43d9935fa41e930c40c8": {
      "model_module": "@jupyter-widgets/controls",
      "model_module_version": "1.5.0",
      "model_name": "DescriptionStyleModel",
      "state": {
       "_model_module": "@jupyter-widgets/controls",
       "_model_module_version": "1.5.0",
       "_model_name": "DescriptionStyleModel",
       "_view_count": null,
       "_view_module": "@jupyter-widgets/base",
       "_view_module_version": "1.2.0",
       "_view_name": "StyleView",
       "description_width": ""
      }
     },
     "aa914b9a7a904934b26d8118a0ee1c8a": {
      "model_module": "@jupyter-widgets/controls",
      "model_module_version": "1.5.0",
      "model_name": "ProgressStyleModel",
      "state": {
       "_model_module": "@jupyter-widgets/controls",
       "_model_module_version": "1.5.0",
       "_model_name": "ProgressStyleModel",
       "_view_count": null,
       "_view_module": "@jupyter-widgets/base",
       "_view_module_version": "1.2.0",
       "_view_name": "StyleView",
       "bar_color": null,
       "description_width": ""
      }
     },
     "aae36be5f88c4f039c1f09a8b7930c2f": {
      "model_module": "@jupyter-widgets/controls",
      "model_module_version": "1.5.0",
      "model_name": "HTMLModel",
      "state": {
       "_dom_classes": [],
       "_model_module": "@jupyter-widgets/controls",
       "_model_module_version": "1.5.0",
       "_model_name": "HTMLModel",
       "_view_count": null,
       "_view_module": "@jupyter-widgets/controls",
       "_view_module_version": "1.5.0",
       "_view_name": "HTMLView",
       "description": "",
       "description_tooltip": null,
       "layout": "IPY_MODEL_edfb205d70604d2f8a145ddbdd2e4f94",
       "placeholder": "​",
       "style": "IPY_MODEL_aa3866c2b9ea43d9935fa41e930c40c8",
       "value": " 649/649 [00:00&lt;00:00, 20.7kB/s]"
      }
     },
     "acd3b2862d774dc0ac66519cd51267fe": {
      "model_module": "@jupyter-widgets/controls",
      "model_module_version": "1.5.0",
      "model_name": "ProgressStyleModel",
      "state": {
       "_model_module": "@jupyter-widgets/controls",
       "_model_module_version": "1.5.0",
       "_model_name": "ProgressStyleModel",
       "_view_count": null,
       "_view_module": "@jupyter-widgets/base",
       "_view_module_version": "1.2.0",
       "_view_name": "StyleView",
       "bar_color": null,
       "description_width": ""
      }
     },
     "ad280c9a734341b9845b654e964d421b": {
      "model_module": "@jupyter-widgets/base",
      "model_module_version": "1.2.0",
      "model_name": "LayoutModel",
      "state": {
       "_model_module": "@jupyter-widgets/base",
       "_model_module_version": "1.2.0",
       "_model_name": "LayoutModel",
       "_view_count": null,
       "_view_module": "@jupyter-widgets/base",
       "_view_module_version": "1.2.0",
       "_view_name": "LayoutView",
       "align_content": null,
       "align_items": null,
       "align_self": null,
       "border": null,
       "bottom": null,
       "display": null,
       "flex": null,
       "flex_flow": null,
       "grid_area": null,
       "grid_auto_columns": null,
       "grid_auto_flow": null,
       "grid_auto_rows": null,
       "grid_column": null,
       "grid_gap": null,
       "grid_row": null,
       "grid_template_areas": null,
       "grid_template_columns": null,
       "grid_template_rows": null,
       "height": null,
       "justify_content": null,
       "justify_items": null,
       "left": null,
       "margin": null,
       "max_height": null,
       "max_width": null,
       "min_height": null,
       "min_width": null,
       "object_fit": null,
       "object_position": null,
       "order": null,
       "overflow": null,
       "overflow_x": null,
       "overflow_y": null,
       "padding": null,
       "right": null,
       "top": null,
       "visibility": null,
       "width": null
      }
     },
     "ae345422e29642e2b051d8d0ccd0669a": {
      "model_module": "@jupyter-widgets/base",
      "model_module_version": "1.2.0",
      "model_name": "LayoutModel",
      "state": {
       "_model_module": "@jupyter-widgets/base",
       "_model_module_version": "1.2.0",
       "_model_name": "LayoutModel",
       "_view_count": null,
       "_view_module": "@jupyter-widgets/base",
       "_view_module_version": "1.2.0",
       "_view_name": "LayoutView",
       "align_content": null,
       "align_items": null,
       "align_self": null,
       "border": null,
       "bottom": null,
       "display": null,
       "flex": null,
       "flex_flow": null,
       "grid_area": null,
       "grid_auto_columns": null,
       "grid_auto_flow": null,
       "grid_auto_rows": null,
       "grid_column": null,
       "grid_gap": null,
       "grid_row": null,
       "grid_template_areas": null,
       "grid_template_columns": null,
       "grid_template_rows": null,
       "height": null,
       "justify_content": null,
       "justify_items": null,
       "left": null,
       "margin": null,
       "max_height": null,
       "max_width": null,
       "min_height": null,
       "min_width": null,
       "object_fit": null,
       "object_position": null,
       "order": null,
       "overflow": null,
       "overflow_x": null,
       "overflow_y": null,
       "padding": null,
       "right": null,
       "top": null,
       "visibility": null,
       "width": null
      }
     },
     "af138727585f43a1a0eac0c9037c7791": {
      "model_module": "@jupyter-widgets/base",
      "model_module_version": "1.2.0",
      "model_name": "LayoutModel",
      "state": {
       "_model_module": "@jupyter-widgets/base",
       "_model_module_version": "1.2.0",
       "_model_name": "LayoutModel",
       "_view_count": null,
       "_view_module": "@jupyter-widgets/base",
       "_view_module_version": "1.2.0",
       "_view_name": "LayoutView",
       "align_content": null,
       "align_items": null,
       "align_self": null,
       "border": null,
       "bottom": null,
       "display": null,
       "flex": null,
       "flex_flow": null,
       "grid_area": null,
       "grid_auto_columns": null,
       "grid_auto_flow": null,
       "grid_auto_rows": null,
       "grid_column": null,
       "grid_gap": null,
       "grid_row": null,
       "grid_template_areas": null,
       "grid_template_columns": null,
       "grid_template_rows": null,
       "height": null,
       "justify_content": null,
       "justify_items": null,
       "left": null,
       "margin": null,
       "max_height": null,
       "max_width": null,
       "min_height": null,
       "min_width": null,
       "object_fit": null,
       "object_position": null,
       "order": null,
       "overflow": null,
       "overflow_x": null,
       "overflow_y": null,
       "padding": null,
       "right": null,
       "top": null,
       "visibility": null,
       "width": null
      }
     },
     "af27e943950b48ab9ea5fe58ecd9d8bf": {
      "model_module": "@jupyter-widgets/controls",
      "model_module_version": "1.5.0",
      "model_name": "FloatProgressModel",
      "state": {
       "_dom_classes": [],
       "_model_module": "@jupyter-widgets/controls",
       "_model_module_version": "1.5.0",
       "_model_name": "FloatProgressModel",
       "_view_count": null,
       "_view_module": "@jupyter-widgets/controls",
       "_view_module_version": "1.5.0",
       "_view_name": "ProgressView",
       "bar_style": "success",
       "description": "",
       "description_tooltip": null,
       "layout": "IPY_MODEL_3265b9d943d4418f9038e9145225fff8",
       "max": 649.0,
       "min": 0.0,
       "orientation": "horizontal",
       "style": "IPY_MODEL_68437b08f62d48a987e93210af85b50a",
       "value": 649.0
      }
     },
     "b0e691d2dcd34188a86d40b37ce1a677": {
      "model_module": "@jupyter-widgets/base",
      "model_module_version": "1.2.0",
      "model_name": "LayoutModel",
      "state": {
       "_model_module": "@jupyter-widgets/base",
       "_model_module_version": "1.2.0",
       "_model_name": "LayoutModel",
       "_view_count": null,
       "_view_module": "@jupyter-widgets/base",
       "_view_module_version": "1.2.0",
       "_view_name": "LayoutView",
       "align_content": null,
       "align_items": null,
       "align_self": null,
       "border": null,
       "bottom": null,
       "display": null,
       "flex": null,
       "flex_flow": null,
       "grid_area": null,
       "grid_auto_columns": null,
       "grid_auto_flow": null,
       "grid_auto_rows": null,
       "grid_column": null,
       "grid_gap": null,
       "grid_row": null,
       "grid_template_areas": null,
       "grid_template_columns": null,
       "grid_template_rows": null,
       "height": null,
       "justify_content": null,
       "justify_items": null,
       "left": null,
       "margin": null,
       "max_height": null,
       "max_width": null,
       "min_height": null,
       "min_width": null,
       "object_fit": null,
       "object_position": null,
       "order": null,
       "overflow": null,
       "overflow_x": null,
       "overflow_y": null,
       "padding": null,
       "right": null,
       "top": null,
       "visibility": null,
       "width": null
      }
     },
     "b13ed9aae3704e818096d2ba0cb97826": {
      "model_module": "@jupyter-widgets/controls",
      "model_module_version": "1.5.0",
      "model_name": "HTMLModel",
      "state": {
       "_dom_classes": [],
       "_model_module": "@jupyter-widgets/controls",
       "_model_module_version": "1.5.0",
       "_model_name": "HTMLModel",
       "_view_count": null,
       "_view_module": "@jupyter-widgets/controls",
       "_view_module_version": "1.5.0",
       "_view_name": "HTMLView",
       "description": "",
       "description_tooltip": null,
       "layout": "IPY_MODEL_4cd6b133bdc34af8995faf533acc97f8",
       "placeholder": "​",
       "style": "IPY_MODEL_80605972d18a4eba842f0fde0e7a9274",
       "value": " 529/529 [00:00&lt;00:00, 17.6kB/s]"
      }
     },
     "b1e07bd7d27b4e43b9da216882689565": {
      "model_module": "@jupyter-widgets/base",
      "model_module_version": "1.2.0",
      "model_name": "LayoutModel",
      "state": {
       "_model_module": "@jupyter-widgets/base",
       "_model_module_version": "1.2.0",
       "_model_name": "LayoutModel",
       "_view_count": null,
       "_view_module": "@jupyter-widgets/base",
       "_view_module_version": "1.2.0",
       "_view_name": "LayoutView",
       "align_content": null,
       "align_items": null,
       "align_self": null,
       "border": null,
       "bottom": null,
       "display": null,
       "flex": null,
       "flex_flow": null,
       "grid_area": null,
       "grid_auto_columns": null,
       "grid_auto_flow": null,
       "grid_auto_rows": null,
       "grid_column": null,
       "grid_gap": null,
       "grid_row": null,
       "grid_template_areas": null,
       "grid_template_columns": null,
       "grid_template_rows": null,
       "height": null,
       "justify_content": null,
       "justify_items": null,
       "left": null,
       "margin": null,
       "max_height": null,
       "max_width": null,
       "min_height": null,
       "min_width": null,
       "object_fit": null,
       "object_position": null,
       "order": null,
       "overflow": null,
       "overflow_x": null,
       "overflow_y": null,
       "padding": null,
       "right": null,
       "top": null,
       "visibility": null,
       "width": null
      }
     },
     "b3870aaa27034a2b82470b3646761727": {
      "model_module": "@jupyter-widgets/controls",
      "model_module_version": "1.5.0",
      "model_name": "DescriptionStyleModel",
      "state": {
       "_model_module": "@jupyter-widgets/controls",
       "_model_module_version": "1.5.0",
       "_model_name": "DescriptionStyleModel",
       "_view_count": null,
       "_view_module": "@jupyter-widgets/base",
       "_view_module_version": "1.2.0",
       "_view_name": "StyleView",
       "description_width": ""
      }
     },
     "b70d5d4794684d33b01c281792b62fbe": {
      "model_module": "@jupyter-widgets/base",
      "model_module_version": "1.2.0",
      "model_name": "LayoutModel",
      "state": {
       "_model_module": "@jupyter-widgets/base",
       "_model_module_version": "1.2.0",
       "_model_name": "LayoutModel",
       "_view_count": null,
       "_view_module": "@jupyter-widgets/base",
       "_view_module_version": "1.2.0",
       "_view_name": "LayoutView",
       "align_content": null,
       "align_items": null,
       "align_self": null,
       "border": null,
       "bottom": null,
       "display": null,
       "flex": null,
       "flex_flow": null,
       "grid_area": null,
       "grid_auto_columns": null,
       "grid_auto_flow": null,
       "grid_auto_rows": null,
       "grid_column": null,
       "grid_gap": null,
       "grid_row": null,
       "grid_template_areas": null,
       "grid_template_columns": null,
       "grid_template_rows": null,
       "height": null,
       "justify_content": null,
       "justify_items": null,
       "left": null,
       "margin": null,
       "max_height": null,
       "max_width": null,
       "min_height": null,
       "min_width": null,
       "object_fit": null,
       "object_position": null,
       "order": null,
       "overflow": null,
       "overflow_x": null,
       "overflow_y": null,
       "padding": null,
       "right": null,
       "top": null,
       "visibility": null,
       "width": null
      }
     },
     "b7ac85e811b9415baa892c1c5218bda0": {
      "model_module": "@jupyter-widgets/controls",
      "model_module_version": "1.5.0",
      "model_name": "ProgressStyleModel",
      "state": {
       "_model_module": "@jupyter-widgets/controls",
       "_model_module_version": "1.5.0",
       "_model_name": "ProgressStyleModel",
       "_view_count": null,
       "_view_module": "@jupyter-widgets/base",
       "_view_module_version": "1.2.0",
       "_view_name": "StyleView",
       "bar_color": null,
       "description_width": ""
      }
     },
     "b824f0319e2141b4ae17ff306d467fa5": {
      "model_module": "@jupyter-widgets/controls",
      "model_module_version": "1.5.0",
      "model_name": "FloatProgressModel",
      "state": {
       "_dom_classes": [],
       "_model_module": "@jupyter-widgets/controls",
       "_model_module_version": "1.5.0",
       "_model_name": "FloatProgressModel",
       "_view_count": null,
       "_view_module": "@jupyter-widgets/controls",
       "_view_module_version": "1.5.0",
       "_view_name": "ProgressView",
       "bar_style": "success",
       "description": "",
       "description_tooltip": null,
       "layout": "IPY_MODEL_829f2d61935b43039d7e30d62344a2d9",
       "max": 795925.0,
       "min": 0.0,
       "orientation": "horizontal",
       "style": "IPY_MODEL_0009bc533f504a6d9892afb6e446f3ea",
       "value": 795925.0
      }
     },
     "b8496639dd1d47df8dbee73037e6b949": {
      "model_module": "@jupyter-widgets/controls",
      "model_module_version": "1.5.0",
      "model_name": "HTMLModel",
      "state": {
       "_dom_classes": [],
       "_model_module": "@jupyter-widgets/controls",
       "_model_module_version": "1.5.0",
       "_model_name": "HTMLModel",
       "_view_count": null,
       "_view_module": "@jupyter-widgets/controls",
       "_view_module_version": "1.5.0",
       "_view_name": "HTMLView",
       "description": "",
       "description_tooltip": null,
       "layout": "IPY_MODEL_bf4731ed1d7543419950d070690b089b",
       "placeholder": "​",
       "style": "IPY_MODEL_2ffb6739957d4a108cac1a7bec3ab221",
       "value": "Downloading: 100%"
      }
     },
     "bcdef48ceb274e39b5426001582ae7a2": {
      "model_module": "@jupyter-widgets/base",
      "model_module_version": "1.2.0",
      "model_name": "LayoutModel",
      "state": {
       "_model_module": "@jupyter-widgets/base",
       "_model_module_version": "1.2.0",
       "_model_name": "LayoutModel",
       "_view_count": null,
       "_view_module": "@jupyter-widgets/base",
       "_view_module_version": "1.2.0",
       "_view_name": "LayoutView",
       "align_content": null,
       "align_items": null,
       "align_self": null,
       "border": null,
       "bottom": null,
       "display": null,
       "flex": null,
       "flex_flow": null,
       "grid_area": null,
       "grid_auto_columns": null,
       "grid_auto_flow": null,
       "grid_auto_rows": null,
       "grid_column": null,
       "grid_gap": null,
       "grid_row": null,
       "grid_template_areas": null,
       "grid_template_columns": null,
       "grid_template_rows": null,
       "height": null,
       "justify_content": null,
       "justify_items": null,
       "left": null,
       "margin": null,
       "max_height": null,
       "max_width": null,
       "min_height": null,
       "min_width": null,
       "object_fit": null,
       "object_position": null,
       "order": null,
       "overflow": null,
       "overflow_x": null,
       "overflow_y": null,
       "padding": null,
       "right": null,
       "top": null,
       "visibility": null,
       "width": null
      }
     },
     "bf00b4f2298f42a480775fc2730b84a9": {
      "model_module": "@jupyter-widgets/base",
      "model_module_version": "1.2.0",
      "model_name": "LayoutModel",
      "state": {
       "_model_module": "@jupyter-widgets/base",
       "_model_module_version": "1.2.0",
       "_model_name": "LayoutModel",
       "_view_count": null,
       "_view_module": "@jupyter-widgets/base",
       "_view_module_version": "1.2.0",
       "_view_name": "LayoutView",
       "align_content": null,
       "align_items": null,
       "align_self": null,
       "border": null,
       "bottom": null,
       "display": null,
       "flex": null,
       "flex_flow": null,
       "grid_area": null,
       "grid_auto_columns": null,
       "grid_auto_flow": null,
       "grid_auto_rows": null,
       "grid_column": null,
       "grid_gap": null,
       "grid_row": null,
       "grid_template_areas": null,
       "grid_template_columns": null,
       "grid_template_rows": null,
       "height": null,
       "justify_content": null,
       "justify_items": null,
       "left": null,
       "margin": null,
       "max_height": null,
       "max_width": null,
       "min_height": null,
       "min_width": null,
       "object_fit": null,
       "object_position": null,
       "order": null,
       "overflow": null,
       "overflow_x": null,
       "overflow_y": null,
       "padding": null,
       "right": null,
       "top": null,
       "visibility": null,
       "width": null
      }
     },
     "bf4731ed1d7543419950d070690b089b": {
      "model_module": "@jupyter-widgets/base",
      "model_module_version": "1.2.0",
      "model_name": "LayoutModel",
      "state": {
       "_model_module": "@jupyter-widgets/base",
       "_model_module_version": "1.2.0",
       "_model_name": "LayoutModel",
       "_view_count": null,
       "_view_module": "@jupyter-widgets/base",
       "_view_module_version": "1.2.0",
       "_view_name": "LayoutView",
       "align_content": null,
       "align_items": null,
       "align_self": null,
       "border": null,
       "bottom": null,
       "display": null,
       "flex": null,
       "flex_flow": null,
       "grid_area": null,
       "grid_auto_columns": null,
       "grid_auto_flow": null,
       "grid_auto_rows": null,
       "grid_column": null,
       "grid_gap": null,
       "grid_row": null,
       "grid_template_areas": null,
       "grid_template_columns": null,
       "grid_template_rows": null,
       "height": null,
       "justify_content": null,
       "justify_items": null,
       "left": null,
       "margin": null,
       "max_height": null,
       "max_width": null,
       "min_height": null,
       "min_width": null,
       "object_fit": null,
       "object_position": null,
       "order": null,
       "overflow": null,
       "overflow_x": null,
       "overflow_y": null,
       "padding": null,
       "right": null,
       "top": null,
       "visibility": null,
       "width": null
      }
     },
     "c2fc099c3d2a4504b4b528b44d285f5f": {
      "model_module": "@jupyter-widgets/base",
      "model_module_version": "1.2.0",
      "model_name": "LayoutModel",
      "state": {
       "_model_module": "@jupyter-widgets/base",
       "_model_module_version": "1.2.0",
       "_model_name": "LayoutModel",
       "_view_count": null,
       "_view_module": "@jupyter-widgets/base",
       "_view_module_version": "1.2.0",
       "_view_name": "LayoutView",
       "align_content": null,
       "align_items": null,
       "align_self": null,
       "border": null,
       "bottom": null,
       "display": null,
       "flex": null,
       "flex_flow": null,
       "grid_area": null,
       "grid_auto_columns": null,
       "grid_auto_flow": null,
       "grid_auto_rows": null,
       "grid_column": null,
       "grid_gap": null,
       "grid_row": null,
       "grid_template_areas": null,
       "grid_template_columns": null,
       "grid_template_rows": null,
       "height": null,
       "justify_content": null,
       "justify_items": null,
       "left": null,
       "margin": null,
       "max_height": null,
       "max_width": null,
       "min_height": null,
       "min_width": null,
       "object_fit": null,
       "object_position": null,
       "order": null,
       "overflow": null,
       "overflow_x": null,
       "overflow_y": null,
       "padding": null,
       "right": null,
       "top": null,
       "visibility": null,
       "width": null
      }
     },
     "c726dcdc28db4119a20135704dd4f53b": {
      "model_module": "@jupyter-widgets/base",
      "model_module_version": "1.2.0",
      "model_name": "LayoutModel",
      "state": {
       "_model_module": "@jupyter-widgets/base",
       "_model_module_version": "1.2.0",
       "_model_name": "LayoutModel",
       "_view_count": null,
       "_view_module": "@jupyter-widgets/base",
       "_view_module_version": "1.2.0",
       "_view_name": "LayoutView",
       "align_content": null,
       "align_items": null,
       "align_self": null,
       "border": null,
       "bottom": null,
       "display": null,
       "flex": null,
       "flex_flow": null,
       "grid_area": null,
       "grid_auto_columns": null,
       "grid_auto_flow": null,
       "grid_auto_rows": null,
       "grid_column": null,
       "grid_gap": null,
       "grid_row": null,
       "grid_template_areas": null,
       "grid_template_columns": null,
       "grid_template_rows": null,
       "height": null,
       "justify_content": null,
       "justify_items": null,
       "left": null,
       "margin": null,
       "max_height": null,
       "max_width": null,
       "min_height": null,
       "min_width": null,
       "object_fit": null,
       "object_position": null,
       "order": null,
       "overflow": null,
       "overflow_x": null,
       "overflow_y": null,
       "padding": null,
       "right": null,
       "top": null,
       "visibility": null,
       "width": null
      }
     },
     "c79294a81e684b1ca57848080335976e": {
      "model_module": "@jupyter-widgets/controls",
      "model_module_version": "1.5.0",
      "model_name": "HTMLModel",
      "state": {
       "_dom_classes": [],
       "_model_module": "@jupyter-widgets/controls",
       "_model_module_version": "1.5.0",
       "_model_name": "HTMLModel",
       "_view_count": null,
       "_view_module": "@jupyter-widgets/controls",
       "_view_module_version": "1.5.0",
       "_view_name": "HTMLView",
       "description": "",
       "description_tooltip": null,
       "layout": "IPY_MODEL_c726dcdc28db4119a20135704dd4f53b",
       "placeholder": "​",
       "style": "IPY_MODEL_1eac57691cb9414baba6a0d1b36a7104",
       "value": " 2.44G/2.44G [01:19&lt;00:00, 35.2MB/s]"
      }
     },
     "c7cafb88546c4104b6e87315ec291f26": {
      "model_module": "@jupyter-widgets/controls",
      "model_module_version": "1.5.0",
      "model_name": "HBoxModel",
      "state": {
       "_dom_classes": [],
       "_model_module": "@jupyter-widgets/controls",
       "_model_module_version": "1.5.0",
       "_model_name": "HBoxModel",
       "_view_count": null,
       "_view_module": "@jupyter-widgets/controls",
       "_view_module_version": "1.5.0",
       "_view_name": "HBoxView",
       "box_style": "",
       "children": [
        "IPY_MODEL_ebd8154f185f410483f015df795cb19d",
        "IPY_MODEL_80de1ae8d5c94423a2c52d760182b0c8",
        "IPY_MODEL_8e75441331584d9f859c795f6533d87a"
       ],
       "layout": "IPY_MODEL_b70d5d4794684d33b01c281792b62fbe"
      }
     },
     "c872b98592cc4d3f958e55e58c4d6fd0": {
      "model_module": "@jupyter-widgets/controls",
      "model_module_version": "1.5.0",
      "model_name": "DescriptionStyleModel",
      "state": {
       "_model_module": "@jupyter-widgets/controls",
       "_model_module_version": "1.5.0",
       "_model_name": "DescriptionStyleModel",
       "_view_count": null,
       "_view_module": "@jupyter-widgets/base",
       "_view_module_version": "1.2.0",
       "_view_name": "StyleView",
       "description_width": ""
      }
     },
     "c8743d99db3c4501bb2e8f3fff075668": {
      "model_module": "@jupyter-widgets/controls",
      "model_module_version": "1.5.0",
      "model_name": "HBoxModel",
      "state": {
       "_dom_classes": [],
       "_model_module": "@jupyter-widgets/controls",
       "_model_module_version": "1.5.0",
       "_model_name": "HBoxModel",
       "_view_count": null,
       "_view_module": "@jupyter-widgets/controls",
       "_view_module_version": "1.5.0",
       "_view_name": "HBoxView",
       "box_style": "",
       "children": [
        "IPY_MODEL_b8496639dd1d47df8dbee73037e6b949",
        "IPY_MODEL_f39deb46f5a8414990b8b6db70739a11",
        "IPY_MODEL_d8f4516783af4d579ab3937b9601451c"
       ],
       "layout": "IPY_MODEL_456f138eaa7545f9af676c40e4962ac4"
      }
     },
     "c9812d5cc9264ca386f19fc9347e50c1": {
      "model_module": "@jupyter-widgets/controls",
      "model_module_version": "1.5.0",
      "model_name": "ProgressStyleModel",
      "state": {
       "_model_module": "@jupyter-widgets/controls",
       "_model_module_version": "1.5.0",
       "_model_name": "ProgressStyleModel",
       "_view_count": null,
       "_view_module": "@jupyter-widgets/base",
       "_view_module_version": "1.2.0",
       "_view_name": "StyleView",
       "bar_color": null,
       "description_width": ""
      }
     },
     "cc2e952e019240d486e64cfa03e2339d": {
      "model_module": "@jupyter-widgets/controls",
      "model_module_version": "1.5.0",
      "model_name": "DescriptionStyleModel",
      "state": {
       "_model_module": "@jupyter-widgets/controls",
       "_model_module_version": "1.5.0",
       "_model_name": "DescriptionStyleModel",
       "_view_count": null,
       "_view_module": "@jupyter-widgets/base",
       "_view_module_version": "1.2.0",
       "_view_name": "StyleView",
       "description_width": ""
      }
     },
     "ce07c76fd1df4939a885e7c45e5621b7": {
      "model_module": "@jupyter-widgets/controls",
      "model_module_version": "1.5.0",
      "model_name": "DescriptionStyleModel",
      "state": {
       "_model_module": "@jupyter-widgets/controls",
       "_model_module_version": "1.5.0",
       "_model_name": "DescriptionStyleModel",
       "_view_count": null,
       "_view_module": "@jupyter-widgets/base",
       "_view_module_version": "1.2.0",
       "_view_name": "StyleView",
       "description_width": ""
      }
     },
     "d036bb55d17e4b38a2367d0b031d8119": {
      "model_module": "@jupyter-widgets/controls",
      "model_module_version": "1.5.0",
      "model_name": "HBoxModel",
      "state": {
       "_dom_classes": [],
       "_model_module": "@jupyter-widgets/controls",
       "_model_module_version": "1.5.0",
       "_model_name": "HBoxModel",
       "_view_count": null,
       "_view_module": "@jupyter-widgets/controls",
       "_view_module_version": "1.5.0",
       "_view_name": "HBoxView",
       "box_style": "",
       "children": [
        "IPY_MODEL_f94cfc4b7dfd44ffb3397c3600717319",
        "IPY_MODEL_0f8a6ca6bc1d4865883f691dd21ea35b",
        "IPY_MODEL_04b5ad43f1a2463aa90c6ea339af0336"
       ],
       "layout": "IPY_MODEL_86d484106ec54d319da21d0f8cab5e00"
      }
     },
     "d24e0671757046c495acc16787dfefb6": {
      "model_module": "@jupyter-widgets/base",
      "model_module_version": "1.2.0",
      "model_name": "LayoutModel",
      "state": {
       "_model_module": "@jupyter-widgets/base",
       "_model_module_version": "1.2.0",
       "_model_name": "LayoutModel",
       "_view_count": null,
       "_view_module": "@jupyter-widgets/base",
       "_view_module_version": "1.2.0",
       "_view_name": "LayoutView",
       "align_content": null,
       "align_items": null,
       "align_self": null,
       "border": null,
       "bottom": null,
       "display": null,
       "flex": null,
       "flex_flow": null,
       "grid_area": null,
       "grid_auto_columns": null,
       "grid_auto_flow": null,
       "grid_auto_rows": null,
       "grid_column": null,
       "grid_gap": null,
       "grid_row": null,
       "grid_template_areas": null,
       "grid_template_columns": null,
       "grid_template_rows": null,
       "height": null,
       "justify_content": null,
       "justify_items": null,
       "left": null,
       "margin": null,
       "max_height": null,
       "max_width": null,
       "min_height": null,
       "min_width": null,
       "object_fit": null,
       "object_position": null,
       "order": null,
       "overflow": null,
       "overflow_x": null,
       "overflow_y": null,
       "padding": null,
       "right": null,
       "top": null,
       "visibility": null,
       "width": null
      }
     },
     "d582005cad714ba3a5c93bb8d781174f": {
      "model_module": "@jupyter-widgets/base",
      "model_module_version": "1.2.0",
      "model_name": "LayoutModel",
      "state": {
       "_model_module": "@jupyter-widgets/base",
       "_model_module_version": "1.2.0",
       "_model_name": "LayoutModel",
       "_view_count": null,
       "_view_module": "@jupyter-widgets/base",
       "_view_module_version": "1.2.0",
       "_view_name": "LayoutView",
       "align_content": null,
       "align_items": null,
       "align_self": null,
       "border": null,
       "bottom": null,
       "display": null,
       "flex": null,
       "flex_flow": null,
       "grid_area": null,
       "grid_auto_columns": null,
       "grid_auto_flow": null,
       "grid_auto_rows": null,
       "grid_column": null,
       "grid_gap": null,
       "grid_row": null,
       "grid_template_areas": null,
       "grid_template_columns": null,
       "grid_template_rows": null,
       "height": null,
       "justify_content": null,
       "justify_items": null,
       "left": null,
       "margin": null,
       "max_height": null,
       "max_width": null,
       "min_height": null,
       "min_width": null,
       "object_fit": null,
       "object_position": null,
       "order": null,
       "overflow": null,
       "overflow_x": null,
       "overflow_y": null,
       "padding": null,
       "right": null,
       "top": null,
       "visibility": null,
       "width": null
      }
     },
     "d590fcbb3af6404680bf27ccb3ec5249": {
      "model_module": "@jupyter-widgets/controls",
      "model_module_version": "1.5.0",
      "model_name": "HBoxModel",
      "state": {
       "_dom_classes": [],
       "_model_module": "@jupyter-widgets/controls",
       "_model_module_version": "1.5.0",
       "_model_name": "HBoxModel",
       "_view_count": null,
       "_view_module": "@jupyter-widgets/controls",
       "_view_module_version": "1.5.0",
       "_view_name": "HBoxView",
       "box_style": "",
       "children": [
        "IPY_MODEL_81f321a6f9884ce782cb4395a21dfc5e",
        "IPY_MODEL_a83c24be12324bd19fecbcf481aef5f9",
        "IPY_MODEL_b13ed9aae3704e818096d2ba0cb97826"
       ],
       "layout": "IPY_MODEL_dabb760953594816af197d61d4542971"
      }
     },
     "d63428b0ee7d42d8b89561f2ae811d39": {
      "model_module": "@jupyter-widgets/controls",
      "model_module_version": "1.5.0",
      "model_name": "ProgressStyleModel",
      "state": {
       "_model_module": "@jupyter-widgets/controls",
       "_model_module_version": "1.5.0",
       "_model_name": "ProgressStyleModel",
       "_view_count": null,
       "_view_module": "@jupyter-widgets/base",
       "_view_module_version": "1.2.0",
       "_view_name": "StyleView",
       "bar_color": null,
       "description_width": ""
      }
     },
     "d63700fecc664143bc149fbbc6d55e05": {
      "model_module": "@jupyter-widgets/controls",
      "model_module_version": "1.5.0",
      "model_name": "FloatProgressModel",
      "state": {
       "_dom_classes": [],
       "_model_module": "@jupyter-widgets/controls",
       "_model_module_version": "1.5.0",
       "_model_name": "FloatProgressModel",
       "_view_count": null,
       "_view_module": "@jupyter-widgets/controls",
       "_view_module_version": "1.5.0",
       "_view_name": "ProgressView",
       "bar_style": "success",
       "description": "",
       "description_tooltip": null,
       "layout": "IPY_MODEL_ae345422e29642e2b051d8d0ccd0669a",
       "max": 1257390.0,
       "min": 0.0,
       "orientation": "horizontal",
       "style": "IPY_MODEL_b7ac85e811b9415baa892c1c5218bda0",
       "value": 1257390.0
      }
     },
     "d637661683104c84b931d7790e962bfe": {
      "model_module": "@jupyter-widgets/controls",
      "model_module_version": "1.5.0",
      "model_name": "DescriptionStyleModel",
      "state": {
       "_model_module": "@jupyter-widgets/controls",
       "_model_module_version": "1.5.0",
       "_model_name": "DescriptionStyleModel",
       "_view_count": null,
       "_view_module": "@jupyter-widgets/base",
       "_view_module_version": "1.2.0",
       "_view_name": "StyleView",
       "description_width": ""
      }
     },
     "d6c0aa508d61460fb3c7837f9e91275d": {
      "model_module": "@jupyter-widgets/controls",
      "model_module_version": "1.5.0",
      "model_name": "HTMLModel",
      "state": {
       "_dom_classes": [],
       "_model_module": "@jupyter-widgets/controls",
       "_model_module_version": "1.5.0",
       "_model_name": "HTMLModel",
       "_view_count": null,
       "_view_module": "@jupyter-widgets/controls",
       "_view_module_version": "1.5.0",
       "_view_name": "HTMLView",
       "description": "",
       "description_tooltip": null,
       "layout": "IPY_MODEL_2b6baa08f3714a2586c34975ec770c24",
       "placeholder": "​",
       "style": "IPY_MODEL_583cbefe34014de28ebb88b0c2879b13",
       "value": "Downloading: 100%"
      }
     },
     "d89425d174aa4781b6473fc0de4b40f3": {
      "model_module": "@jupyter-widgets/controls",
      "model_module_version": "1.5.0",
      "model_name": "FloatProgressModel",
      "state": {
       "_dom_classes": [],
       "_model_module": "@jupyter-widgets/controls",
       "_model_module_version": "1.5.0",
       "_model_name": "FloatProgressModel",
       "_view_count": null,
       "_view_module": "@jupyter-widgets/controls",
       "_view_module_version": "1.5.0",
       "_view_name": "ProgressView",
       "bar_style": "success",
       "description": "",
       "description_tooltip": null,
       "layout": "IPY_MODEL_6e44fc446a404ac8835c917698cd7750",
       "max": 1133.0,
       "min": 0.0,
       "orientation": "horizontal",
       "style": "IPY_MODEL_83c857328cd74c348f3edf9cfe7cf66c",
       "value": 1133.0
      }
     },
     "d8eced68963343e5a2393eeec2c569b0": {
      "model_module": "@jupyter-widgets/controls",
      "model_module_version": "1.5.0",
      "model_name": "ProgressStyleModel",
      "state": {
       "_model_module": "@jupyter-widgets/controls",
       "_model_module_version": "1.5.0",
       "_model_name": "ProgressStyleModel",
       "_view_count": null,
       "_view_module": "@jupyter-widgets/base",
       "_view_module_version": "1.2.0",
       "_view_name": "StyleView",
       "bar_color": null,
       "description_width": ""
      }
     },
     "d8f4516783af4d579ab3937b9601451c": {
      "model_module": "@jupyter-widgets/controls",
      "model_module_version": "1.5.0",
      "model_name": "HTMLModel",
      "state": {
       "_dom_classes": [],
       "_model_module": "@jupyter-widgets/controls",
       "_model_module_version": "1.5.0",
       "_model_name": "HTMLModel",
       "_view_count": null,
       "_view_module": "@jupyter-widgets/controls",
       "_view_module_version": "1.5.0",
       "_view_name": "HTMLView",
       "description": "",
       "description_tooltip": null,
       "layout": "IPY_MODEL_d582005cad714ba3a5c93bb8d781174f",
       "placeholder": "​",
       "style": "IPY_MODEL_74a4ff55811d4d6b9ad1bc27b64d1e11",
       "value": " 5.07M/5.07M [00:00&lt;00:00, 24.8MB/s]"
      }
     },
     "dabb760953594816af197d61d4542971": {
      "model_module": "@jupyter-widgets/base",
      "model_module_version": "1.2.0",
      "model_name": "LayoutModel",
      "state": {
       "_model_module": "@jupyter-widgets/base",
       "_model_module_version": "1.2.0",
       "_model_name": "LayoutModel",
       "_view_count": null,
       "_view_module": "@jupyter-widgets/base",
       "_view_module_version": "1.2.0",
       "_view_name": "LayoutView",
       "align_content": null,
       "align_items": null,
       "align_self": null,
       "border": null,
       "bottom": null,
       "display": null,
       "flex": null,
       "flex_flow": null,
       "grid_area": null,
       "grid_auto_columns": null,
       "grid_auto_flow": null,
       "grid_auto_rows": null,
       "grid_column": null,
       "grid_gap": null,
       "grid_row": null,
       "grid_template_areas": null,
       "grid_template_columns": null,
       "grid_template_rows": null,
       "height": null,
       "justify_content": null,
       "justify_items": null,
       "left": null,
       "margin": null,
       "max_height": null,
       "max_width": null,
       "min_height": null,
       "min_width": null,
       "object_fit": null,
       "object_position": null,
       "order": null,
       "overflow": null,
       "overflow_x": null,
       "overflow_y": null,
       "padding": null,
       "right": null,
       "top": null,
       "visibility": null,
       "width": null
      }
     },
     "dde4013b84744f55a4e46e6149af047a": {
      "model_module": "@jupyter-widgets/controls",
      "model_module_version": "1.5.0",
      "model_name": "HBoxModel",
      "state": {
       "_dom_classes": [],
       "_model_module": "@jupyter-widgets/controls",
       "_model_module_version": "1.5.0",
       "_model_name": "HBoxModel",
       "_view_count": null,
       "_view_module": "@jupyter-widgets/controls",
       "_view_module_version": "1.5.0",
       "_view_name": "HBoxView",
       "box_style": "",
       "children": [
        "IPY_MODEL_ef60136a00a240299d120c2c1f3c9bc6",
        "IPY_MODEL_81ff5383239a4e82b267ed3882c693bb",
        "IPY_MODEL_ea880fd69c3b4910b46153b3b4381fb9"
       ],
       "layout": "IPY_MODEL_bcdef48ceb274e39b5426001582ae7a2"
      }
     },
     "dde63f6f47be4fad8b7fe7f04a71a04a": {
      "model_module": "@jupyter-widgets/base",
      "model_module_version": "1.2.0",
      "model_name": "LayoutModel",
      "state": {
       "_model_module": "@jupyter-widgets/base",
       "_model_module_version": "1.2.0",
       "_model_name": "LayoutModel",
       "_view_count": null,
       "_view_module": "@jupyter-widgets/base",
       "_view_module_version": "1.2.0",
       "_view_name": "LayoutView",
       "align_content": null,
       "align_items": null,
       "align_self": null,
       "border": null,
       "bottom": null,
       "display": null,
       "flex": null,
       "flex_flow": null,
       "grid_area": null,
       "grid_auto_columns": null,
       "grid_auto_flow": null,
       "grid_auto_rows": null,
       "grid_column": null,
       "grid_gap": null,
       "grid_row": null,
       "grid_template_areas": null,
       "grid_template_columns": null,
       "grid_template_rows": null,
       "height": null,
       "justify_content": null,
       "justify_items": null,
       "left": null,
       "margin": null,
       "max_height": null,
       "max_width": null,
       "min_height": null,
       "min_width": null,
       "object_fit": null,
       "object_position": null,
       "order": null,
       "overflow": null,
       "overflow_x": null,
       "overflow_y": null,
       "padding": null,
       "right": null,
       "top": null,
       "visibility": null,
       "width": null
      }
     },
     "e1415cc1a1d34b70adffb5a3cf4b0b52": {
      "model_module": "@jupyter-widgets/controls",
      "model_module_version": "1.5.0",
      "model_name": "ProgressStyleModel",
      "state": {
       "_model_module": "@jupyter-widgets/controls",
       "_model_module_version": "1.5.0",
       "_model_name": "ProgressStyleModel",
       "_view_count": null,
       "_view_module": "@jupyter-widgets/base",
       "_view_module_version": "1.2.0",
       "_view_name": "StyleView",
       "bar_color": null,
       "description_width": ""
      }
     },
     "e217759148d2449c9eae4e7089104987": {
      "model_module": "@jupyter-widgets/controls",
      "model_module_version": "1.5.0",
      "model_name": "HTMLModel",
      "state": {
       "_dom_classes": [],
       "_model_module": "@jupyter-widgets/controls",
       "_model_module_version": "1.5.0",
       "_model_name": "HTMLModel",
       "_view_count": null,
       "_view_module": "@jupyter-widgets/controls",
       "_view_module_version": "1.5.0",
       "_view_name": "HTMLView",
       "description": "",
       "description_tooltip": null,
       "layout": "IPY_MODEL_6a1ad0076993428aad6d2ef4d07ae056",
       "placeholder": "​",
       "style": "IPY_MODEL_cc2e952e019240d486e64cfa03e2339d",
       "value": " 42.0/42.0 [00:00&lt;00:00, 1.34kB/s]"
      }
     },
     "e2dfdd20e61544ed8f06fcbc815b1991": {
      "model_module": "@jupyter-widgets/controls",
      "model_module_version": "1.5.0",
      "model_name": "ProgressStyleModel",
      "state": {
       "_model_module": "@jupyter-widgets/controls",
       "_model_module_version": "1.5.0",
       "_model_name": "ProgressStyleModel",
       "_view_count": null,
       "_view_module": "@jupyter-widgets/base",
       "_view_module_version": "1.2.0",
       "_view_name": "StyleView",
       "bar_color": null,
       "description_width": ""
      }
     },
     "e4a840270a614c3e98a325a1089c8d49": {
      "model_module": "@jupyter-widgets/controls",
      "model_module_version": "1.5.0",
      "model_name": "DescriptionStyleModel",
      "state": {
       "_model_module": "@jupyter-widgets/controls",
       "_model_module_version": "1.5.0",
       "_model_name": "DescriptionStyleModel",
       "_view_count": null,
       "_view_module": "@jupyter-widgets/base",
       "_view_module_version": "1.2.0",
       "_view_name": "StyleView",
       "description_width": ""
      }
     },
     "e4f9987006d444088f845a669a958d1b": {
      "model_module": "@jupyter-widgets/controls",
      "model_module_version": "1.5.0",
      "model_name": "HBoxModel",
      "state": {
       "_dom_classes": [],
       "_model_module": "@jupyter-widgets/controls",
       "_model_module_version": "1.5.0",
       "_model_name": "HBoxModel",
       "_view_count": null,
       "_view_module": "@jupyter-widgets/controls",
       "_view_module_version": "1.5.0",
       "_view_name": "HBoxView",
       "box_style": "",
       "children": [
        "IPY_MODEL_9ef2bdf9ad2e41c3b040a0a00fb6da11",
        "IPY_MODEL_b824f0319e2141b4ae17ff306d467fa5",
        "IPY_MODEL_2468217bb2064e9d8919d5ab0c245fbd"
       ],
       "layout": "IPY_MODEL_f44077aee5774826b956d8fc5ff63899"
      }
     },
     "e560d43c17394171b1fd1a3309e670a2": {
      "model_module": "@jupyter-widgets/controls",
      "model_module_version": "1.5.0",
      "model_name": "ProgressStyleModel",
      "state": {
       "_model_module": "@jupyter-widgets/controls",
       "_model_module_version": "1.5.0",
       "_model_name": "ProgressStyleModel",
       "_view_count": null,
       "_view_module": "@jupyter-widgets/base",
       "_view_module_version": "1.2.0",
       "_view_name": "StyleView",
       "bar_color": null,
       "description_width": ""
      }
     },
     "e6019733c1a749c8aef783f116a0107e": {
      "model_module": "@jupyter-widgets/base",
      "model_module_version": "1.2.0",
      "model_name": "LayoutModel",
      "state": {
       "_model_module": "@jupyter-widgets/base",
       "_model_module_version": "1.2.0",
       "_model_name": "LayoutModel",
       "_view_count": null,
       "_view_module": "@jupyter-widgets/base",
       "_view_module_version": "1.2.0",
       "_view_name": "LayoutView",
       "align_content": null,
       "align_items": null,
       "align_self": null,
       "border": null,
       "bottom": null,
       "display": null,
       "flex": null,
       "flex_flow": null,
       "grid_area": null,
       "grid_auto_columns": null,
       "grid_auto_flow": null,
       "grid_auto_rows": null,
       "grid_column": null,
       "grid_gap": null,
       "grid_row": null,
       "grid_template_areas": null,
       "grid_template_columns": null,
       "grid_template_rows": null,
       "height": null,
       "justify_content": null,
       "justify_items": null,
       "left": null,
       "margin": null,
       "max_height": null,
       "max_width": null,
       "min_height": null,
       "min_width": null,
       "object_fit": null,
       "object_position": null,
       "order": null,
       "overflow": null,
       "overflow_x": null,
       "overflow_y": null,
       "padding": null,
       "right": null,
       "top": null,
       "visibility": null,
       "width": null
      }
     },
     "e658ab4324a34221b0d633415f121d45": {
      "model_module": "@jupyter-widgets/controls",
      "model_module_version": "1.5.0",
      "model_name": "DescriptionStyleModel",
      "state": {
       "_model_module": "@jupyter-widgets/controls",
       "_model_module_version": "1.5.0",
       "_model_name": "DescriptionStyleModel",
       "_view_count": null,
       "_view_module": "@jupyter-widgets/base",
       "_view_module_version": "1.2.0",
       "_view_name": "StyleView",
       "description_width": ""
      }
     },
     "e7dd73a6e3904bf792c49a3f9c4d36dd": {
      "model_module": "@jupyter-widgets/base",
      "model_module_version": "1.2.0",
      "model_name": "LayoutModel",
      "state": {
       "_model_module": "@jupyter-widgets/base",
       "_model_module_version": "1.2.0",
       "_model_name": "LayoutModel",
       "_view_count": null,
       "_view_module": "@jupyter-widgets/base",
       "_view_module_version": "1.2.0",
       "_view_name": "LayoutView",
       "align_content": null,
       "align_items": null,
       "align_self": null,
       "border": null,
       "bottom": null,
       "display": null,
       "flex": null,
       "flex_flow": null,
       "grid_area": null,
       "grid_auto_columns": null,
       "grid_auto_flow": null,
       "grid_auto_rows": null,
       "grid_column": null,
       "grid_gap": null,
       "grid_row": null,
       "grid_template_areas": null,
       "grid_template_columns": null,
       "grid_template_rows": null,
       "height": null,
       "justify_content": null,
       "justify_items": null,
       "left": null,
       "margin": null,
       "max_height": null,
       "max_width": null,
       "min_height": null,
       "min_width": null,
       "object_fit": null,
       "object_position": null,
       "order": null,
       "overflow": null,
       "overflow_x": null,
       "overflow_y": null,
       "padding": null,
       "right": null,
       "top": null,
       "visibility": null,
       "width": null
      }
     },
     "ea880fd69c3b4910b46153b3b4381fb9": {
      "model_module": "@jupyter-widgets/controls",
      "model_module_version": "1.5.0",
      "model_name": "HTMLModel",
      "state": {
       "_dom_classes": [],
       "_model_module": "@jupyter-widgets/controls",
       "_model_module_version": "1.5.0",
       "_model_name": "HTMLModel",
       "_view_count": null,
       "_view_module": "@jupyter-widgets/controls",
       "_view_module_version": "1.5.0",
       "_view_name": "HTMLView",
       "description": "",
       "description_tooltip": null,
       "layout": "IPY_MODEL_b1e07bd7d27b4e43b9da216882689565",
       "placeholder": "​",
       "style": "IPY_MODEL_34492b643bec4dd59ed20c40b736cabe",
       "value": " 230k/230k [00:00&lt;00:00, 672kB/s]"
      }
     },
     "ebd8154f185f410483f015df795cb19d": {
      "model_module": "@jupyter-widgets/controls",
      "model_module_version": "1.5.0",
      "model_name": "HTMLModel",
      "state": {
       "_dom_classes": [],
       "_model_module": "@jupyter-widgets/controls",
       "_model_module_version": "1.5.0",
       "_model_name": "HTMLModel",
       "_view_count": null,
       "_view_module": "@jupyter-widgets/controls",
       "_view_module_version": "1.5.0",
       "_view_name": "HTMLView",
       "description": "",
       "description_tooltip": null,
       "layout": "IPY_MODEL_84c7faab494d48a48cae7cfd9a617d3e",
       "placeholder": "​",
       "style": "IPY_MODEL_5470f292e6f04b609695f3e5c4b7c621",
       "value": "Downloading: 100%"
      }
     },
     "ec1356e4c9684b1798f5bb9bb783e220": {
      "model_module": "@jupyter-widgets/base",
      "model_module_version": "1.2.0",
      "model_name": "LayoutModel",
      "state": {
       "_model_module": "@jupyter-widgets/base",
       "_model_module_version": "1.2.0",
       "_model_name": "LayoutModel",
       "_view_count": null,
       "_view_module": "@jupyter-widgets/base",
       "_view_module_version": "1.2.0",
       "_view_name": "LayoutView",
       "align_content": null,
       "align_items": null,
       "align_self": null,
       "border": null,
       "bottom": null,
       "display": null,
       "flex": null,
       "flex_flow": null,
       "grid_area": null,
       "grid_auto_columns": null,
       "grid_auto_flow": null,
       "grid_auto_rows": null,
       "grid_column": null,
       "grid_gap": null,
       "grid_row": null,
       "grid_template_areas": null,
       "grid_template_columns": null,
       "grid_template_rows": null,
       "height": null,
       "justify_content": null,
       "justify_items": null,
       "left": null,
       "margin": null,
       "max_height": null,
       "max_width": null,
       "min_height": null,
       "min_width": null,
       "object_fit": null,
       "object_position": null,
       "order": null,
       "overflow": null,
       "overflow_x": null,
       "overflow_y": null,
       "padding": null,
       "right": null,
       "top": null,
       "visibility": null,
       "width": null
      }
     },
     "ec57e9a04d084f089731685785646724": {
      "model_module": "@jupyter-widgets/controls",
      "model_module_version": "1.5.0",
      "model_name": "DescriptionStyleModel",
      "state": {
       "_model_module": "@jupyter-widgets/controls",
       "_model_module_version": "1.5.0",
       "_model_name": "DescriptionStyleModel",
       "_view_count": null,
       "_view_module": "@jupyter-widgets/base",
       "_view_module_version": "1.2.0",
       "_view_name": "StyleView",
       "description_width": ""
      }
     },
     "ed19076955a543f5842a55c48e157145": {
      "model_module": "@jupyter-widgets/controls",
      "model_module_version": "1.5.0",
      "model_name": "HTMLModel",
      "state": {
       "_dom_classes": [],
       "_model_module": "@jupyter-widgets/controls",
       "_model_module_version": "1.5.0",
       "_model_name": "HTMLModel",
       "_view_count": null,
       "_view_module": "@jupyter-widgets/controls",
       "_view_module_version": "1.5.0",
       "_view_name": "HTMLView",
       "description": "",
       "description_tooltip": null,
       "layout": "IPY_MODEL_442fbb2186e74543a14bf852db055585",
       "placeholder": "​",
       "style": "IPY_MODEL_ec57e9a04d084f089731685785646724",
       "value": "Downloading: 100%"
      }
     },
     "edfb205d70604d2f8a145ddbdd2e4f94": {
      "model_module": "@jupyter-widgets/base",
      "model_module_version": "1.2.0",
      "model_name": "LayoutModel",
      "state": {
       "_model_module": "@jupyter-widgets/base",
       "_model_module_version": "1.2.0",
       "_model_name": "LayoutModel",
       "_view_count": null,
       "_view_module": "@jupyter-widgets/base",
       "_view_module_version": "1.2.0",
       "_view_name": "LayoutView",
       "align_content": null,
       "align_items": null,
       "align_self": null,
       "border": null,
       "bottom": null,
       "display": null,
       "flex": null,
       "flex_flow": null,
       "grid_area": null,
       "grid_auto_columns": null,
       "grid_auto_flow": null,
       "grid_auto_rows": null,
       "grid_column": null,
       "grid_gap": null,
       "grid_row": null,
       "grid_template_areas": null,
       "grid_template_columns": null,
       "grid_template_rows": null,
       "height": null,
       "justify_content": null,
       "justify_items": null,
       "left": null,
       "margin": null,
       "max_height": null,
       "max_width": null,
       "min_height": null,
       "min_width": null,
       "object_fit": null,
       "object_position": null,
       "order": null,
       "overflow": null,
       "overflow_x": null,
       "overflow_y": null,
       "padding": null,
       "right": null,
       "top": null,
       "visibility": null,
       "width": null
      }
     },
     "ef60136a00a240299d120c2c1f3c9bc6": {
      "model_module": "@jupyter-widgets/controls",
      "model_module_version": "1.5.0",
      "model_name": "HTMLModel",
      "state": {
       "_dom_classes": [],
       "_model_module": "@jupyter-widgets/controls",
       "_model_module_version": "1.5.0",
       "_model_name": "HTMLModel",
       "_view_count": null,
       "_view_module": "@jupyter-widgets/controls",
       "_view_module_version": "1.5.0",
       "_view_name": "HTMLView",
       "description": "",
       "description_tooltip": null,
       "layout": "IPY_MODEL_ad280c9a734341b9845b654e964d421b",
       "placeholder": "​",
       "style": "IPY_MODEL_24f2b24e7a5a4dc9aca60715ac57ca07",
       "value": "Downloading: 100%"
      }
     },
     "f2f006034fe14034babb42ca029a5010": {
      "model_module": "@jupyter-widgets/controls",
      "model_module_version": "1.5.0",
      "model_name": "ProgressStyleModel",
      "state": {
       "_model_module": "@jupyter-widgets/controls",
       "_model_module_version": "1.5.0",
       "_model_name": "ProgressStyleModel",
       "_view_count": null,
       "_view_module": "@jupyter-widgets/base",
       "_view_module_version": "1.2.0",
       "_view_name": "StyleView",
       "bar_color": null,
       "description_width": ""
      }
     },
     "f39deb46f5a8414990b8b6db70739a11": {
      "model_module": "@jupyter-widgets/controls",
      "model_module_version": "1.5.0",
      "model_name": "FloatProgressModel",
      "state": {
       "_dom_classes": [],
       "_model_module": "@jupyter-widgets/controls",
       "_model_module_version": "1.5.0",
       "_model_name": "FloatProgressModel",
       "_view_count": null,
       "_view_module": "@jupyter-widgets/controls",
       "_view_module_version": "1.5.0",
       "_view_name": "ProgressView",
       "bar_style": "success",
       "description": "",
       "description_tooltip": null,
       "layout": "IPY_MODEL_a18718c4f3f74758967575890572a5be",
       "max": 5069051.0,
       "min": 0.0,
       "orientation": "horizontal",
       "style": "IPY_MODEL_f2f006034fe14034babb42ca029a5010",
       "value": 5069051.0
      }
     },
     "f44077aee5774826b956d8fc5ff63899": {
      "model_module": "@jupyter-widgets/base",
      "model_module_version": "1.2.0",
      "model_name": "LayoutModel",
      "state": {
       "_model_module": "@jupyter-widgets/base",
       "_model_module_version": "1.2.0",
       "_model_name": "LayoutModel",
       "_view_count": null,
       "_view_module": "@jupyter-widgets/base",
       "_view_module_version": "1.2.0",
       "_view_name": "LayoutView",
       "align_content": null,
       "align_items": null,
       "align_self": null,
       "border": null,
       "bottom": null,
       "display": null,
       "flex": null,
       "flex_flow": null,
       "grid_area": null,
       "grid_auto_columns": null,
       "grid_auto_flow": null,
       "grid_auto_rows": null,
       "grid_column": null,
       "grid_gap": null,
       "grid_row": null,
       "grid_template_areas": null,
       "grid_template_columns": null,
       "grid_template_rows": null,
       "height": null,
       "justify_content": null,
       "justify_items": null,
       "left": null,
       "margin": null,
       "max_height": null,
       "max_width": null,
       "min_height": null,
       "min_width": null,
       "object_fit": null,
       "object_position": null,
       "order": null,
       "overflow": null,
       "overflow_x": null,
       "overflow_y": null,
       "padding": null,
       "right": null,
       "top": null,
       "visibility": null,
       "width": null
      }
     },
     "f70ab0c97fa64015bc67ce45d6479716": {
      "model_module": "@jupyter-widgets/base",
      "model_module_version": "1.2.0",
      "model_name": "LayoutModel",
      "state": {
       "_model_module": "@jupyter-widgets/base",
       "_model_module_version": "1.2.0",
       "_model_name": "LayoutModel",
       "_view_count": null,
       "_view_module": "@jupyter-widgets/base",
       "_view_module_version": "1.2.0",
       "_view_name": "LayoutView",
       "align_content": null,
       "align_items": null,
       "align_self": null,
       "border": null,
       "bottom": null,
       "display": null,
       "flex": null,
       "flex_flow": null,
       "grid_area": null,
       "grid_auto_columns": null,
       "grid_auto_flow": null,
       "grid_auto_rows": null,
       "grid_column": null,
       "grid_gap": null,
       "grid_row": null,
       "grid_template_areas": null,
       "grid_template_columns": null,
       "grid_template_rows": null,
       "height": null,
       "justify_content": null,
       "justify_items": null,
       "left": null,
       "margin": null,
       "max_height": null,
       "max_width": null,
       "min_height": null,
       "min_width": null,
       "object_fit": null,
       "object_position": null,
       "order": null,
       "overflow": null,
       "overflow_x": null,
       "overflow_y": null,
       "padding": null,
       "right": null,
       "top": null,
       "visibility": null,
       "width": null
      }
     },
     "f7e66427649f4166a42561962ca3d486": {
      "model_module": "@jupyter-widgets/base",
      "model_module_version": "1.2.0",
      "model_name": "LayoutModel",
      "state": {
       "_model_module": "@jupyter-widgets/base",
       "_model_module_version": "1.2.0",
       "_model_name": "LayoutModel",
       "_view_count": null,
       "_view_module": "@jupyter-widgets/base",
       "_view_module_version": "1.2.0",
       "_view_name": "LayoutView",
       "align_content": null,
       "align_items": null,
       "align_self": null,
       "border": null,
       "bottom": null,
       "display": null,
       "flex": null,
       "flex_flow": null,
       "grid_area": null,
       "grid_auto_columns": null,
       "grid_auto_flow": null,
       "grid_auto_rows": null,
       "grid_column": null,
       "grid_gap": null,
       "grid_row": null,
       "grid_template_areas": null,
       "grid_template_columns": null,
       "grid_template_rows": null,
       "height": null,
       "justify_content": null,
       "justify_items": null,
       "left": null,
       "margin": null,
       "max_height": null,
       "max_width": null,
       "min_height": null,
       "min_width": null,
       "object_fit": null,
       "object_position": null,
       "order": null,
       "overflow": null,
       "overflow_x": null,
       "overflow_y": null,
       "padding": null,
       "right": null,
       "top": null,
       "visibility": null,
       "width": null
      }
     },
     "f84f86400929413882eb22a65b5351b9": {
      "model_module": "@jupyter-widgets/controls",
      "model_module_version": "1.5.0",
      "model_name": "DescriptionStyleModel",
      "state": {
       "_model_module": "@jupyter-widgets/controls",
       "_model_module_version": "1.5.0",
       "_model_name": "DescriptionStyleModel",
       "_view_count": null,
       "_view_module": "@jupyter-widgets/base",
       "_view_module_version": "1.2.0",
       "_view_name": "StyleView",
       "description_width": ""
      }
     },
     "f909b726b6824fa4a11e445e6dc8e683": {
      "model_module": "@jupyter-widgets/base",
      "model_module_version": "1.2.0",
      "model_name": "LayoutModel",
      "state": {
       "_model_module": "@jupyter-widgets/base",
       "_model_module_version": "1.2.0",
       "_model_name": "LayoutModel",
       "_view_count": null,
       "_view_module": "@jupyter-widgets/base",
       "_view_module_version": "1.2.0",
       "_view_name": "LayoutView",
       "align_content": null,
       "align_items": null,
       "align_self": null,
       "border": null,
       "bottom": null,
       "display": null,
       "flex": null,
       "flex_flow": null,
       "grid_area": null,
       "grid_auto_columns": null,
       "grid_auto_flow": null,
       "grid_auto_rows": null,
       "grid_column": null,
       "grid_gap": null,
       "grid_row": null,
       "grid_template_areas": null,
       "grid_template_columns": null,
       "grid_template_rows": null,
       "height": null,
       "justify_content": null,
       "justify_items": null,
       "left": null,
       "margin": null,
       "max_height": null,
       "max_width": null,
       "min_height": null,
       "min_width": null,
       "object_fit": null,
       "object_position": null,
       "order": null,
       "overflow": null,
       "overflow_x": null,
       "overflow_y": null,
       "padding": null,
       "right": null,
       "top": null,
       "visibility": null,
       "width": null
      }
     },
     "f94cfc4b7dfd44ffb3397c3600717319": {
      "model_module": "@jupyter-widgets/controls",
      "model_module_version": "1.5.0",
      "model_name": "HTMLModel",
      "state": {
       "_dom_classes": [],
       "_model_module": "@jupyter-widgets/controls",
       "_model_module_version": "1.5.0",
       "_model_name": "HTMLModel",
       "_view_count": null,
       "_view_module": "@jupyter-widgets/controls",
       "_view_module_version": "1.5.0",
       "_view_name": "HTMLView",
       "description": "",
       "description_tooltip": null,
       "layout": "IPY_MODEL_664e866049724fff94309f3c5bf0b3bd",
       "placeholder": "​",
       "style": "IPY_MODEL_6965f46d3854416dbfa29759f7a71d63",
       "value": "Downloading: 100%"
      }
     },
     "fa26d779ca414326b883cb925d3ac22c": {
      "model_module": "@jupyter-widgets/base",
      "model_module_version": "1.2.0",
      "model_name": "LayoutModel",
      "state": {
       "_model_module": "@jupyter-widgets/base",
       "_model_module_version": "1.2.0",
       "_model_name": "LayoutModel",
       "_view_count": null,
       "_view_module": "@jupyter-widgets/base",
       "_view_module_version": "1.2.0",
       "_view_name": "LayoutView",
       "align_content": null,
       "align_items": null,
       "align_self": null,
       "border": null,
       "bottom": null,
       "display": null,
       "flex": null,
       "flex_flow": null,
       "grid_area": null,
       "grid_auto_columns": null,
       "grid_auto_flow": null,
       "grid_auto_rows": null,
       "grid_column": null,
       "grid_gap": null,
       "grid_row": null,
       "grid_template_areas": null,
       "grid_template_columns": null,
       "grid_template_rows": null,
       "height": null,
       "justify_content": null,
       "justify_items": null,
       "left": null,
       "margin": null,
       "max_height": null,
       "max_width": null,
       "min_height": null,
       "min_width": null,
       "object_fit": null,
       "object_position": null,
       "order": null,
       "overflow": null,
       "overflow_x": null,
       "overflow_y": null,
       "padding": null,
       "right": null,
       "top": null,
       "visibility": null,
       "width": null
      }
     }
    },
    "version_major": 2,
    "version_minor": 0
   }
  }
 },
 "nbformat": 4,
 "nbformat_minor": 5
}
